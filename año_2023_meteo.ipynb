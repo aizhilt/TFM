{
 "cells": [
  {
   "cell_type": "markdown",
   "id": "5c626ca7",
   "metadata": {},
   "source": [
    "<img  src=\"data:image/png;base64,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\">\n",
    "\n",
    "\n",
    " #                                           Datos Meteorológicos 2023 Municipio de Madrid"
   ]
  },
  {
   "cell_type": "markdown",
   "id": "4d2427a2",
   "metadata": {},
   "source": [
    "### Autor: Alicia Ruiz Moreno"
   ]
  },
  {
   "cell_type": "code",
   "execution_count": 1,
   "id": "3645f2e7",
   "metadata": {},
   "outputs": [],
   "source": [
    "import pandas as pd"
   ]
  },
  {
   "cell_type": "code",
   "execution_count": 2,
   "id": "5e6f1fd5",
   "metadata": {},
   "outputs": [],
   "source": [
    "data = pd.read_csv('meteo23.csv', sep=';')"
   ]
  },
  {
   "cell_type": "code",
   "execution_count": 3,
   "id": "89e60ebb",
   "metadata": {},
   "outputs": [],
   "source": [
    "df= pd.DataFrame(data)"
   ]
  },
  {
   "cell_type": "code",
   "execution_count": 4,
   "id": "53cf6b36",
   "metadata": {},
   "outputs": [
    {
     "data": {
      "text/html": [
       "<div>\n",
       "<style scoped>\n",
       "    .dataframe tbody tr th:only-of-type {\n",
       "        vertical-align: middle;\n",
       "    }\n",
       "\n",
       "    .dataframe tbody tr th {\n",
       "        vertical-align: top;\n",
       "    }\n",
       "\n",
       "    .dataframe thead th {\n",
       "        text-align: right;\n",
       "    }\n",
       "</style>\n",
       "<table border=\"1\" class=\"dataframe\">\n",
       "  <thead>\n",
       "    <tr style=\"text-align: right;\">\n",
       "      <th></th>\n",
       "      <th>PROVINCIA</th>\n",
       "      <th>MUNICIPIO</th>\n",
       "      <th>ESTACION</th>\n",
       "      <th>MAGNITUD</th>\n",
       "      <th>PUNTO_MUESTREO</th>\n",
       "      <th>ANO</th>\n",
       "      <th>MES</th>\n",
       "      <th>D01</th>\n",
       "      <th>V01</th>\n",
       "      <th>D02</th>\n",
       "      <th>...</th>\n",
       "      <th>D27</th>\n",
       "      <th>V27</th>\n",
       "      <th>D28</th>\n",
       "      <th>V28</th>\n",
       "      <th>D29</th>\n",
       "      <th>V29</th>\n",
       "      <th>D30</th>\n",
       "      <th>V30</th>\n",
       "      <th>D31</th>\n",
       "      <th>V31</th>\n",
       "    </tr>\n",
       "  </thead>\n",
       "  <tbody>\n",
       "    <tr>\n",
       "      <th>0</th>\n",
       "      <td>28</td>\n",
       "      <td>79</td>\n",
       "      <td>102</td>\n",
       "      <td>81</td>\n",
       "      <td>28079102_81_98</td>\n",
       "      <td>2023</td>\n",
       "      <td>1</td>\n",
       "      <td>1.39</td>\n",
       "      <td>V</td>\n",
       "      <td>1.03</td>\n",
       "      <td>...</td>\n",
       "      <td>2.76</td>\n",
       "      <td>V</td>\n",
       "      <td>2.05</td>\n",
       "      <td>V</td>\n",
       "      <td>2.31</td>\n",
       "      <td>V</td>\n",
       "      <td>1.17</td>\n",
       "      <td>V</td>\n",
       "      <td>0.73</td>\n",
       "      <td>V</td>\n",
       "    </tr>\n",
       "    <tr>\n",
       "      <th>1</th>\n",
       "      <td>28</td>\n",
       "      <td>79</td>\n",
       "      <td>102</td>\n",
       "      <td>81</td>\n",
       "      <td>28079102_81_98</td>\n",
       "      <td>2023</td>\n",
       "      <td>2</td>\n",
       "      <td>1.69</td>\n",
       "      <td>V</td>\n",
       "      <td>1.38</td>\n",
       "      <td>...</td>\n",
       "      <td>3.33</td>\n",
       "      <td>V</td>\n",
       "      <td>2.06</td>\n",
       "      <td>V</td>\n",
       "      <td>0.00</td>\n",
       "      <td>N</td>\n",
       "      <td>0.00</td>\n",
       "      <td>N</td>\n",
       "      <td>0.00</td>\n",
       "      <td>N</td>\n",
       "    </tr>\n",
       "    <tr>\n",
       "      <th>2</th>\n",
       "      <td>28</td>\n",
       "      <td>79</td>\n",
       "      <td>102</td>\n",
       "      <td>81</td>\n",
       "      <td>28079102_81_98</td>\n",
       "      <td>2023</td>\n",
       "      <td>3</td>\n",
       "      <td>1.51</td>\n",
       "      <td>V</td>\n",
       "      <td>1.18</td>\n",
       "      <td>...</td>\n",
       "      <td>1.49</td>\n",
       "      <td>V</td>\n",
       "      <td>1.43</td>\n",
       "      <td>V</td>\n",
       "      <td>1.67</td>\n",
       "      <td>V</td>\n",
       "      <td>3.19</td>\n",
       "      <td>V</td>\n",
       "      <td>3.35</td>\n",
       "      <td>V</td>\n",
       "    </tr>\n",
       "    <tr>\n",
       "      <th>3</th>\n",
       "      <td>28</td>\n",
       "      <td>79</td>\n",
       "      <td>102</td>\n",
       "      <td>81</td>\n",
       "      <td>28079102_81_98</td>\n",
       "      <td>2023</td>\n",
       "      <td>4</td>\n",
       "      <td>3.94</td>\n",
       "      <td>V</td>\n",
       "      <td>2.17</td>\n",
       "      <td>...</td>\n",
       "      <td>1.53</td>\n",
       "      <td>V</td>\n",
       "      <td>1.68</td>\n",
       "      <td>V</td>\n",
       "      <td>1.72</td>\n",
       "      <td>V</td>\n",
       "      <td>2.41</td>\n",
       "      <td>V</td>\n",
       "      <td>0.00</td>\n",
       "      <td>N</td>\n",
       "    </tr>\n",
       "    <tr>\n",
       "      <th>4</th>\n",
       "      <td>28</td>\n",
       "      <td>79</td>\n",
       "      <td>102</td>\n",
       "      <td>81</td>\n",
       "      <td>28079102_81_98</td>\n",
       "      <td>2023</td>\n",
       "      <td>5</td>\n",
       "      <td>2.26</td>\n",
       "      <td>V</td>\n",
       "      <td>1.66</td>\n",
       "      <td>...</td>\n",
       "      <td>2.14</td>\n",
       "      <td>V</td>\n",
       "      <td>1.12</td>\n",
       "      <td>V</td>\n",
       "      <td>1.32</td>\n",
       "      <td>V</td>\n",
       "      <td>1.62</td>\n",
       "      <td>V</td>\n",
       "      <td>1.37</td>\n",
       "      <td>V</td>\n",
       "    </tr>\n",
       "    <tr>\n",
       "      <th>...</th>\n",
       "      <td>...</td>\n",
       "      <td>...</td>\n",
       "      <td>...</td>\n",
       "      <td>...</td>\n",
       "      <td>...</td>\n",
       "      <td>...</td>\n",
       "      <td>...</td>\n",
       "      <td>...</td>\n",
       "      <td>...</td>\n",
       "      <td>...</td>\n",
       "      <td>...</td>\n",
       "      <td>...</td>\n",
       "      <td>...</td>\n",
       "      <td>...</td>\n",
       "      <td>...</td>\n",
       "      <td>...</td>\n",
       "      <td>...</td>\n",
       "      <td>...</td>\n",
       "      <td>...</td>\n",
       "      <td>...</td>\n",
       "      <td>...</td>\n",
       "    </tr>\n",
       "    <tr>\n",
       "      <th>647</th>\n",
       "      <td>28</td>\n",
       "      <td>79</td>\n",
       "      <td>59</td>\n",
       "      <td>89</td>\n",
       "      <td>28079059_89_98</td>\n",
       "      <td>2023</td>\n",
       "      <td>3</td>\n",
       "      <td>0.00</td>\n",
       "      <td>V</td>\n",
       "      <td>0.00</td>\n",
       "      <td>...</td>\n",
       "      <td>0.00</td>\n",
       "      <td>V</td>\n",
       "      <td>0.00</td>\n",
       "      <td>V</td>\n",
       "      <td>0.00</td>\n",
       "      <td>V</td>\n",
       "      <td>0.00</td>\n",
       "      <td>V</td>\n",
       "      <td>0.00</td>\n",
       "      <td>V</td>\n",
       "    </tr>\n",
       "    <tr>\n",
       "      <th>648</th>\n",
       "      <td>28</td>\n",
       "      <td>79</td>\n",
       "      <td>59</td>\n",
       "      <td>89</td>\n",
       "      <td>28079059_89_98</td>\n",
       "      <td>2023</td>\n",
       "      <td>4</td>\n",
       "      <td>0.00</td>\n",
       "      <td>V</td>\n",
       "      <td>0.00</td>\n",
       "      <td>...</td>\n",
       "      <td>0.00</td>\n",
       "      <td>V</td>\n",
       "      <td>0.00</td>\n",
       "      <td>V</td>\n",
       "      <td>0.50</td>\n",
       "      <td>V</td>\n",
       "      <td>0.00</td>\n",
       "      <td>V</td>\n",
       "      <td>0.00</td>\n",
       "      <td>N</td>\n",
       "    </tr>\n",
       "    <tr>\n",
       "      <th>649</th>\n",
       "      <td>28</td>\n",
       "      <td>79</td>\n",
       "      <td>59</td>\n",
       "      <td>89</td>\n",
       "      <td>28079059_89_98</td>\n",
       "      <td>2023</td>\n",
       "      <td>5</td>\n",
       "      <td>0.00</td>\n",
       "      <td>V</td>\n",
       "      <td>0.00</td>\n",
       "      <td>...</td>\n",
       "      <td>8.80</td>\n",
       "      <td>V</td>\n",
       "      <td>1.50</td>\n",
       "      <td>V</td>\n",
       "      <td>19.50</td>\n",
       "      <td>V</td>\n",
       "      <td>2.90</td>\n",
       "      <td>V</td>\n",
       "      <td>0.00</td>\n",
       "      <td>V</td>\n",
       "    </tr>\n",
       "    <tr>\n",
       "      <th>650</th>\n",
       "      <td>28</td>\n",
       "      <td>79</td>\n",
       "      <td>59</td>\n",
       "      <td>89</td>\n",
       "      <td>28079059_89_98</td>\n",
       "      <td>2023</td>\n",
       "      <td>6</td>\n",
       "      <td>9.20</td>\n",
       "      <td>V</td>\n",
       "      <td>3.80</td>\n",
       "      <td>...</td>\n",
       "      <td>0.00</td>\n",
       "      <td>V</td>\n",
       "      <td>0.00</td>\n",
       "      <td>V</td>\n",
       "      <td>0.00</td>\n",
       "      <td>V</td>\n",
       "      <td>0.00</td>\n",
       "      <td>V</td>\n",
       "      <td>0.00</td>\n",
       "      <td>N</td>\n",
       "    </tr>\n",
       "    <tr>\n",
       "      <th>651</th>\n",
       "      <td>28</td>\n",
       "      <td>79</td>\n",
       "      <td>59</td>\n",
       "      <td>89</td>\n",
       "      <td>28079059_89_98</td>\n",
       "      <td>2023</td>\n",
       "      <td>7</td>\n",
       "      <td>0.00</td>\n",
       "      <td>V</td>\n",
       "      <td>0.00</td>\n",
       "      <td>...</td>\n",
       "      <td>0.00</td>\n",
       "      <td>V</td>\n",
       "      <td>0.00</td>\n",
       "      <td>V</td>\n",
       "      <td>0.00</td>\n",
       "      <td>V</td>\n",
       "      <td>0.00</td>\n",
       "      <td>V</td>\n",
       "      <td>0.00</td>\n",
       "      <td>V</td>\n",
       "    </tr>\n",
       "  </tbody>\n",
       "</table>\n",
       "<p>652 rows × 69 columns</p>\n",
       "</div>"
      ],
      "text/plain": [
       "     PROVINCIA  MUNICIPIO  ESTACION  MAGNITUD  PUNTO_MUESTREO   ANO  MES  \\\n",
       "0           28         79       102        81  28079102_81_98  2023    1   \n",
       "1           28         79       102        81  28079102_81_98  2023    2   \n",
       "2           28         79       102        81  28079102_81_98  2023    3   \n",
       "3           28         79       102        81  28079102_81_98  2023    4   \n",
       "4           28         79       102        81  28079102_81_98  2023    5   \n",
       "..         ...        ...       ...       ...             ...   ...  ...   \n",
       "647         28         79        59        89  28079059_89_98  2023    3   \n",
       "648         28         79        59        89  28079059_89_98  2023    4   \n",
       "649         28         79        59        89  28079059_89_98  2023    5   \n",
       "650         28         79        59        89  28079059_89_98  2023    6   \n",
       "651         28         79        59        89  28079059_89_98  2023    7   \n",
       "\n",
       "      D01 V01   D02  ...   D27  V27   D28  V28    D29  V29   D30  V30   D31  \\\n",
       "0    1.39   V  1.03  ...  2.76    V  2.05    V   2.31    V  1.17    V  0.73   \n",
       "1    1.69   V  1.38  ...  3.33    V  2.06    V   0.00    N  0.00    N  0.00   \n",
       "2    1.51   V  1.18  ...  1.49    V  1.43    V   1.67    V  3.19    V  3.35   \n",
       "3    3.94   V  2.17  ...  1.53    V  1.68    V   1.72    V  2.41    V  0.00   \n",
       "4    2.26   V  1.66  ...  2.14    V  1.12    V   1.32    V  1.62    V  1.37   \n",
       "..    ...  ..   ...  ...   ...  ...   ...  ...    ...  ...   ...  ...   ...   \n",
       "647  0.00   V  0.00  ...  0.00    V  0.00    V   0.00    V  0.00    V  0.00   \n",
       "648  0.00   V  0.00  ...  0.00    V  0.00    V   0.50    V  0.00    V  0.00   \n",
       "649  0.00   V  0.00  ...  8.80    V  1.50    V  19.50    V  2.90    V  0.00   \n",
       "650  9.20   V  3.80  ...  0.00    V  0.00    V   0.00    V  0.00    V  0.00   \n",
       "651  0.00   V  0.00  ...  0.00    V  0.00    V   0.00    V  0.00    V  0.00   \n",
       "\n",
       "     V31  \n",
       "0      V  \n",
       "1      N  \n",
       "2      V  \n",
       "3      N  \n",
       "4      V  \n",
       "..   ...  \n",
       "647    V  \n",
       "648    N  \n",
       "649    V  \n",
       "650    N  \n",
       "651    V  \n",
       "\n",
       "[652 rows x 69 columns]"
      ]
     },
     "execution_count": 4,
     "metadata": {},
     "output_type": "execute_result"
    }
   ],
   "source": [
    "df"
   ]
  },
  {
   "cell_type": "markdown",
   "id": "90e38902",
   "metadata": {},
   "source": [
    "- Modificación de la estructura"
   ]
  },
  {
   "cell_type": "code",
   "execution_count": 5,
   "id": "25e0e6cd",
   "metadata": {},
   "outputs": [],
   "source": [
    "import datetime"
   ]
  },
  {
   "cell_type": "code",
   "execution_count": 6,
   "id": "2a869e77",
   "metadata": {},
   "outputs": [],
   "source": [
    "def Reshape(df):\n",
    "    for i, row in df.iterrows():\n",
    "        df.loc[i,'01'] = str(row['D01']) + row ['V01']\n",
    "        df.loc[i,'02'] = str(row['D02']) + row ['V02']\n",
    "        df.loc[i,'03'] = str(row['D03']) + row ['V03']\n",
    "        df.loc[i,'04'] = str(row['D04']) + row ['V04']\n",
    "        df.loc[i,'05'] = str(row['D05']) + row ['V05']\n",
    "        df.loc[i,'06'] = str(row['D06']) + row ['V06']\n",
    "        df.loc[i,'07'] = str(row['D07']) + row ['V07']\n",
    "        df.loc[i,'08'] = str(row['D08']) + row ['V08']\n",
    "        df.loc[i,'09'] = str(row['D09']) + row ['V09']\n",
    "        df.loc[i,'10'] = str(row['D10']) + row ['V10']\n",
    "        df.loc[i,'11'] = str(row['D11']) + row ['V11']\n",
    "        df.loc[i,'12'] = str(row['D12']) + row ['V12']\n",
    "        df.loc[i,'13'] = str(row['D13']) + row ['V13']\n",
    "        df.loc[i,'14'] = str(row['D14']) + row ['V14']\n",
    "        df.loc[i,'15'] = str(row['D15']) + row ['V15']\n",
    "        df.loc[i,'16'] = str(row['D16']) + row ['V16']\n",
    "        df.loc[i,'17'] = str(row['D17']) + row ['V17']\n",
    "        df.loc[i,'18'] = str(row['D18']) + row ['V18']\n",
    "        df.loc[i,'19'] = str(row['D19']) + row ['V19']\n",
    "        df.loc[i,'20'] = str(row['D20']) + row ['V20']\n",
    "        df.loc[i,'21'] = str(row['D21']) + row ['V21']\n",
    "        df.loc[i,'22'] = str(row['D22']) + row ['V22']\n",
    "        df.loc[i,'23'] = str(row['D23']) + row ['V23']\n",
    "        df.loc[i,'24'] = str(row['D24']) + row ['V24']\n",
    "        df.loc[i,'25'] = str(row['D25']) + row ['V25']\n",
    "        df.loc[i,'26'] = str(row['D26']) + row ['V26']\n",
    "        df.loc[i,'27'] = str(row['D27']) + row ['V27']\n",
    "        df.loc[i,'28'] = str(row['D28']) + row ['V28']\n",
    "        df.loc[i,'29'] = str(row['D29']) + row ['V29']\n",
    "        df.loc[i,'30'] = str(row['D30']) + row ['V30']\n",
    "        df.loc[i,'31'] = str(row['D31']) + row ['V31']\n",
    "    \n",
    "    df = df.drop(['D01', 'V01', 'D02', 'V02', 'D03', 'V03', 'D04', 'V04', 'D05', 'V05', 'D06', 'V06', 'D07', 'V07', \n",
    "                  'D08', 'V08', 'D09', 'V09', 'D10', 'V10', 'D11', 'V11', 'D12', 'V12', 'D13', 'V13', 'D14', 'V14',\n",
    "                  'D15', 'V15', 'D16', 'V16', 'D17', 'V17', 'D18', 'V18', 'D19', 'V19', 'D20', 'V20', 'D21', 'V21', \n",
    "                  'D22', 'V22', 'D23', 'V23', 'D24', 'V24', 'D25', 'V25', 'D26', 'V26', 'D27', 'V27', 'D28', 'V28', \n",
    "                  'D29', 'V29', 'D30', 'V30', 'D31', 'V31'], axis = 1)\n",
    "    \n",
    "    df = pd.melt(df, id_vars = ['PROVINCIA', 'MUNICIPIO', 'ESTACION', 'MAGNITUD', 'PUNTO_MUESTREO', 'ANO', 'MES'],\n",
    "                var_name = 'DIA',\n",
    "                value_name = 'valor')\n",
    "    \n",
    "    df = df[~((df['MES'].isin([4,6,9,11])) & (df['DIA']==str(31)))]\n",
    "    df = df[~((df['MES'] == 2) & (df['DIA'].isin([str(29), str(30), str(31)])) & (df['ANO']== 2019))]\n",
    "    df = df[~((df['MES'] == 2) & (df['DIA'].isin([str(30), str(31)])) & (df['ANO']== 2020))]\n",
    "    df = df[~((df['MES'] == 2) & (df['DIA'].isin([str(29), str(30), str(31)])) & (df['ANO']== 2021))]\n",
    "    df = df[~((df['MES'] == 2) & (df['DIA'].isin([str(29), str(30), str(31)])) & (df['ANO']== 2022))]\n",
    "    df = df[~((df['MES'] == 2) & (df['DIA'].isin([str(29), str(30), str(31)])) & (df['ANO']== 2023))]\n",
    "    \n",
    "    df.rename(columns = {'ANO': 'year', 'MES': 'month', 'DIA': 'day'}, inplace=True)\n",
    "    df['year'] = df['year'].astype(int)\n",
    "    df['month'] = df['month'].astype(int)\n",
    "    df['day'] = df['day'].astype(int)\n",
    "    \n",
    "    df['Datetime'] = ''\n",
    "    for i, row in df.iterrows():\n",
    "        df.at[i, 'Datetime'] = datetime.date(year = row['year'], day = row['day'], month = row['month'])\n",
    "    \n",
    "    for i, row in df.iterrows():\n",
    "        df.loc[i,'validacion'] = row['valor'][len(row['valor'])-1]\n",
    "        df.loc[i, 'valor'] = row['valor'][0:len(row['valor'])-1]\n",
    "    \n",
    "    df = df[df['validacion']== 'V']\n",
    "    df['valor'] = df['valor'].astype('float')\n",
    "    for i, row in df.iterrows():\n",
    "        df.loc[i,'id'] = str(row['Datetime']) + '-' + str(row['ESTACION'])\n",
    "    \n",
    "    return(df)"
   ]
  },
  {
   "cell_type": "code",
   "execution_count": 7,
   "id": "8e5d70d3",
   "metadata": {},
   "outputs": [],
   "source": [
    "df1 = Reshape(df)"
   ]
  },
  {
   "cell_type": "code",
   "execution_count": 8,
   "id": "d892383f",
   "metadata": {
    "scrolled": true
   },
   "outputs": [
    {
     "data": {
      "text/html": [
       "<div>\n",
       "<style scoped>\n",
       "    .dataframe tbody tr th:only-of-type {\n",
       "        vertical-align: middle;\n",
       "    }\n",
       "\n",
       "    .dataframe tbody tr th {\n",
       "        vertical-align: top;\n",
       "    }\n",
       "\n",
       "    .dataframe thead th {\n",
       "        text-align: right;\n",
       "    }\n",
       "</style>\n",
       "<table border=\"1\" class=\"dataframe\">\n",
       "  <thead>\n",
       "    <tr style=\"text-align: right;\">\n",
       "      <th></th>\n",
       "      <th>PROVINCIA</th>\n",
       "      <th>MUNICIPIO</th>\n",
       "      <th>ESTACION</th>\n",
       "      <th>MAGNITUD</th>\n",
       "      <th>PUNTO_MUESTREO</th>\n",
       "      <th>year</th>\n",
       "      <th>month</th>\n",
       "      <th>day</th>\n",
       "      <th>valor</th>\n",
       "      <th>Datetime</th>\n",
       "      <th>validacion</th>\n",
       "      <th>id</th>\n",
       "    </tr>\n",
       "  </thead>\n",
       "  <tbody>\n",
       "    <tr>\n",
       "      <th>0</th>\n",
       "      <td>28</td>\n",
       "      <td>79</td>\n",
       "      <td>102</td>\n",
       "      <td>81</td>\n",
       "      <td>28079102_81_98</td>\n",
       "      <td>2023</td>\n",
       "      <td>1</td>\n",
       "      <td>1</td>\n",
       "      <td>1.39</td>\n",
       "      <td>2023-01-01</td>\n",
       "      <td>V</td>\n",
       "      <td>2023-01-01-102</td>\n",
       "    </tr>\n",
       "    <tr>\n",
       "      <th>1</th>\n",
       "      <td>28</td>\n",
       "      <td>79</td>\n",
       "      <td>102</td>\n",
       "      <td>81</td>\n",
       "      <td>28079102_81_98</td>\n",
       "      <td>2023</td>\n",
       "      <td>2</td>\n",
       "      <td>1</td>\n",
       "      <td>1.69</td>\n",
       "      <td>2023-02-01</td>\n",
       "      <td>V</td>\n",
       "      <td>2023-02-01-102</td>\n",
       "    </tr>\n",
       "    <tr>\n",
       "      <th>2</th>\n",
       "      <td>28</td>\n",
       "      <td>79</td>\n",
       "      <td>102</td>\n",
       "      <td>81</td>\n",
       "      <td>28079102_81_98</td>\n",
       "      <td>2023</td>\n",
       "      <td>3</td>\n",
       "      <td>1</td>\n",
       "      <td>1.51</td>\n",
       "      <td>2023-03-01</td>\n",
       "      <td>V</td>\n",
       "      <td>2023-03-01-102</td>\n",
       "    </tr>\n",
       "    <tr>\n",
       "      <th>3</th>\n",
       "      <td>28</td>\n",
       "      <td>79</td>\n",
       "      <td>102</td>\n",
       "      <td>81</td>\n",
       "      <td>28079102_81_98</td>\n",
       "      <td>2023</td>\n",
       "      <td>4</td>\n",
       "      <td>1</td>\n",
       "      <td>3.94</td>\n",
       "      <td>2023-04-01</td>\n",
       "      <td>V</td>\n",
       "      <td>2023-04-01-102</td>\n",
       "    </tr>\n",
       "    <tr>\n",
       "      <th>4</th>\n",
       "      <td>28</td>\n",
       "      <td>79</td>\n",
       "      <td>102</td>\n",
       "      <td>81</td>\n",
       "      <td>28079102_81_98</td>\n",
       "      <td>2023</td>\n",
       "      <td>5</td>\n",
       "      <td>1</td>\n",
       "      <td>2.26</td>\n",
       "      <td>2023-05-01</td>\n",
       "      <td>V</td>\n",
       "      <td>2023-05-01-102</td>\n",
       "    </tr>\n",
       "    <tr>\n",
       "      <th>...</th>\n",
       "      <td>...</td>\n",
       "      <td>...</td>\n",
       "      <td>...</td>\n",
       "      <td>...</td>\n",
       "      <td>...</td>\n",
       "      <td>...</td>\n",
       "      <td>...</td>\n",
       "      <td>...</td>\n",
       "      <td>...</td>\n",
       "      <td>...</td>\n",
       "      <td>...</td>\n",
       "      <td>...</td>\n",
       "    </tr>\n",
       "    <tr>\n",
       "      <th>20204</th>\n",
       "      <td>28</td>\n",
       "      <td>79</td>\n",
       "      <td>59</td>\n",
       "      <td>88</td>\n",
       "      <td>28079059_88_98</td>\n",
       "      <td>2023</td>\n",
       "      <td>7</td>\n",
       "      <td>31</td>\n",
       "      <td>330.00</td>\n",
       "      <td>2023-07-31</td>\n",
       "      <td>V</td>\n",
       "      <td>2023-07-31-59</td>\n",
       "    </tr>\n",
       "    <tr>\n",
       "      <th>20205</th>\n",
       "      <td>28</td>\n",
       "      <td>79</td>\n",
       "      <td>59</td>\n",
       "      <td>89</td>\n",
       "      <td>28079059_89_98</td>\n",
       "      <td>2023</td>\n",
       "      <td>1</td>\n",
       "      <td>31</td>\n",
       "      <td>0.00</td>\n",
       "      <td>2023-01-31</td>\n",
       "      <td>V</td>\n",
       "      <td>2023-01-31-59</td>\n",
       "    </tr>\n",
       "    <tr>\n",
       "      <th>20207</th>\n",
       "      <td>28</td>\n",
       "      <td>79</td>\n",
       "      <td>59</td>\n",
       "      <td>89</td>\n",
       "      <td>28079059_89_98</td>\n",
       "      <td>2023</td>\n",
       "      <td>3</td>\n",
       "      <td>31</td>\n",
       "      <td>0.00</td>\n",
       "      <td>2023-03-31</td>\n",
       "      <td>V</td>\n",
       "      <td>2023-03-31-59</td>\n",
       "    </tr>\n",
       "    <tr>\n",
       "      <th>20209</th>\n",
       "      <td>28</td>\n",
       "      <td>79</td>\n",
       "      <td>59</td>\n",
       "      <td>89</td>\n",
       "      <td>28079059_89_98</td>\n",
       "      <td>2023</td>\n",
       "      <td>5</td>\n",
       "      <td>31</td>\n",
       "      <td>0.00</td>\n",
       "      <td>2023-05-31</td>\n",
       "      <td>V</td>\n",
       "      <td>2023-05-31-59</td>\n",
       "    </tr>\n",
       "    <tr>\n",
       "      <th>20211</th>\n",
       "      <td>28</td>\n",
       "      <td>79</td>\n",
       "      <td>59</td>\n",
       "      <td>89</td>\n",
       "      <td>28079059_89_98</td>\n",
       "      <td>2023</td>\n",
       "      <td>7</td>\n",
       "      <td>31</td>\n",
       "      <td>0.00</td>\n",
       "      <td>2023-07-31</td>\n",
       "      <td>V</td>\n",
       "      <td>2023-07-31-59</td>\n",
       "    </tr>\n",
       "  </tbody>\n",
       "</table>\n",
       "<p>18820 rows × 12 columns</p>\n",
       "</div>"
      ],
      "text/plain": [
       "       PROVINCIA  MUNICIPIO  ESTACION  MAGNITUD  PUNTO_MUESTREO  year  month  \\\n",
       "0             28         79       102        81  28079102_81_98  2023      1   \n",
       "1             28         79       102        81  28079102_81_98  2023      2   \n",
       "2             28         79       102        81  28079102_81_98  2023      3   \n",
       "3             28         79       102        81  28079102_81_98  2023      4   \n",
       "4             28         79       102        81  28079102_81_98  2023      5   \n",
       "...          ...        ...       ...       ...             ...   ...    ...   \n",
       "20204         28         79        59        88  28079059_88_98  2023      7   \n",
       "20205         28         79        59        89  28079059_89_98  2023      1   \n",
       "20207         28         79        59        89  28079059_89_98  2023      3   \n",
       "20209         28         79        59        89  28079059_89_98  2023      5   \n",
       "20211         28         79        59        89  28079059_89_98  2023      7   \n",
       "\n",
       "       day   valor    Datetime validacion              id  \n",
       "0        1    1.39  2023-01-01          V  2023-01-01-102  \n",
       "1        1    1.69  2023-02-01          V  2023-02-01-102  \n",
       "2        1    1.51  2023-03-01          V  2023-03-01-102  \n",
       "3        1    3.94  2023-04-01          V  2023-04-01-102  \n",
       "4        1    2.26  2023-05-01          V  2023-05-01-102  \n",
       "...    ...     ...         ...        ...             ...  \n",
       "20204   31  330.00  2023-07-31          V   2023-07-31-59  \n",
       "20205   31    0.00  2023-01-31          V   2023-01-31-59  \n",
       "20207   31    0.00  2023-03-31          V   2023-03-31-59  \n",
       "20209   31    0.00  2023-05-31          V   2023-05-31-59  \n",
       "20211   31    0.00  2023-07-31          V   2023-07-31-59  \n",
       "\n",
       "[18820 rows x 12 columns]"
      ]
     },
     "execution_count": 8,
     "metadata": {},
     "output_type": "execute_result"
    }
   ],
   "source": [
    "df1"
   ]
  },
  {
   "cell_type": "code",
   "execution_count": 9,
   "id": "cde3a0c8",
   "metadata": {},
   "outputs": [],
   "source": [
    "df1['MAGNITUD'] = df1['MAGNITUD'].replace({80: 'RU', 81: 'VV', 82: 'DV', 83: 'TEMP', 86: 'HR', 87: 'PB', 88: 'RS',\n",
    "                                        89: 'P'})"
   ]
  },
  {
   "cell_type": "code",
   "execution_count": 10,
   "id": "3f6e222a",
   "metadata": {
    "scrolled": true
   },
   "outputs": [
    {
     "data": {
      "text/plain": [
       "(18820, 12)"
      ]
     },
     "execution_count": 10,
     "metadata": {},
     "output_type": "execute_result"
    }
   ],
   "source": [
    "df1.shape"
   ]
  },
  {
   "cell_type": "code",
   "execution_count": 11,
   "id": "867fc948",
   "metadata": {
    "scrolled": false
   },
   "outputs": [
    {
     "name": "stdout",
     "output_type": "stream",
     "text": [
      "<class 'pandas.core.frame.DataFrame'>\n",
      "Int64Index: 18820 entries, 0 to 20211\n",
      "Data columns (total 12 columns):\n",
      " #   Column          Non-Null Count  Dtype  \n",
      "---  ------          --------------  -----  \n",
      " 0   PROVINCIA       18820 non-null  int64  \n",
      " 1   MUNICIPIO       18820 non-null  int64  \n",
      " 2   ESTACION        18820 non-null  int64  \n",
      " 3   MAGNITUD        18820 non-null  object \n",
      " 4   PUNTO_MUESTREO  18820 non-null  object \n",
      " 5   year            18820 non-null  int64  \n",
      " 6   month           18820 non-null  int64  \n",
      " 7   day             18820 non-null  int64  \n",
      " 8   valor           18820 non-null  float64\n",
      " 9   Datetime        18820 non-null  object \n",
      " 10  validacion      18820 non-null  object \n",
      " 11  id              18820 non-null  object \n",
      "dtypes: float64(1), int64(6), object(5)\n",
      "memory usage: 2.4+ MB\n"
     ]
    }
   ],
   "source": [
    "df1.info()"
   ]
  },
  {
   "cell_type": "code",
   "execution_count": 12,
   "id": "29c25e56",
   "metadata": {
    "scrolled": true
   },
   "outputs": [
    {
     "data": {
      "text/plain": [
       "0"
      ]
     },
     "execution_count": 12,
     "metadata": {},
     "output_type": "execute_result"
    }
   ],
   "source": [
    "df1.duplicated().sum()"
   ]
  },
  {
   "cell_type": "code",
   "execution_count": 13,
   "id": "9b7db699",
   "metadata": {},
   "outputs": [],
   "source": [
    "df1.to_csv(\"2023_METEO.csv\", index=False)"
   ]
  },
  {
   "cell_type": "markdown",
   "id": "f1f91345",
   "metadata": {},
   "source": [
    "## ANALISIS SERIE TEMPORAL"
   ]
  },
  {
   "cell_type": "markdown",
   "id": "ee75afb6",
   "metadata": {},
   "source": [
    "- Temperatura"
   ]
  },
  {
   "cell_type": "code",
   "execution_count": 14,
   "id": "52369827",
   "metadata": {},
   "outputs": [],
   "source": [
    "time_TEMP = df1[['Datetime', 'valor']][df1['MAGNITUD'] == 'TEMP']"
   ]
  },
  {
   "cell_type": "code",
   "execution_count": 15,
   "id": "0abea740",
   "metadata": {},
   "outputs": [],
   "source": [
    "time_TEMP['Datetime'] = pd.to_datetime(time_TEMP['Datetime'])"
   ]
  },
  {
   "cell_type": "code",
   "execution_count": 16,
   "id": "0f4156fe",
   "metadata": {},
   "outputs": [],
   "source": [
    "time_TEMP['year'] = time_TEMP['Datetime'].dt.year\n",
    "time_TEMP['month'] = time_TEMP['Datetime'].dt.month"
   ]
  },
  {
   "cell_type": "code",
   "execution_count": 17,
   "id": "2f59edad",
   "metadata": {},
   "outputs": [],
   "source": [
    "temperatura_promedio = time_TEMP.groupby(['year', 'month'])['valor'].mean().reset_index()"
   ]
  },
  {
   "cell_type": "code",
   "execution_count": 18,
   "id": "70dc8c21",
   "metadata": {
    "scrolled": true
   },
   "outputs": [
    {
     "name": "stdout",
     "output_type": "stream",
     "text": [
      "   year  month      valor\n",
      "0  2023      1   6.234332\n",
      "1  2023      2   7.389568\n",
      "2  2023      3  12.465421\n",
      "3  2023      4  17.302954\n",
      "4  2023      5  17.561549\n",
      "5  2023      6  23.305015\n",
      "6  2023      7  27.784959\n"
     ]
    }
   ],
   "source": [
    "print(temperatura_promedio)"
   ]
  },
  {
   "cell_type": "markdown",
   "id": "d51677ea",
   "metadata": {},
   "source": [
    "- Precipitación"
   ]
  },
  {
   "cell_type": "code",
   "execution_count": 19,
   "id": "5e252dc1",
   "metadata": {},
   "outputs": [],
   "source": [
    "time_P = df1[['Datetime', 'valor']][df1['MAGNITUD'] == 'P']"
   ]
  },
  {
   "cell_type": "code",
   "execution_count": 20,
   "id": "e389a5d7",
   "metadata": {},
   "outputs": [],
   "source": [
    "time_P['Datetime'] = pd.to_datetime(time_P['Datetime'])"
   ]
  },
  {
   "cell_type": "code",
   "execution_count": 21,
   "id": "c753d0eb",
   "metadata": {},
   "outputs": [],
   "source": [
    "time_P['year'] = time_P['Datetime'].dt.year\n",
    "time_P['month'] = time_P['Datetime'].dt.month"
   ]
  },
  {
   "cell_type": "code",
   "execution_count": 22,
   "id": "6e3e8722",
   "metadata": {},
   "outputs": [],
   "source": [
    "precipitacion_promedio = time_P.groupby(['year', 'month'])['valor'].mean().reset_index()"
   ]
  },
  {
   "cell_type": "code",
   "execution_count": 23,
   "id": "b6de2e94",
   "metadata": {
    "scrolled": true
   },
   "outputs": [
    {
     "name": "stdout",
     "output_type": "stream",
     "text": [
      "   year  month     valor\n",
      "0  2023      1  0.350836\n",
      "1  2023      2  0.067407\n",
      "2  2023      3  0.510596\n",
      "3  2023      4  0.282432\n",
      "4  2023      5  1.959935\n",
      "5  2023      6  1.049828\n",
      "6  2023      7  0.000000\n"
     ]
    }
   ],
   "source": [
    "print(precipitacion_promedio)"
   ]
  },
  {
   "cell_type": "markdown",
   "id": "e68c076a",
   "metadata": {},
   "source": [
    "- Humedad relativa"
   ]
  },
  {
   "cell_type": "code",
   "execution_count": 24,
   "id": "483f81ab",
   "metadata": {},
   "outputs": [],
   "source": [
    "time_HR = df1[['Datetime', 'valor']][df1['MAGNITUD'] == 'HR']"
   ]
  },
  {
   "cell_type": "code",
   "execution_count": 25,
   "id": "4a670fee",
   "metadata": {},
   "outputs": [],
   "source": [
    "time_HR['Datetime'] = pd.to_datetime(time_HR['Datetime'])"
   ]
  },
  {
   "cell_type": "code",
   "execution_count": 26,
   "id": "fdacd93b",
   "metadata": {},
   "outputs": [],
   "source": [
    "time_HR['year'] = time_HR['Datetime'].dt.year\n",
    "time_HR['month'] = time_HR['Datetime'].dt.month"
   ]
  },
  {
   "cell_type": "code",
   "execution_count": 27,
   "id": "f3e42df6",
   "metadata": {
    "scrolled": true
   },
   "outputs": [
    {
     "name": "stdout",
     "output_type": "stream",
     "text": [
      "   year  month      valor\n",
      "0  2023      1  68.866071\n",
      "1  2023      2  55.000000\n",
      "2  2023      3  55.164157\n",
      "3  2023      4  36.844615\n",
      "4  2023      5  47.706790\n",
      "5  2023      6  53.593548\n",
      "6  2023      7  32.986686\n"
     ]
    }
   ],
   "source": [
    "humedad_promedio = time_HR.groupby(['year', 'month'])['valor'].mean().reset_index()\n",
    "print(humedad_promedio)"
   ]
  },
  {
   "cell_type": "markdown",
   "id": "ba15b2e0",
   "metadata": {},
   "source": [
    "- Radiación solar"
   ]
  },
  {
   "cell_type": "code",
   "execution_count": 28,
   "id": "a793ac9c",
   "metadata": {},
   "outputs": [],
   "source": [
    "time_RS = df1[['Datetime', 'valor']][df1['MAGNITUD'] == 'RS']"
   ]
  },
  {
   "cell_type": "code",
   "execution_count": 29,
   "id": "5fbb1070",
   "metadata": {},
   "outputs": [],
   "source": [
    "time_RS['Datetime'] = pd.to_datetime(time_RS['Datetime'])"
   ]
  },
  {
   "cell_type": "code",
   "execution_count": 30,
   "id": "abeddb3a",
   "metadata": {},
   "outputs": [],
   "source": [
    "time_RS['year'] = time_RS['Datetime'].dt.year\n",
    "time_RS['month'] = time_RS['Datetime'].dt.month"
   ]
  },
  {
   "cell_type": "code",
   "execution_count": 31,
   "id": "638a3cff",
   "metadata": {
    "scrolled": true
   },
   "outputs": [
    {
     "name": "stdout",
     "output_type": "stream",
     "text": [
      "   year  month       valor\n",
      "0  2023      1  100.628692\n",
      "1  2023      2  144.009346\n",
      "2  2023      3  210.016667\n",
      "3  2023      4  272.478814\n",
      "4  2023      5  276.902041\n",
      "5  2023      6  289.573913\n",
      "6  2023      7  333.080645\n"
     ]
    }
   ],
   "source": [
    "radiacion_solar_promedio = time_RS.groupby(['year', 'month'])['valor'].mean().reset_index()\n",
    "print(radiacion_solar_promedio)"
   ]
  },
  {
   "cell_type": "markdown",
   "id": "193100d5",
   "metadata": {},
   "source": [
    "- Velocidad del viento"
   ]
  },
  {
   "cell_type": "code",
   "execution_count": 32,
   "id": "059de8b4",
   "metadata": {},
   "outputs": [],
   "source": [
    "time_VV = df1[['Datetime', 'valor']][df1['MAGNITUD'] == 'VV']"
   ]
  },
  {
   "cell_type": "code",
   "execution_count": 33,
   "id": "b788370b",
   "metadata": {},
   "outputs": [],
   "source": [
    "time_VV['Datetime'] = pd.to_datetime(time_VV['Datetime'])"
   ]
  },
  {
   "cell_type": "code",
   "execution_count": 34,
   "id": "365ca138",
   "metadata": {},
   "outputs": [],
   "source": [
    "time_VV['year'] = time_VV['Datetime'].dt.year\n",
    "time_VV['month'] = time_VV['Datetime'].dt.month"
   ]
  },
  {
   "cell_type": "code",
   "execution_count": 35,
   "id": "35fa167c",
   "metadata": {},
   "outputs": [
    {
     "name": "stdout",
     "output_type": "stream",
     "text": [
      "   year  month     valor\n",
      "0  2023      1  1.222148\n",
      "1  2023      2  1.008901\n",
      "2  2023      3  1.423510\n",
      "3  2023      4  1.367770\n",
      "4  2023      5  1.469216\n",
      "5  2023      6  1.233502\n",
      "6  2023      7  1.458340\n"
     ]
    }
   ],
   "source": [
    "velocidad_viento_promedio = time_VV.groupby(['year', 'month'])['valor'].mean().reset_index()\n",
    "print(velocidad_viento_promedio)"
   ]
  },
  {
   "cell_type": "markdown",
   "id": "c3a24a6d",
   "metadata": {},
   "source": [
    "- Estructuramos la tabla para que sea más sencillo de visualizar."
   ]
  },
  {
   "cell_type": "code",
   "execution_count": 10,
   "id": "3d0ee681",
   "metadata": {},
   "outputs": [],
   "source": [
    "df1_pivot = df1.pivot_table('valor', ['ESTACION', 'Datetime'], 'MAGNITUD')"
   ]
  },
  {
   "cell_type": "code",
   "execution_count": 11,
   "id": "6dde9ec4",
   "metadata": {
    "scrolled": false
   },
   "outputs": [
    {
     "data": {
      "text/html": [
       "<div>\n",
       "<style scoped>\n",
       "    .dataframe tbody tr th:only-of-type {\n",
       "        vertical-align: middle;\n",
       "    }\n",
       "\n",
       "    .dataframe tbody tr th {\n",
       "        vertical-align: top;\n",
       "    }\n",
       "\n",
       "    .dataframe thead th {\n",
       "        text-align: right;\n",
       "    }\n",
       "</style>\n",
       "<table border=\"1\" class=\"dataframe\">\n",
       "  <thead>\n",
       "    <tr style=\"text-align: right;\">\n",
       "      <th></th>\n",
       "      <th>MAGNITUD</th>\n",
       "      <th>DV</th>\n",
       "      <th>HR</th>\n",
       "      <th>P</th>\n",
       "      <th>PB</th>\n",
       "      <th>RS</th>\n",
       "      <th>TEMP</th>\n",
       "      <th>VV</th>\n",
       "    </tr>\n",
       "    <tr>\n",
       "      <th>ESTACION</th>\n",
       "      <th>Datetime</th>\n",
       "      <th></th>\n",
       "      <th></th>\n",
       "      <th></th>\n",
       "      <th></th>\n",
       "      <th></th>\n",
       "      <th></th>\n",
       "      <th></th>\n",
       "    </tr>\n",
       "  </thead>\n",
       "  <tbody>\n",
       "    <tr>\n",
       "      <th rowspan=\"5\" valign=\"top\">4</th>\n",
       "      <th>2023-01-01</th>\n",
       "      <td>NaN</td>\n",
       "      <td>NaN</td>\n",
       "      <td>NaN</td>\n",
       "      <td>NaN</td>\n",
       "      <td>NaN</td>\n",
       "      <td>10.6</td>\n",
       "      <td>NaN</td>\n",
       "    </tr>\n",
       "    <tr>\n",
       "      <th>2023-01-02</th>\n",
       "      <td>NaN</td>\n",
       "      <td>NaN</td>\n",
       "      <td>NaN</td>\n",
       "      <td>NaN</td>\n",
       "      <td>NaN</td>\n",
       "      <td>11.6</td>\n",
       "      <td>NaN</td>\n",
       "    </tr>\n",
       "    <tr>\n",
       "      <th>2023-01-03</th>\n",
       "      <td>NaN</td>\n",
       "      <td>NaN</td>\n",
       "      <td>NaN</td>\n",
       "      <td>NaN</td>\n",
       "      <td>NaN</td>\n",
       "      <td>8.4</td>\n",
       "      <td>NaN</td>\n",
       "    </tr>\n",
       "    <tr>\n",
       "      <th>2023-01-04</th>\n",
       "      <td>NaN</td>\n",
       "      <td>NaN</td>\n",
       "      <td>NaN</td>\n",
       "      <td>NaN</td>\n",
       "      <td>NaN</td>\n",
       "      <td>6.4</td>\n",
       "      <td>NaN</td>\n",
       "    </tr>\n",
       "    <tr>\n",
       "      <th>2023-01-05</th>\n",
       "      <td>NaN</td>\n",
       "      <td>NaN</td>\n",
       "      <td>NaN</td>\n",
       "      <td>NaN</td>\n",
       "      <td>NaN</td>\n",
       "      <td>6.4</td>\n",
       "      <td>NaN</td>\n",
       "    </tr>\n",
       "    <tr>\n",
       "      <th>...</th>\n",
       "      <th>...</th>\n",
       "      <td>...</td>\n",
       "      <td>...</td>\n",
       "      <td>...</td>\n",
       "      <td>...</td>\n",
       "      <td>...</td>\n",
       "      <td>...</td>\n",
       "      <td>...</td>\n",
       "    </tr>\n",
       "    <tr>\n",
       "      <th rowspan=\"5\" valign=\"top\">115</th>\n",
       "      <th>2023-07-27</th>\n",
       "      <td>NaN</td>\n",
       "      <td>30.0</td>\n",
       "      <td>NaN</td>\n",
       "      <td>NaN</td>\n",
       "      <td>NaN</td>\n",
       "      <td>29.6</td>\n",
       "      <td>NaN</td>\n",
       "    </tr>\n",
       "    <tr>\n",
       "      <th>2023-07-28</th>\n",
       "      <td>NaN</td>\n",
       "      <td>27.0</td>\n",
       "      <td>NaN</td>\n",
       "      <td>NaN</td>\n",
       "      <td>NaN</td>\n",
       "      <td>30.1</td>\n",
       "      <td>NaN</td>\n",
       "    </tr>\n",
       "    <tr>\n",
       "      <th>2023-07-29</th>\n",
       "      <td>NaN</td>\n",
       "      <td>28.0</td>\n",
       "      <td>NaN</td>\n",
       "      <td>NaN</td>\n",
       "      <td>NaN</td>\n",
       "      <td>30.5</td>\n",
       "      <td>NaN</td>\n",
       "    </tr>\n",
       "    <tr>\n",
       "      <th>2023-07-30</th>\n",
       "      <td>NaN</td>\n",
       "      <td>30.0</td>\n",
       "      <td>NaN</td>\n",
       "      <td>NaN</td>\n",
       "      <td>NaN</td>\n",
       "      <td>32.0</td>\n",
       "      <td>NaN</td>\n",
       "    </tr>\n",
       "    <tr>\n",
       "      <th>2023-07-31</th>\n",
       "      <td>NaN</td>\n",
       "      <td>29.0</td>\n",
       "      <td>NaN</td>\n",
       "      <td>NaN</td>\n",
       "      <td>NaN</td>\n",
       "      <td>33.1</td>\n",
       "      <td>NaN</td>\n",
       "    </tr>\n",
       "  </tbody>\n",
       "</table>\n",
       "<p>5203 rows × 7 columns</p>\n",
       "</div>"
      ],
      "text/plain": [
       "MAGNITUD             DV    HR   P  PB  RS  TEMP  VV\n",
       "ESTACION Datetime                                  \n",
       "4        2023-01-01 NaN   NaN NaN NaN NaN  10.6 NaN\n",
       "         2023-01-02 NaN   NaN NaN NaN NaN  11.6 NaN\n",
       "         2023-01-03 NaN   NaN NaN NaN NaN   8.4 NaN\n",
       "         2023-01-04 NaN   NaN NaN NaN NaN   6.4 NaN\n",
       "         2023-01-05 NaN   NaN NaN NaN NaN   6.4 NaN\n",
       "...                  ..   ...  ..  ..  ..   ...  ..\n",
       "115      2023-07-27 NaN  30.0 NaN NaN NaN  29.6 NaN\n",
       "         2023-07-28 NaN  27.0 NaN NaN NaN  30.1 NaN\n",
       "         2023-07-29 NaN  28.0 NaN NaN NaN  30.5 NaN\n",
       "         2023-07-30 NaN  30.0 NaN NaN NaN  32.0 NaN\n",
       "         2023-07-31 NaN  29.0 NaN NaN NaN  33.1 NaN\n",
       "\n",
       "[5203 rows x 7 columns]"
      ]
     },
     "execution_count": 11,
     "metadata": {},
     "output_type": "execute_result"
    }
   ],
   "source": [
    "df1_pivot"
   ]
  },
  {
   "cell_type": "code",
   "execution_count": 12,
   "id": "46cfae2e",
   "metadata": {},
   "outputs": [],
   "source": [
    "df1_pivot['RU'] = 0"
   ]
  },
  {
   "cell_type": "code",
   "execution_count": 13,
   "id": "1ac4b554",
   "metadata": {},
   "outputs": [],
   "source": [
    "nuevo_orden_columnas = ['DV', 'HR', 'P', 'PB', 'RS', 'RU', 'TEMP', 'VV']\n",
    "df1_pivot = df1_pivot[nuevo_orden_columnas]"
   ]
  },
  {
   "cell_type": "code",
   "execution_count": null,
   "id": "ecdec196",
   "metadata": {},
   "outputs": [],
   "source": []
  },
  {
   "cell_type": "markdown",
   "id": "dea3c565",
   "metadata": {},
   "source": [
    "- Valores duplicados"
   ]
  },
  {
   "cell_type": "code",
   "execution_count": 38,
   "id": "8ff9f07f",
   "metadata": {},
   "outputs": [
    {
     "data": {
      "text/plain": [
       "520"
      ]
     },
     "execution_count": 38,
     "metadata": {},
     "output_type": "execute_result"
    }
   ],
   "source": [
    "df1_pivot.duplicated().sum()"
   ]
  },
  {
   "cell_type": "markdown",
   "id": "1807f167",
   "metadata": {},
   "source": [
    "- Valores faltantes (NaN)"
   ]
  },
  {
   "cell_type": "code",
   "execution_count": 39,
   "id": "3b11afa4",
   "metadata": {},
   "outputs": [
    {
     "data": {
      "text/plain": [
       "17601"
      ]
     },
     "execution_count": 39,
     "metadata": {},
     "output_type": "execute_result"
    }
   ],
   "source": [
    "df1_pivot.isnull().sum().sum()"
   ]
  },
  {
   "cell_type": "code",
   "execution_count": 14,
   "id": "bcd3ac2d",
   "metadata": {},
   "outputs": [],
   "source": [
    "df1_pivot.to_csv(\"2023_METEO_pivot.csv\")"
   ]
  },
  {
   "cell_type": "code",
   "execution_count": null,
   "id": "8bb2e10d",
   "metadata": {},
   "outputs": [],
   "source": []
  }
 ],
 "metadata": {
  "kernelspec": {
   "display_name": "Python 3 (ipykernel)",
   "language": "python",
   "name": "python3"
  },
  "language_info": {
   "codemirror_mode": {
    "name": "ipython",
    "version": 3
   },
   "file_extension": ".py",
   "mimetype": "text/x-python",
   "name": "python",
   "nbconvert_exporter": "python",
   "pygments_lexer": "ipython3",
   "version": "3.9.13"
  }
 },
 "nbformat": 4,
 "nbformat_minor": 5
}
