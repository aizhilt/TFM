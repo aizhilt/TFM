{
 "cells": [
  {
   "cell_type": "code",
   "execution_count": 1,
   "id": "9a690cc9",
   "metadata": {},
   "outputs": [],
   "source": [
    "import pandas as pd"
   ]
  },
  {
   "cell_type": "code",
   "execution_count": 2,
   "id": "43837dc5",
   "metadata": {},
   "outputs": [],
   "source": [
    "data = pd.read_csv('df_modif.csv', encoding='latin-1', sep=',')"
   ]
  },
  {
   "cell_type": "code",
   "execution_count": 3,
   "id": "4b4c5e85",
   "metadata": {},
   "outputs": [],
   "source": [
    "df = pd.DataFrame(data)"
   ]
  },
  {
   "cell_type": "code",
   "execution_count": 4,
   "id": "5b2b7323",
   "metadata": {},
   "outputs": [
    {
     "name": "stdout",
     "output_type": "stream",
     "text": [
      "<class 'pandas.core.frame.DataFrame'>\n",
      "RangeIndex: 21187 entries, 0 to 21186\n",
      "Data columns (total 24 columns):\n",
      " #   Column    Non-Null Count  Dtype  \n",
      "---  ------    --------------  -----  \n",
      " 0   estacion  21187 non-null  int64  \n",
      " 1   Datetime  21187 non-null  object \n",
      " 2   DV        21187 non-null  float64\n",
      " 3   HR        21187 non-null  float64\n",
      " 4   P         21187 non-null  float64\n",
      " 5   PB        21187 non-null  float64\n",
      " 6   RS        21187 non-null  float64\n",
      " 7   RU        18307 non-null  float64\n",
      " 8   TEMP      21187 non-null  float64\n",
      " 9   VV        21187 non-null  float64\n",
      " 10  BEN       21187 non-null  float64\n",
      " 11  CH4       21187 non-null  float64\n",
      " 12  CO        21187 non-null  float64\n",
      " 13  EBE       21187 non-null  float64\n",
      " 14  NMHC      21187 non-null  float64\n",
      " 15  NO        21187 non-null  float64\n",
      " 16  NO2       21187 non-null  float64\n",
      " 17  NOX       21187 non-null  float64\n",
      " 18  O3        21187 non-null  float64\n",
      " 19  PM10      21187 non-null  float64\n",
      " 20  PM25      21187 non-null  float64\n",
      " 21  SO2       21187 non-null  float64\n",
      " 22  TCH       21187 non-null  float64\n",
      " 23  TOL       21187 non-null  float64\n",
      "dtypes: float64(22), int64(1), object(1)\n",
      "memory usage: 3.9+ MB\n"
     ]
    }
   ],
   "source": [
    "df.info()"
   ]
  },
  {
   "cell_type": "code",
   "execution_count": 5,
   "id": "b6b71bae",
   "metadata": {},
   "outputs": [],
   "source": [
    "media = df['RU'].mean()\n",
    "\n",
    "# Rellena los NaN con la media\n",
    "df['RU'].fillna(media, inplace=True)"
   ]
  },
  {
   "cell_type": "code",
   "execution_count": 6,
   "id": "53fec06b",
   "metadata": {},
   "outputs": [
    {
     "data": {
      "text/plain": [
       "estacion    0\n",
       "Datetime    0\n",
       "DV          0\n",
       "HR          0\n",
       "P           0\n",
       "PB          0\n",
       "RS          0\n",
       "RU          0\n",
       "TEMP        0\n",
       "VV          0\n",
       "BEN         0\n",
       "CH4         0\n",
       "CO          0\n",
       "EBE         0\n",
       "NMHC        0\n",
       "NO          0\n",
       "NO2         0\n",
       "NOX         0\n",
       "O3          0\n",
       "PM10        0\n",
       "PM25        0\n",
       "SO2         0\n",
       "TCH         0\n",
       "TOL         0\n",
       "dtype: int64"
      ]
     },
     "execution_count": 6,
     "metadata": {},
     "output_type": "execute_result"
    }
   ],
   "source": [
    "df.isnull().sum()"
   ]
  },
  {
   "cell_type": "markdown",
   "id": "94e0973d",
   "metadata": {},
   "source": [
    "## NORMALIZAR"
   ]
  },
  {
   "cell_type": "code",
   "execution_count": 7,
   "id": "9bfe2e6a",
   "metadata": {},
   "outputs": [],
   "source": [
    "# quitamos la variable del tipo object (string)\n",
    "variables = df.drop([\"Datetime\"], axis=1, inplace=False)"
   ]
  },
  {
   "cell_type": "code",
   "execution_count": 8,
   "id": "cd9d6a64",
   "metadata": {},
   "outputs": [],
   "source": [
    "from sklearn.preprocessing import StandardScaler"
   ]
  },
  {
   "cell_type": "code",
   "execution_count": 9,
   "id": "317c5fab",
   "metadata": {},
   "outputs": [],
   "source": [
    "scaler = StandardScaler()"
   ]
  },
  {
   "cell_type": "code",
   "execution_count": 10,
   "id": "c4da27a9",
   "metadata": {},
   "outputs": [],
   "source": [
    "df_transformed = scaler.fit_transform(variables._get_numeric_data())"
   ]
  },
  {
   "cell_type": "code",
   "execution_count": 11,
   "id": "fed2b72a",
   "metadata": {},
   "outputs": [
    {
     "name": "stdout",
     "output_type": "stream",
     "text": [
      "[[-1.69445476 -0.51518869  0.00656204 ...  3.87963186  1.47847981\n",
      "   0.75554379]\n",
      " [-1.69445476  1.05976054  0.22500006 ...  4.50262185  1.52094627\n",
      "   2.23568883]\n",
      " [-1.69445476 -0.28685032 -0.28954283 ...  3.87963186  1.37939139\n",
      "   1.6174004 ]\n",
      " ...\n",
      " [ 1.33573896 -1.02455889 -0.9885445  ... -1.18216183 -0.87840892\n",
      "  -0.10631282]\n",
      " [ 1.33573896 -1.15336514 -0.88175258 ... -1.18216183 -0.87840892\n",
      "  -0.4997691 ]\n",
      " [ 1.33573896 -1.14165549 -0.88175258 ... -1.10428808 -0.87840892\n",
      "  -0.40608903]]\n"
     ]
    }
   ],
   "source": [
    "print(df_transformed)"
   ]
  },
  {
   "cell_type": "markdown",
   "id": "f42655c8",
   "metadata": {},
   "source": [
    "## DIVISION DATOS"
   ]
  },
  {
   "cell_type": "code",
   "execution_count": 12,
   "id": "872e4dec",
   "metadata": {},
   "outputs": [],
   "source": [
    "X = df.iloc[:,2:10]\n",
    "y = df.iloc[:,10:24]"
   ]
  },
  {
   "cell_type": "code",
   "execution_count": 13,
   "id": "d6b2a009",
   "metadata": {},
   "outputs": [],
   "source": [
    "# Importamos el módulo de StratifiedKfold\n",
    "from sklearn.model_selection import StratifiedKFold\n",
    "# Importamos el módulo de cross_val_score\n",
    "from sklearn.model_selection import cross_val_predict\n",
    "# Importamos el módulo para realizar la partición entre train y test\n",
    "from sklearn.model_selection import train_test_split"
   ]
  },
  {
   "cell_type": "code",
   "execution_count": 14,
   "id": "55e67f4e",
   "metadata": {},
   "outputs": [],
   "source": [
    "X_train, X_test, y_train, y_test = train_test_split(X, y, test_size=0.2, random_state=42)"
   ]
  },
  {
   "cell_type": "code",
   "execution_count": null,
   "id": "d500e901",
   "metadata": {},
   "outputs": [],
   "source": []
  },
  {
   "cell_type": "code",
   "execution_count": 15,
   "id": "cfac369b",
   "metadata": {},
   "outputs": [
    {
     "ename": "NameError",
     "evalue": "name 'SelectPercentile' is not defined",
     "output_type": "error",
     "traceback": [
      "\u001b[0;31m---------------------------------------------------------------------------\u001b[0m",
      "\u001b[0;31mNameError\u001b[0m                                 Traceback (most recent call last)",
      "\u001b[0;32m/var/folders/2z/t01lgfsd58jchmhphmw9nnrw0000gn/T/ipykernel_6271/2535691568.py\u001b[0m in \u001b[0;36m<module>\u001b[0;34m\u001b[0m\n\u001b[0;32m----> 1\u001b[0;31m \u001b[0mX_new\u001b[0m\u001b[0;34m=\u001b[0m \u001b[0mSelectPercentile\u001b[0m\u001b[0;34m(\u001b[0m\u001b[0mchi2\u001b[0m\u001b[0;34m,\u001b[0m \u001b[0mpercentile\u001b[0m\u001b[0;34m=\u001b[0m\u001b[0;36m10\u001b[0m\u001b[0;34m)\u001b[0m\u001b[0;34m\u001b[0m\u001b[0;34m\u001b[0m\u001b[0m\n\u001b[0m",
      "\u001b[0;31mNameError\u001b[0m: name 'SelectPercentile' is not defined"
     ]
    }
   ],
   "source": [
    "X_new= SelectPercentile(chi2, percentile=10)"
   ]
  },
  {
   "cell_type": "code",
   "execution_count": 16,
   "id": "9754b0bc",
   "metadata": {},
   "outputs": [
    {
     "data": {
      "text/plain": [
       "array([[ 55.5       ,  56.63636364,   0.        , ..., 104.33333333,\n",
       "          4.66666667,   4.5       ],\n",
       "       [190.        ,  60.72727273,   0.        , ..., 105.        ,\n",
       "          4.66666667,   4.        ],\n",
       "       [ 75.        ,  51.09090909,   0.        , ..., 108.        ,\n",
       "          4.66666667,   4.3       ],\n",
       "       ...,\n",
       "       [ 12.        ,  38.        ,   0.        , ..., 335.        ,\n",
       "          0.        ,  27.7       ],\n",
       "       [  1.        ,  40.        ,   0.        , ..., 333.        ,\n",
       "          0.        ,  29.1       ],\n",
       "       [  2.        ,  40.        ,   0.        , ..., 330.        ,\n",
       "          0.        ,  29.5       ]])"
      ]
     },
     "execution_count": 16,
     "metadata": {},
     "output_type": "execute_result"
    }
   ],
   "source": [
    "from sklearn.feature_selection import VarianceThreshold\n",
    "\n",
    "selector = VarianceThreshold(threshold=0.5)\n",
    "X_new2= selector.fit_transform(X, y)\n",
    "X_new2"
   ]
  },
  {
   "cell_type": "code",
   "execution_count": 27,
   "id": "7540b0e0",
   "metadata": {},
   "outputs": [
    {
     "data": {
      "text/plain": [
       "(21187, 7)"
      ]
     },
     "execution_count": 27,
     "metadata": {},
     "output_type": "execute_result"
    }
   ],
   "source": [
    "X_new2.shape"
   ]
  },
  {
   "cell_type": "code",
   "execution_count": 26,
   "id": "b87ec1df",
   "metadata": {},
   "outputs": [],
   "source": [
    "variables2 = selector.get_support(indices=True)"
   ]
  },
  {
   "cell_type": "code",
   "execution_count": 28,
   "id": "ff130503",
   "metadata": {
    "scrolled": false
   },
   "outputs": [
    {
     "name": "stdout",
     "output_type": "stream",
     "text": [
      "Variables modelo VarianceThreshold:\n",
      "DV\n",
      "HR\n",
      "P\n",
      "PB\n",
      "RS\n",
      "RU\n",
      "TEMP\n"
     ]
    }
   ],
   "source": [
    "print(\"Variables modelo VarianceThreshold:\")\n",
    "for final_variables in variables2:\n",
    "        print(X.columns.values[final_variables])"
   ]
  },
  {
   "cell_type": "markdown",
   "id": "bd5b220f",
   "metadata": {},
   "source": [
    "## MODELOS"
   ]
  },
  {
   "cell_type": "markdown",
   "id": "8a290995",
   "metadata": {},
   "source": [
    "### ARBOL DE DECISION"
   ]
  },
  {
   "cell_type": "markdown",
   "id": "d97f098b",
   "metadata": {},
   "source": [
    "- arbol decision con mse"
   ]
  },
  {
   "cell_type": "code",
   "execution_count": 15,
   "id": "dabf8701",
   "metadata": {},
   "outputs": [],
   "source": [
    "from sklearn.tree import DecisionTreeRegressor\n",
    "from sklearn.metrics import mean_squared_error"
   ]
  },
  {
   "cell_type": "code",
   "execution_count": 105,
   "id": "abe45a63",
   "metadata": {},
   "outputs": [],
   "source": [
    "regression_tree = DecisionTreeRegressor(max_depth=15,random_state=42)"
   ]
  },
  {
   "cell_type": "code",
   "execution_count": 106,
   "id": "7e3c9288",
   "metadata": {},
   "outputs": [
    {
     "data": {
      "text/plain": [
       "DecisionTreeRegressor(max_depth=15, random_state=42)"
      ]
     },
     "execution_count": 106,
     "metadata": {},
     "output_type": "execute_result"
    }
   ],
   "source": [
    "regression_tree.fit(X_train, y_train)"
   ]
  },
  {
   "cell_type": "code",
   "execution_count": 107,
   "id": "33b2e6d2",
   "metadata": {},
   "outputs": [],
   "source": [
    "predictions = regression_tree.predict(X_test)"
   ]
  },
  {
   "cell_type": "code",
   "execution_count": 108,
   "id": "991bbb2e",
   "metadata": {},
   "outputs": [
    {
     "name": "stdout",
     "output_type": "stream",
     "text": [
      "Mean Squared Error: 104.42178951028428\n"
     ]
    }
   ],
   "source": [
    "mse = mean_squared_error(y_test, predictions)\n",
    "print(\"Mean Squared Error:\", mse)"
   ]
  },
  {
   "cell_type": "markdown",
   "id": "ca94dcba",
   "metadata": {},
   "source": [
    "- arbol decisión con mae"
   ]
  },
  {
   "cell_type": "code",
   "execution_count": 16,
   "id": "64a7efe6",
   "metadata": {},
   "outputs": [],
   "source": [
    "from sklearn.metrics import mean_absolute_error"
   ]
  },
  {
   "cell_type": "code",
   "execution_count": 110,
   "id": "b62e7642",
   "metadata": {},
   "outputs": [
    {
     "name": "stdout",
     "output_type": "stream",
     "text": [
      "Mean Absolute Error: 3.5486681582743076\n"
     ]
    }
   ],
   "source": [
    "mae = mean_absolute_error(y_test, predictions)\n",
    "print(\"Mean Absolute Error:\", mae)"
   ]
  },
  {
   "cell_type": "markdown",
   "id": "1002446e",
   "metadata": {},
   "source": [
    "- arbol decision con R2"
   ]
  },
  {
   "cell_type": "code",
   "execution_count": 17,
   "id": "7fd66782",
   "metadata": {},
   "outputs": [],
   "source": [
    "from sklearn.metrics import r2_score"
   ]
  },
  {
   "cell_type": "code",
   "execution_count": 112,
   "id": "4cf6448d",
   "metadata": {},
   "outputs": [
    {
     "name": "stdout",
     "output_type": "stream",
     "text": [
      "Coeficiente de Determinación (R²): 0.4824863339361824\n"
     ]
    }
   ],
   "source": [
    "r2 = r2_score(y_test, predictions)\n",
    "print(\"Coeficiente de Determinación (R²):\", r2)"
   ]
  },
  {
   "cell_type": "markdown",
   "id": "fa47e2ac",
   "metadata": {},
   "source": [
    "### REGRESION LINEAL MULTIPLE"
   ]
  },
  {
   "cell_type": "code",
   "execution_count": 113,
   "id": "9e8997a6",
   "metadata": {},
   "outputs": [],
   "source": [
    "from sklearn.linear_model import LinearRegression\n",
    "from sklearn.metrics import mean_squared_error, r2_score"
   ]
  },
  {
   "cell_type": "code",
   "execution_count": 114,
   "id": "1b8378b9",
   "metadata": {},
   "outputs": [],
   "source": [
    "# Crear un modelo de regresión lineal múltiple\n",
    "modelo = LinearRegression()"
   ]
  },
  {
   "cell_type": "code",
   "execution_count": 115,
   "id": "20c93902",
   "metadata": {},
   "outputs": [
    {
     "data": {
      "text/plain": [
       "LinearRegression()"
      ]
     },
     "execution_count": 115,
     "metadata": {},
     "output_type": "execute_result"
    }
   ],
   "source": [
    "modelo.fit(X_train, y_train)"
   ]
  },
  {
   "cell_type": "code",
   "execution_count": 116,
   "id": "ced0dea1",
   "metadata": {},
   "outputs": [],
   "source": [
    "# Realizar predicciones en los datos de prueba\n",
    "predicciones = modelo.predict(X_test)"
   ]
  },
  {
   "cell_type": "code",
   "execution_count": 120,
   "id": "4bfdaf7f",
   "metadata": {},
   "outputs": [],
   "source": [
    "mse = mean_squared_error(y_test, predicciones)\n",
    "r2 = r2_score(y_test, predicciones)\n",
    "mae = mean_absolute_error(y_test, predicciones)"
   ]
  },
  {
   "cell_type": "code",
   "execution_count": 121,
   "id": "3059c41c",
   "metadata": {},
   "outputs": [
    {
     "name": "stdout",
     "output_type": "stream",
     "text": [
      "Mean Squared Error (MSE): 130.3814286945822\n",
      "Coeficiente de Determinación (R2): 0.29623910646551727\n",
      "Mean Absolute Error (MAE): 4.791345032395539\n",
      "Coeficientes: [[ 3.62332905e-04 -4.41979835e-03 -3.21819745e-03  8.60350253e-03\n",
      "  -7.90401530e-04  3.68469750e-03 -1.35290752e-02 -1.43495448e-01]\n",
      " [ 1.73311070e-03 -1.01950839e-03 -6.13118830e-03  2.70832403e-03\n",
      "  -1.14891856e-03  3.98466605e-02  9.23014612e-03  3.29037911e-02]\n",
      " [ 9.24246652e-05 -1.60084003e-03 -1.91172103e-03  3.44246736e-03\n",
      "  -3.56786469e-04  1.86105447e-03 -4.54922754e-03 -7.92817467e-02]\n",
      " [ 1.36492530e-03 -4.83977067e-03 -4.05643058e-03  3.58652419e-03\n",
      "  -1.84430215e-03 -2.39706519e-03  1.95547925e-02 -2.14012178e-01]\n",
      " [ 1.18150526e-04 -3.09841750e-04 -9.12401758e-04  1.97330092e-04\n",
      "  -1.46939301e-04  1.64028081e-03  1.36573359e-03 -9.51450629e-03]\n",
      " [ 3.39456959e-02 -2.08185919e-01 -1.31536780e-01  7.28660691e-01\n",
      "  -5.13027774e-02  1.62936922e-01 -4.72906791e-01 -9.97461280e+00]\n",
      " [ 3.19262792e-02 -4.26203503e-01  1.66426770e-02  5.01343458e-01\n",
      "  -9.59007231e-02  3.54733800e-01 -1.99149607e-01 -1.41806972e+01]\n",
      " [ 8.38757830e-02 -7.44953543e-01 -1.85171405e-01  1.61809428e+00\n",
      "  -1.74530323e-01  6.03618432e-01 -9.23221666e-01 -2.94603965e+01]\n",
      " [-3.17331334e-02 -1.67692658e-01  6.43907080e-01 -6.06994395e-01\n",
      "   1.08347348e-01 -1.14857535e-01  3.26820636e-01  1.25555948e+01]\n",
      " [-8.35278428e-03 -1.44174917e-01 -2.81226506e-01  1.49152939e-01\n",
      "  -6.06770898e-02  1.34624409e-01  7.59938231e-01 -4.42832744e+00]\n",
      " [ 1.68946606e-03  5.51926905e-03 -5.55044496e-02  1.53323465e-01\n",
      "  -1.51116357e-02  5.87529462e-02  2.79815333e-01 -3.30856289e+00]\n",
      " [ 5.55106344e-03 -4.90102529e-02  1.76260009e-02  3.19939982e-02\n",
      "  -5.12452641e-03  1.74059913e-01 -1.86545580e-02 -3.10280648e-01]\n",
      " [ 1.85036476e-03 -1.32260107e-03 -7.06166654e-03  2.91783690e-03\n",
      "  -1.29514863e-03  4.14806386e-02  1.06113037e-02  2.33911600e-02]\n",
      " [ 1.40674176e-03 -1.96848266e-02 -2.35009495e-02  3.10908752e-02\n",
      "  -4.79074720e-03  8.60338531e-03 -4.20558006e-03 -8.98939703e-01]]\n",
      "Intercepción: [-6.99208514e+00 -2.11779398e+00 -2.60391612e+00 -2.43366651e+00\n",
      " -1.16195749e-01 -6.36932722e+02 -3.82621151e+02 -1.35881937e+03\n",
      "  5.94280870e+02 -1.07200996e+02 -1.32544467e+02 -2.10116276e+01\n",
      " -2.24643665e+00 -2.44987005e+01]\n"
     ]
    }
   ],
   "source": [
    "# Imprimir resultados\n",
    "print(\"Mean Squared Error (MSE):\", mse)\n",
    "print(\"Coeficiente de Determinación (R2):\", r2)\n",
    "print(\"Mean Absolute Error (MAE):\", mae)\n",
    "\n",
    "# Si deseas ver los coeficientes y la intercepción del modelo, puedes hacerlo así:\n",
    "print(\"Coeficientes:\", modelo.coef_)\n",
    "print(\"Intercepción:\", modelo.intercept_)"
   ]
  },
  {
   "cell_type": "code",
   "execution_count": null,
   "id": "cb0fb2e0",
   "metadata": {},
   "outputs": [],
   "source": []
  },
  {
   "cell_type": "code",
   "execution_count": 15,
   "id": "a2f02a9e",
   "metadata": {},
   "outputs": [],
   "source": [
    "from sklearn.tree import DecisionTreeRegressor\n",
    "from sklearn.metrics import mean_squared_error, r2_score"
   ]
  },
  {
   "cell_type": "code",
   "execution_count": 21,
   "id": "c1e40e85",
   "metadata": {},
   "outputs": [
    {
     "name": "stdout",
     "output_type": "stream",
     "text": [
      "R^2 para BEN: 0.9370466900307285\n",
      "R^2 para CH4: 0.8724200124283692\n",
      "R^2 para CO: 0.8678778295619252\n",
      "R^2 para EBE: 0.8766627393734948\n",
      "R^2 para NMHC: 0.8188532036816474\n",
      "R^2 para NO: 0.9375312865829911\n",
      "R^2 para NO2: 0.911411823626744\n",
      "R^2 para NOX: 0.9399169331266234\n",
      "R^2 para O3: 0.9458242130042798\n",
      "R^2 para PM10: 0.8928075793737691\n",
      "R^2 para PM25: 0.8959673724550885\n",
      "R^2 para SO2: 0.7791308319627568\n",
      "R^2 para TCH: 0.8760227677263429\n",
      "R^2 para TOL: 0.8890861137184256\n"
     ]
    }
   ],
   "source": [
    "modelo_arbol = DecisionTreeRegressor(max_depth=15)  # Puedes ajustar la profundidad máxima según tus necesidades\n",
    "\n",
    "# Entrenar el modelo para cada variable objetivo\n",
    "r2_scores = {}  # Un diccionario para almacenar los resultados R^2\n",
    "\n",
    "for variable_objetivo in y.columns:\n",
    "    y_actual = y[variable_objetivo]  # Selecciona la variable objetivo actual\n",
    "    modelo_arbol.fit(X, y_actual)  # Entrena el modelo para la variable objetivo actual\n",
    "    y_pred = modelo_arbol.predict(X)  # Realiza predicciones\n",
    "    \n",
    "    # Calcula el coeficiente de determinación (R^2) para la variable objetivo actual\n",
    "    r2 = r2_score(y_actual, y_pred)\n",
    "    r2_scores[variable_objetivo] = r2\n",
    "\n",
    "    # Imprime el resultado R^2 para la variable objetivo actual\n",
    "    print(f'R^2 para {variable_objetivo}: {r2}')"
   ]
  },
  {
   "cell_type": "code",
   "execution_count": null,
   "id": "f58c1eb7",
   "metadata": {},
   "outputs": [],
   "source": []
  },
  {
   "cell_type": "code",
   "execution_count": 23,
   "id": "a9f2101a",
   "metadata": {},
   "outputs": [],
   "source": [
    "from sklearn.linear_model import LinearRegression"
   ]
  },
  {
   "cell_type": "code",
   "execution_count": 24,
   "id": "ffd64e1d",
   "metadata": {},
   "outputs": [
    {
     "name": "stdout",
     "output_type": "stream",
     "text": [
      "R^2 para BEN: 0.4749444035676146\n",
      "R^2 para CH4: 0.19236341374029642\n",
      "R^2 para CO: 0.35130050033796156\n",
      "R^2 para EBE: 0.056953774287627934\n",
      "R^2 para NMHC: 0.06742061347798312\n",
      "R^2 para NO: 0.3403702828364046\n",
      "R^2 para NO2: 0.4776186854151818\n",
      "R^2 para NOX: 0.41750596604671264\n",
      "R^2 para O3: 0.686290144735395\n",
      "R^2 para PM10: 0.18251240585494832\n",
      "R^2 para PM25: 0.22134774439713567\n",
      "R^2 para SO2: 0.1526993323289748\n",
      "R^2 para TCH: 0.18059067646217197\n",
      "R^2 para TOL: 0.2929717746833065\n"
     ]
    }
   ],
   "source": [
    "modelo_lineal_multiple = LinearRegression()  # Puedes ajustar la profundidad máxima según tus necesidades\n",
    "\n",
    "# Entrenar el modelo para cada variable objetivo\n",
    "r2_scores = {}  # Un diccionario para almacenar los resultados R^2\n",
    "\n",
    "for variable_objetivo in y.columns:\n",
    "    y_actual = y[variable_objetivo]  # Selecciona la variable objetivo actual\n",
    "    modelo_lineal_multiple.fit(X, y_actual)  # Entrena el modelo para la variable objetivo actual\n",
    "    y_pred = modelo_lineal_multiple.predict(X)  # Realiza predicciones\n",
    "    \n",
    "    # Calcula el coeficiente de determinación (R^2) para la variable objetivo actual\n",
    "    r2 = r2_score(y_actual, y_pred)\n",
    "    r2_scores[variable_objetivo] = r2\n",
    "\n",
    "    # Imprime el resultado R^2 para la variable objetivo actual\n",
    "    print(f'R^2 para {variable_objetivo}: {r2}')"
   ]
  },
  {
   "cell_type": "code",
   "execution_count": null,
   "id": "90dcca77",
   "metadata": {},
   "outputs": [],
   "source": []
  },
  {
   "cell_type": "code",
   "execution_count": 25,
   "id": "47465a6f",
   "metadata": {},
   "outputs": [
    {
     "name": "stdout",
     "output_type": "stream",
     "text": [
      "R^2 para BEN: 0.7957334743296568\n",
      "R^2 para CH4: 0.8034180729642652\n",
      "R^2 para CO: 0.6408602731476873\n",
      "R^2 para EBE: 0.5912409097090705\n",
      "R^2 para NMHC: 0.7551650147646324\n",
      "R^2 para NO: 0.7225224864169516\n",
      "R^2 para NO2: 0.733406571586103\n",
      "R^2 para NOX: 0.7405975849233231\n",
      "R^2 para O3: 0.870699392594029\n",
      "R^2 para PM10: 0.7808250373046114\n",
      "R^2 para PM25: 0.7858891498067984\n",
      "R^2 para SO2: 0.6513976852221203\n",
      "R^2 para TCH: 0.7996407631694548\n",
      "R^2 para TOL: 0.7095880262698417\n"
     ]
    }
   ],
   "source": [
    "from sklearn.neighbors import KNeighborsRegressor\n",
    "\n",
    "modelo_knn = KNeighborsRegressor(n_neighbors=5)  # Puedes ajustar la profundidad máxima según tus necesidades\n",
    "\n",
    "# Entrenar el modelo para cada variable objetivo\n",
    "r2_scores = {}  # Un diccionario para almacenar los resultados R^2\n",
    "\n",
    "for variable_objetivo in y.columns:\n",
    "    y_actual = y[variable_objetivo]  # Selecciona la variable objetivo actual\n",
    "    modelo_knn.fit(X, y_actual)  # Entrena el modelo para la variable objetivo actual\n",
    "    y_pred = modelo_knn.predict(X)  # Realiza predicciones\n",
    "    \n",
    "    # Calcula el coeficiente de determinación (R^2) para la variable objetivo actual\n",
    "    r2 = r2_score(y_actual, y_pred)\n",
    "    r2_scores[variable_objetivo] = r2\n",
    "\n",
    "    # Imprime el resultado R^2 para la variable objetivo actual\n",
    "    print(f'R^2 para {variable_objetivo}: {r2}')"
   ]
  },
  {
   "cell_type": "code",
   "execution_count": null,
   "id": "95689486",
   "metadata": {},
   "outputs": [],
   "source": []
  },
  {
   "cell_type": "code",
   "execution_count": 26,
   "id": "dc2d92f9",
   "metadata": {},
   "outputs": [],
   "source": [
    "from sklearn.ensemble import RandomForestRegressor"
   ]
  },
  {
   "cell_type": "code",
   "execution_count": 27,
   "id": "e750a04d",
   "metadata": {},
   "outputs": [
    {
     "name": "stdout",
     "output_type": "stream",
     "text": [
      "R^2 para BEN: 0.9680080646736083\n",
      "R^2 para CH4: 0.9801513225401025\n",
      "R^2 para CO: 0.9368667165940533\n",
      "R^2 para EBE: 0.9258208337611615\n",
      "R^2 para NMHC: 0.9703693431955582\n",
      "R^2 para NO: 0.9595000477779396\n",
      "R^2 para NO2: 0.9636589710437772\n",
      "R^2 para NOX: 0.96388590012562\n",
      "R^2 para O3: 0.9812370131164795\n",
      "R^2 para PM10: 0.9674231359103795\n",
      "R^2 para PM25: 0.9709780990609391\n",
      "R^2 para SO2: 0.9383234568774728\n",
      "R^2 para TCH: 0.9796494045161149\n",
      "R^2 para TOL: 0.9536574362447438\n"
     ]
    }
   ],
   "source": [
    "rf_model = RandomForestRegressor(n_estimators=100, random_state=42)\n",
    "\n",
    "# Entrenar el modelo para cada variable objetivo\n",
    "r2_scores = {}  # Un diccionario para almacenar los resultados R^2\n",
    "\n",
    "for variable_objetivo in y.columns:\n",
    "    y_actual = y[variable_objetivo]  # Selecciona la variable objetivo actual\n",
    "    rf_model.fit(X, y_actual)  # Entrena el modelo para la variable objetivo actual\n",
    "    y_pred = rf_model.predict(X)  # Realiza predicciones\n",
    "    \n",
    "    # Calcula el coeficiente de determinación (R^2) para la variable objetivo actual\n",
    "    r2 = r2_score(y_actual, y_pred)\n",
    "    r2_scores[variable_objetivo] = r2\n",
    "\n",
    "    # Imprime el resultado R^2 para la variable objetivo actual\n",
    "    print(f'R^2 para {variable_objetivo}: {r2}')"
   ]
  },
  {
   "cell_type": "code",
   "execution_count": null,
   "id": "2366d064",
   "metadata": {},
   "outputs": [],
   "source": []
  },
  {
   "cell_type": "code",
   "execution_count": 28,
   "id": "a3eb43b7",
   "metadata": {},
   "outputs": [],
   "source": [
    "from sklearn.linear_model import ElasticNet"
   ]
  },
  {
   "cell_type": "code",
   "execution_count": 29,
   "id": "f51fe6cc",
   "metadata": {},
   "outputs": [
    {
     "name": "stdout",
     "output_type": "stream",
     "text": [
      "R^2 para BEN: 0.20562401134708963\n",
      "R^2 para CH4: 0.1634881278720841\n",
      "R^2 para CO: 0.11820146981801116\n",
      "R^2 para EBE: 0.009885208570561632\n",
      "R^2 para NMHC: 0.012692283421895989\n",
      "R^2 para NO: 0.30280050157855964\n",
      "R^2 para NO2: 0.39690668718793387\n",
      "R^2 para NOX: 0.36572687923658553\n",
      "R^2 para O3: 0.6480957709025448\n",
      "R^2 para PM10: 0.16412100512205607\n",
      "R^2 para PM25: 0.1602900163699934\n",
      "R^2 para SO2: 0.14807696049729524\n",
      "R^2 para TCH: 0.15391076856689412\n",
      "R^2 para TOL: 0.17491207403512743\n"
     ]
    }
   ],
   "source": [
    "enet_model = ElasticNet(alpha=1.0, l1_ratio=0.5, random_state=42)\n",
    "\n",
    "# Entrenar el modelo para cada variable objetivo\n",
    "r2_scores = {}  # Un diccionario para almacenar los resultados R^2\n",
    "\n",
    "for variable_objetivo in y.columns:\n",
    "    y_actual = y[variable_objetivo]  # Selecciona la variable objetivo actual\n",
    "    enet_model.fit(X, y_actual)  # Entrena el modelo para la variable objetivo actual\n",
    "    y_pred = enet_model.predict(X)  # Realiza predicciones\n",
    "    \n",
    "    # Calcula el coeficiente de determinación (R^2) para la variable objetivo actual\n",
    "    r2 = r2_score(y_actual, y_pred)\n",
    "    r2_scores[variable_objetivo] = r2\n",
    "\n",
    "    # Imprime el resultado R^2 para la variable objetivo actual\n",
    "    print(f'R^2 para {variable_objetivo}: {r2}')"
   ]
  },
  {
   "cell_type": "code",
   "execution_count": null,
   "id": "5522b807",
   "metadata": {},
   "outputs": [],
   "source": []
  },
  {
   "cell_type": "code",
   "execution_count": 31,
   "id": "f874bdc6",
   "metadata": {},
   "outputs": [],
   "source": [
    "from sklearn.neural_network import MLPRegressor"
   ]
  },
  {
   "cell_type": "code",
   "execution_count": 33,
   "id": "d995558e",
   "metadata": {},
   "outputs": [
    {
     "name": "stdout",
     "output_type": "stream",
     "text": [
      "R^2 para BEN: 0.0137709974351381\n",
      "R^2 para CH4: -0.08414105082582601\n",
      "R^2 para CO: -3.830349859631978\n",
      "R^2 para EBE: -0.5289086188595384\n",
      "R^2 para NMHC: -77.51800095576554\n",
      "R^2 para NO: 0.5405587181196572\n",
      "R^2 para NO2: 0.6001480669659219\n",
      "R^2 para NOX: 0.5862087908603079\n",
      "R^2 para O3: 0.7585339738701322\n",
      "R^2 para PM10: 0.4556694862825693\n",
      "R^2 para PM25: 0.34504097912799625\n",
      "R^2 para SO2: 0.36235330527093823\n",
      "R^2 para TCH: 0.112100306272792\n",
      "R^2 para TOL: 0.12952492072529986\n"
     ]
    }
   ],
   "source": [
    "mlp_model = MLPRegressor(hidden_layer_sizes=(100, 50), max_iter=1000, random_state=42)\n",
    "\n",
    "# Entrenar el modelo para cada variable objetivo\n",
    "r2_scores = {}  # Un diccionario para almacenar los resultados R^2\n",
    "\n",
    "for variable_objetivo in y.columns:\n",
    "    y_actual = y[variable_objetivo]  # Selecciona la variable objetivo actual\n",
    "    mlp_model.fit(X, y_actual)  # Entrena el modelo para la variable objetivo actual\n",
    "    y_pred = mlp_model.predict(X)  # Realiza predicciones\n",
    "    \n",
    "    # Calcula el coeficiente de determinación (R^2) para la variable objetivo actual\n",
    "    r2 = r2_score(y_actual, y_pred)\n",
    "    r2_scores[variable_objetivo] = r2\n",
    "\n",
    "    # Imprime el resultado R^2 para la variable objetivo actual\n",
    "    print(f'R^2 para {variable_objetivo}: {r2}')"
   ]
  },
  {
   "cell_type": "code",
   "execution_count": null,
   "id": "b36f31e0",
   "metadata": {},
   "outputs": [],
   "source": []
  },
  {
   "cell_type": "code",
   "execution_count": 18,
   "id": "108e9ac0",
   "metadata": {},
   "outputs": [],
   "source": [
    "from sklearn.ensemble import GradientBoostingRegressor\n",
    "from sklearn.metrics import r2_score"
   ]
  },
  {
   "cell_type": "code",
   "execution_count": 19,
   "id": "ff4b346c",
   "metadata": {},
   "outputs": [
    {
     "name": "stdout",
     "output_type": "stream",
     "text": [
      "R^2 para BEN: 0.7963613422615344\n",
      "R^2 para CH4: 0.6767192627870107\n",
      "R^2 para CO: 0.6119757006696591\n",
      "R^2 para EBE: 0.6375490877108249\n",
      "R^2 para NMHC: 0.56655621080933\n",
      "R^2 para NO: 0.7493710502846108\n",
      "R^2 para NO2: 0.7298829149296053\n",
      "R^2 para NOX: 0.7537239315735569\n",
      "R^2 para O3: 0.8356339878018723\n",
      "R^2 para PM10: 0.7286200105585453\n",
      "R^2 para PM25: 0.7225877922585737\n",
      "R^2 para SO2: 0.5838856871341757\n",
      "R^2 para TCH: 0.6683476780920425\n",
      "R^2 para TOL: 0.6584535340207708\n"
     ]
    }
   ],
   "source": [
    "gb_model = GradientBoostingRegressor(n_estimators=100, learning_rate=0.1, max_depth=5, random_state=42)\n",
    "\n",
    "# Entrenar el modelo para cada variable objetivo\n",
    "r2_scores = {}  # Un diccionario para almacenar los resultados R^2\n",
    "\n",
    "for variable_objetivo in y.columns:\n",
    "    y_actual = y[variable_objetivo]  # Selecciona la variable objetivo actual\n",
    "    gb_model.fit(X, y_actual)  # Entrena el modelo para la variable objetivo actual\n",
    "    y_pred = gb_model.predict(X)  # Realiza predicciones\n",
    "    \n",
    "    # Calcula el coeficiente de determinación (R^2) para la variable objetivo actual\n",
    "    r2 = r2_score(y_actual, y_pred)\n",
    "    r2_scores[variable_objetivo] = r2\n",
    "\n",
    "    # Imprime el resultado R^2 para la variable objetivo actual\n",
    "    print(f'R^2 para {variable_objetivo}: {r2}')"
   ]
  },
  {
   "cell_type": "code",
   "execution_count": null,
   "id": "f93df1cf",
   "metadata": {},
   "outputs": [],
   "source": []
  },
  {
   "cell_type": "code",
   "execution_count": 20,
   "id": "6e83cfbe",
   "metadata": {},
   "outputs": [],
   "source": [
    "from sklearn.ensemble import BaggingRegressor"
   ]
  },
  {
   "cell_type": "code",
   "execution_count": 21,
   "id": "af5e1c73",
   "metadata": {
    "scrolled": false
   },
   "outputs": [
    {
     "name": "stdout",
     "output_type": "stream",
     "text": [
      "R^2 para BEN: 0.9680130538614573\n",
      "R^2 para CH4: 0.9801937937721128\n",
      "R^2 para CO: 0.936992257163168\n",
      "R^2 para EBE: 0.9261042636906808\n",
      "R^2 para NMHC: 0.9703623457673375\n",
      "R^2 para NO: 0.9595322594936018\n",
      "R^2 para NO2: 0.9636273815551285\n",
      "R^2 para NOX: 0.9639967319962874\n",
      "R^2 para O3: 0.9812297539582301\n",
      "R^2 para PM10: 0.9676738587649485\n",
      "R^2 para PM25: 0.9711468207265171\n",
      "R^2 para SO2: 0.9383778311893712\n",
      "R^2 para TCH: 0.9795690320398264\n",
      "R^2 para TOL: 0.9539131792285681\n"
     ]
    }
   ],
   "source": [
    "bagging_model = BaggingRegressor(base_estimator=None, n_estimators=100, random_state=42)\n",
    "\n",
    "# Entrenar el modelo para cada variable objetivo\n",
    "r2_scores = {}  # Un diccionario para almacenar los resultados R^2\n",
    "\n",
    "for variable_objetivo in y.columns:\n",
    "    y_actual = y[variable_objetivo]  # Selecciona la variable objetivo actual\n",
    "    bagging_model.fit(X, y_actual)  # Entrena el modelo para la variable objetivo actual\n",
    "    y_pred = bagging_model.predict(X)  # Realiza predicciones\n",
    "    \n",
    "    # Calcula el coeficiente de determinación (R^2) para la variable objetivo actual\n",
    "    r2 = r2_score(y_actual, y_pred)\n",
    "    r2_scores[variable_objetivo] = r2\n",
    "\n",
    "    # Imprime el resultado R^2 para la variable objetivo actual\n",
    "    print(f'R^2 para {variable_objetivo}: {r2}')"
   ]
  },
  {
   "cell_type": "code",
   "execution_count": null,
   "id": "efde0c0e",
   "metadata": {},
   "outputs": [],
   "source": []
  },
  {
   "cell_type": "code",
   "execution_count": 23,
   "id": "5ef57f8a",
   "metadata": {},
   "outputs": [],
   "source": [
    "from sklearn.ensemble import AdaBoostRegressor"
   ]
  },
  {
   "cell_type": "code",
   "execution_count": 25,
   "id": "2ac34db3",
   "metadata": {},
   "outputs": [
    {
     "name": "stdout",
     "output_type": "stream",
     "text": [
      "R^2 para BEN: -0.10053095882589691\n",
      "R^2 para CH4: 0.39639417694562273\n",
      "R^2 para CO: 0.06803158647547025\n",
      "R^2 para EBE: 0.06505756999456547\n",
      "R^2 para NMHC: -0.39440982740872643\n",
      "R^2 para NO: -0.043157398762597055\n",
      "R^2 para NO2: 0.38985004685609637\n",
      "R^2 para NOX: 0.10753230537015668\n",
      "R^2 para O3: 0.6987619203241725\n",
      "R^2 para PM10: 0.03341218930332013\n",
      "R^2 para PM25: -0.42231081341517873\n",
      "R^2 para SO2: 0.2602654728343524\n",
      "R^2 para TCH: 0.3957387129815888\n",
      "R^2 para TOL: -4.591608739659476\n"
     ]
    }
   ],
   "source": [
    "adaboost_regressor = AdaBoostRegressor(n_estimators=100, random_state=42)\n",
    "\n",
    "# Entrenar el modelo para cada variable objetivo\n",
    "r2_scores = {}  # Un diccionario para almacenar los resultados R^2\n",
    "\n",
    "for variable_objetivo in y.columns:\n",
    "    y_actual = y[variable_objetivo]  # Selecciona la variable objetivo actual\n",
    "    adaboost_regressor.fit(X, y_actual)  # Entrena el modelo para la variable objetivo actual\n",
    "    y_pred = adaboost_regressor.predict(X)  # Realiza predicciones\n",
    "    \n",
    "    # Calcula el coeficiente de determinación (R^2) para la variable objetivo actual\n",
    "    r2 = r2_score(y_actual, y_pred)\n",
    "    r2_scores[variable_objetivo] = r2\n",
    "\n",
    "    # Imprime el resultado R^2 para la variable objetivo actual\n",
    "    print(f'R^2 para {variable_objetivo}: {r2}')"
   ]
  },
  {
   "cell_type": "code",
   "execution_count": null,
   "id": "a098bcaf",
   "metadata": {},
   "outputs": [],
   "source": []
  },
  {
   "cell_type": "code",
   "execution_count": 26,
   "id": "808d2e45",
   "metadata": {},
   "outputs": [],
   "source": [
    "from sklearn.linear_model import Ridge"
   ]
  },
  {
   "cell_type": "code",
   "execution_count": 27,
   "id": "baa6e944",
   "metadata": {
    "scrolled": true
   },
   "outputs": [
    {
     "name": "stdout",
     "output_type": "stream",
     "text": [
      "R^2 para BEN: 0.47494440073820454\n",
      "R^2 para CH4: 0.19236341371805876\n",
      "R^2 para CO: 0.3513004971828235\n",
      "R^2 para EBE: 0.05695377355327913\n",
      "R^2 para NMHC: 0.06742061324574822\n",
      "R^2 para NO: 0.3403702801790409\n",
      "R^2 para NO2: 0.4776186793807735\n",
      "R^2 para NOX: 0.4175059619002125\n",
      "R^2 para O3: 0.6862901419309391\n",
      "R^2 para PM10: 0.18251240482859543\n",
      "R^2 para PM25: 0.22134774137569668\n",
      "R^2 para SO2: 0.152699332255119\n",
      "R^2 para TCH: 0.18059067645256677\n",
      "R^2 para TOL: 0.29297177047609413\n"
     ]
    }
   ],
   "source": [
    "modelo_ridge = Ridge(alpha=1.0, solver='auto')\n",
    "\n",
    "# Entrenar el modelo para cada variable objetivo\n",
    "r2_scores = {}  # Un diccionario para almacenar los resultados R^2\n",
    "\n",
    "for variable_objetivo in y.columns:\n",
    "    y_actual = y[variable_objetivo]  # Selecciona la variable objetivo actual\n",
    "    modelo_ridge.fit(X, y_actual)  # Entrena el modelo para la variable objetivo actual\n",
    "    y_pred = modelo_ridge.predict(X)  # Realiza predicciones\n",
    "    \n",
    "    # Calcula el coeficiente de determinación (R^2) para la variable objetivo actual\n",
    "    r2 = r2_score(y_actual, y_pred)\n",
    "    r2_scores[variable_objetivo] = r2\n",
    "\n",
    "    # Imprime el resultado R^2 para la variable objetivo actual\n",
    "    print(f'R^2 para {variable_objetivo}: {r2}')"
   ]
  },
  {
   "cell_type": "code",
   "execution_count": null,
   "id": "951adc54",
   "metadata": {},
   "outputs": [],
   "source": []
  },
  {
   "cell_type": "code",
   "execution_count": 28,
   "id": "fe24b08b",
   "metadata": {},
   "outputs": [],
   "source": [
    "from sklearn.linear_model import Lasso"
   ]
  },
  {
   "cell_type": "code",
   "execution_count": 29,
   "id": "631f8d03",
   "metadata": {},
   "outputs": [
    {
     "name": "stdout",
     "output_type": "stream",
     "text": [
      "R^2 para BEN: 0.1636963751769701\n",
      "R^2 para CH4: 0.09977888116625366\n",
      "R^2 para CO: 0.10803316887223069\n",
      "R^2 para EBE: 0.003980144319569168\n",
      "R^2 para NMHC: 0.0\n",
      "R^2 para NO: 0.32868557195966663\n",
      "R^2 para NO2: 0.46453558442925225\n",
      "R^2 para NOX: 0.41541187353437015\n",
      "R^2 para O3: 0.6785630227687642\n",
      "R^2 para PM10: 0.1598033288862265\n",
      "R^2 para PM25: 0.13781238068497803\n",
      "R^2 para SO2: 0.14328480353626238\n",
      "R^2 para TCH: 0.0991648409991247\n",
      "R^2 para TOL: 0.15995399151273282\n"
     ]
    }
   ],
   "source": [
    "modelo_lasso = Lasso(alpha=1.0)\n",
    "\n",
    "# Entrenar el modelo para cada variable objetivo\n",
    "r2_scores = {}  # Un diccionario para almacenar los resultados R^2\n",
    "\n",
    "for variable_objetivo in y.columns:\n",
    "    y_actual = y[variable_objetivo]  # Selecciona la variable objetivo actual\n",
    "    modelo_lasso.fit(X, y_actual)  # Entrena el modelo para la variable objetivo actual\n",
    "    y_pred = modelo_lasso.predict(X)  # Realiza predicciones\n",
    "    \n",
    "    # Calcula el coeficiente de determinación (R^2) para la variable objetivo actual\n",
    "    r2 = r2_score(y_actual, y_pred)\n",
    "    r2_scores[variable_objetivo] = r2\n",
    "\n",
    "    # Imprime el resultado R^2 para la variable objetivo actual\n",
    "    print(f'R^2 para {variable_objetivo}: {r2}')"
   ]
  },
  {
   "cell_type": "code",
   "execution_count": null,
   "id": "a4d3dcd2",
   "metadata": {},
   "outputs": [],
   "source": []
  },
  {
   "cell_type": "markdown",
   "id": "c15831a3",
   "metadata": {},
   "source": [
    "## BUSQUEDA DE METAPARAMETROS"
   ]
  },
  {
   "cell_type": "code",
   "execution_count": 28,
   "id": "cf3dfc2a",
   "metadata": {},
   "outputs": [],
   "source": [
    "from sklearn.model_selection import GridSearchCV"
   ]
  },
  {
   "cell_type": "code",
   "execution_count": 45,
   "id": "a6ed70e5",
   "metadata": {},
   "outputs": [],
   "source": [
    "param_grid = {\n",
    "    'base_estimator': [None],\n",
    "    'n_estimators': [50, 100, 150],\n",
    "    'max_depth': [5,10,15]\n",
    "    'random_state': [42]\n",
    "}"
   ]
  },
  {
   "cell_type": "code",
   "execution_count": 46,
   "id": "3a6ad621",
   "metadata": {},
   "outputs": [],
   "source": [
    "# Búsqueda de meta-parámetros:\n",
    "grid_search = GridSearchCV(estimator=bagging_model, param_grid=param_grid, cv=5)"
   ]
  },
  {
   "cell_type": "code",
   "execution_count": 47,
   "id": "a3da66ca",
   "metadata": {},
   "outputs": [
    {
     "data": {
      "text/plain": [
       "GridSearchCV(cv=5,\n",
       "             estimator=BaggingRegressor(n_estimators=100, random_state=42),\n",
       "             param_grid={'base_estimator': [None],\n",
       "                         'n_estimators': [50, 100, 150], 'random_state': [42]})"
      ]
     },
     "execution_count": 47,
     "metadata": {},
     "output_type": "execute_result"
    }
   ],
   "source": [
    "# Ajustar el modelo a los datos\n",
    "grid_search.fit(X,y)"
   ]
  },
  {
   "cell_type": "code",
   "execution_count": 48,
   "id": "e8181a6c",
   "metadata": {},
   "outputs": [
    {
     "name": "stdout",
     "output_type": "stream",
     "text": [
      "Mejores hiperparámetros encontrados:\n",
      "{'base_estimator': None, 'n_estimators': 150, 'random_state': 42}\n"
     ]
    }
   ],
   "source": [
    "print(\"Mejores hiperparámetros encontrados:\")\n",
    "print(grid_search.best_params_)"
   ]
  },
  {
   "cell_type": "code",
   "execution_count": 49,
   "id": "185215b7",
   "metadata": {},
   "outputs": [
    {
     "data": {
      "text/plain": [
       "BaggingRegressor(n_estimators=150, random_state=42)"
      ]
     },
     "execution_count": 49,
     "metadata": {},
     "output_type": "execute_result"
    }
   ],
   "source": [
    "best_model = grid_search.best_estimator_\n",
    "best_model.fit(X, y)"
   ]
  },
  {
   "cell_type": "code",
   "execution_count": 50,
   "id": "21d25823",
   "metadata": {},
   "outputs": [],
   "source": [
    "y_pred = best_model.predict(X)"
   ]
  },
  {
   "cell_type": "code",
   "execution_count": 51,
   "id": "7edca2f4",
   "metadata": {},
   "outputs": [
    {
     "name": "stdout",
     "output_type": "stream",
     "text": [
      "MSE en el conjunto de entrenamiento: 0.9603507188269377\n"
     ]
    }
   ],
   "source": [
    "r2 = r2_score(y, y_pred)\n",
    "print(f\"MSE en el conjunto de entrenamiento: {r2}\")"
   ]
  },
  {
   "cell_type": "code",
   "execution_count": null,
   "id": "285b0e0b",
   "metadata": {},
   "outputs": [],
   "source": []
  }
 ],
 "metadata": {
  "kernelspec": {
   "display_name": "Python 3 (ipykernel)",
   "language": "python",
   "name": "python3"
  },
  "language_info": {
   "codemirror_mode": {
    "name": "ipython",
    "version": 3
   },
   "file_extension": ".py",
   "mimetype": "text/x-python",
   "name": "python",
   "nbconvert_exporter": "python",
   "pygments_lexer": "ipython3",
   "version": "3.9.13"
  }
 },
 "nbformat": 4,
 "nbformat_minor": 5
}
