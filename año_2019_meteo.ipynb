{
 "cells": [
  {
   "cell_type": "markdown",
   "id": "7dee0f08",
   "metadata": {},
   "source": [
    "<img  src=\"data:image/png;base64,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\">\n",
    "\n",
    "\n",
    " #                                           Datos Meteorológicos 2019 Municipio de Madrid"
   ]
  },
  {
   "cell_type": "markdown",
   "id": "b94ef340",
   "metadata": {},
   "source": [
    "### Autor: Alicia Ruiz Moreno"
   ]
  },
  {
   "cell_type": "code",
   "execution_count": 1,
   "id": "a84d05f3",
   "metadata": {},
   "outputs": [],
   "source": [
    "import pandas as pd"
   ]
  },
  {
   "cell_type": "code",
   "execution_count": 2,
   "id": "81be17d1",
   "metadata": {},
   "outputs": [],
   "source": [
    "data = pd.read_csv('meteo19.csv', encoding='latin-1', sep=';')"
   ]
  },
  {
   "cell_type": "code",
   "execution_count": 3,
   "id": "ee4801b8",
   "metadata": {},
   "outputs": [
    {
     "data": {
      "text/html": [
       "<div>\n",
       "<style scoped>\n",
       "    .dataframe tbody tr th:only-of-type {\n",
       "        vertical-align: middle;\n",
       "    }\n",
       "\n",
       "    .dataframe tbody tr th {\n",
       "        vertical-align: top;\n",
       "    }\n",
       "\n",
       "    .dataframe thead th {\n",
       "        text-align: right;\n",
       "    }\n",
       "</style>\n",
       "<table border=\"1\" class=\"dataframe\">\n",
       "  <thead>\n",
       "    <tr style=\"text-align: right;\">\n",
       "      <th></th>\n",
       "      <th>PROVINCIA</th>\n",
       "      <th>MUNICIPIO</th>\n",
       "      <th>ESTACION</th>\n",
       "      <th>MAGNITUD</th>\n",
       "      <th>PUNTO_MUESTREO</th>\n",
       "      <th>ANO</th>\n",
       "      <th>MES</th>\n",
       "      <th>D01</th>\n",
       "      <th>V01</th>\n",
       "      <th>D02</th>\n",
       "      <th>...</th>\n",
       "      <th>D27</th>\n",
       "      <th>V27</th>\n",
       "      <th>D28</th>\n",
       "      <th>V28</th>\n",
       "      <th>D29</th>\n",
       "      <th>V29</th>\n",
       "      <th>D30</th>\n",
       "      <th>V30</th>\n",
       "      <th>D31</th>\n",
       "      <th>V31</th>\n",
       "    </tr>\n",
       "  </thead>\n",
       "  <tbody>\n",
       "    <tr>\n",
       "      <th>0</th>\n",
       "      <td>28</td>\n",
       "      <td>79</td>\n",
       "      <td>102</td>\n",
       "      <td>81</td>\n",
       "      <td>28079102_81_98</td>\n",
       "      <td>2019</td>\n",
       "      <td>1</td>\n",
       "      <td>0.66</td>\n",
       "      <td>V</td>\n",
       "      <td>1.16</td>\n",
       "      <td>...</td>\n",
       "      <td>2.57</td>\n",
       "      <td>V</td>\n",
       "      <td>2.93</td>\n",
       "      <td>V</td>\n",
       "      <td>3.23</td>\n",
       "      <td>V</td>\n",
       "      <td>3.18</td>\n",
       "      <td>V</td>\n",
       "      <td>4.72</td>\n",
       "      <td>V</td>\n",
       "    </tr>\n",
       "    <tr>\n",
       "      <th>1</th>\n",
       "      <td>28</td>\n",
       "      <td>79</td>\n",
       "      <td>102</td>\n",
       "      <td>81</td>\n",
       "      <td>28079102_81_98</td>\n",
       "      <td>2019</td>\n",
       "      <td>2</td>\n",
       "      <td>4.32</td>\n",
       "      <td>V</td>\n",
       "      <td>2.98</td>\n",
       "      <td>...</td>\n",
       "      <td>1.36</td>\n",
       "      <td>V</td>\n",
       "      <td>0.97</td>\n",
       "      <td>V</td>\n",
       "      <td>0.00</td>\n",
       "      <td>N</td>\n",
       "      <td>0.00</td>\n",
       "      <td>N</td>\n",
       "      <td>0.00</td>\n",
       "      <td>N</td>\n",
       "    </tr>\n",
       "    <tr>\n",
       "      <th>2</th>\n",
       "      <td>28</td>\n",
       "      <td>79</td>\n",
       "      <td>102</td>\n",
       "      <td>81</td>\n",
       "      <td>28079102_81_98</td>\n",
       "      <td>2019</td>\n",
       "      <td>3</td>\n",
       "      <td>1.57</td>\n",
       "      <td>V</td>\n",
       "      <td>1.13</td>\n",
       "      <td>...</td>\n",
       "      <td>1.48</td>\n",
       "      <td>V</td>\n",
       "      <td>1.69</td>\n",
       "      <td>V</td>\n",
       "      <td>2.89</td>\n",
       "      <td>V</td>\n",
       "      <td>1.99</td>\n",
       "      <td>V</td>\n",
       "      <td>1.72</td>\n",
       "      <td>V</td>\n",
       "    </tr>\n",
       "    <tr>\n",
       "      <th>3</th>\n",
       "      <td>28</td>\n",
       "      <td>79</td>\n",
       "      <td>102</td>\n",
       "      <td>81</td>\n",
       "      <td>28079102_81_98</td>\n",
       "      <td>2019</td>\n",
       "      <td>4</td>\n",
       "      <td>1.32</td>\n",
       "      <td>V</td>\n",
       "      <td>1.21</td>\n",
       "      <td>...</td>\n",
       "      <td>1.00</td>\n",
       "      <td>V</td>\n",
       "      <td>1.82</td>\n",
       "      <td>V</td>\n",
       "      <td>1.97</td>\n",
       "      <td>V</td>\n",
       "      <td>1.84</td>\n",
       "      <td>V</td>\n",
       "      <td>0.00</td>\n",
       "      <td>N</td>\n",
       "    </tr>\n",
       "    <tr>\n",
       "      <th>4</th>\n",
       "      <td>28</td>\n",
       "      <td>79</td>\n",
       "      <td>102</td>\n",
       "      <td>81</td>\n",
       "      <td>28079102_81_98</td>\n",
       "      <td>2019</td>\n",
       "      <td>5</td>\n",
       "      <td>2.06</td>\n",
       "      <td>V</td>\n",
       "      <td>2.21</td>\n",
       "      <td>...</td>\n",
       "      <td>1.77</td>\n",
       "      <td>V</td>\n",
       "      <td>3.32</td>\n",
       "      <td>V</td>\n",
       "      <td>3.76</td>\n",
       "      <td>V</td>\n",
       "      <td>3.04</td>\n",
       "      <td>V</td>\n",
       "      <td>1.89</td>\n",
       "      <td>V</td>\n",
       "    </tr>\n",
       "    <tr>\n",
       "      <th>...</th>\n",
       "      <td>...</td>\n",
       "      <td>...</td>\n",
       "      <td>...</td>\n",
       "      <td>...</td>\n",
       "      <td>...</td>\n",
       "      <td>...</td>\n",
       "      <td>...</td>\n",
       "      <td>...</td>\n",
       "      <td>...</td>\n",
       "      <td>...</td>\n",
       "      <td>...</td>\n",
       "      <td>...</td>\n",
       "      <td>...</td>\n",
       "      <td>...</td>\n",
       "      <td>...</td>\n",
       "      <td>...</td>\n",
       "      <td>...</td>\n",
       "      <td>...</td>\n",
       "      <td>...</td>\n",
       "      <td>...</td>\n",
       "      <td>...</td>\n",
       "    </tr>\n",
       "    <tr>\n",
       "      <th>1125</th>\n",
       "      <td>28</td>\n",
       "      <td>79</td>\n",
       "      <td>59</td>\n",
       "      <td>89</td>\n",
       "      <td>28079059_89_98</td>\n",
       "      <td>2019</td>\n",
       "      <td>8</td>\n",
       "      <td>0.00</td>\n",
       "      <td>N</td>\n",
       "      <td>0.00</td>\n",
       "      <td>...</td>\n",
       "      <td>0.90</td>\n",
       "      <td>V</td>\n",
       "      <td>0.40</td>\n",
       "      <td>V</td>\n",
       "      <td>0.00</td>\n",
       "      <td>V</td>\n",
       "      <td>0.20</td>\n",
       "      <td>V</td>\n",
       "      <td>0.00</td>\n",
       "      <td>V</td>\n",
       "    </tr>\n",
       "    <tr>\n",
       "      <th>1126</th>\n",
       "      <td>28</td>\n",
       "      <td>79</td>\n",
       "      <td>59</td>\n",
       "      <td>89</td>\n",
       "      <td>28079059_89_98</td>\n",
       "      <td>2019</td>\n",
       "      <td>9</td>\n",
       "      <td>0.00</td>\n",
       "      <td>V</td>\n",
       "      <td>0.00</td>\n",
       "      <td>...</td>\n",
       "      <td>0.00</td>\n",
       "      <td>V</td>\n",
       "      <td>0.00</td>\n",
       "      <td>V</td>\n",
       "      <td>0.00</td>\n",
       "      <td>V</td>\n",
       "      <td>0.00</td>\n",
       "      <td>V</td>\n",
       "      <td>0.00</td>\n",
       "      <td>N</td>\n",
       "    </tr>\n",
       "    <tr>\n",
       "      <th>1127</th>\n",
       "      <td>28</td>\n",
       "      <td>79</td>\n",
       "      <td>59</td>\n",
       "      <td>89</td>\n",
       "      <td>28079059_89_98</td>\n",
       "      <td>2019</td>\n",
       "      <td>10</td>\n",
       "      <td>0.00</td>\n",
       "      <td>V</td>\n",
       "      <td>0.00</td>\n",
       "      <td>...</td>\n",
       "      <td>0.00</td>\n",
       "      <td>V</td>\n",
       "      <td>0.00</td>\n",
       "      <td>V</td>\n",
       "      <td>0.00</td>\n",
       "      <td>V</td>\n",
       "      <td>0.00</td>\n",
       "      <td>V</td>\n",
       "      <td>0.40</td>\n",
       "      <td>V</td>\n",
       "    </tr>\n",
       "    <tr>\n",
       "      <th>1128</th>\n",
       "      <td>28</td>\n",
       "      <td>79</td>\n",
       "      <td>59</td>\n",
       "      <td>89</td>\n",
       "      <td>28079059_89_98</td>\n",
       "      <td>2019</td>\n",
       "      <td>11</td>\n",
       "      <td>0.00</td>\n",
       "      <td>V</td>\n",
       "      <td>0.00</td>\n",
       "      <td>...</td>\n",
       "      <td>0.10</td>\n",
       "      <td>V</td>\n",
       "      <td>0.00</td>\n",
       "      <td>V</td>\n",
       "      <td>0.40</td>\n",
       "      <td>V</td>\n",
       "      <td>7.50</td>\n",
       "      <td>V</td>\n",
       "      <td>0.00</td>\n",
       "      <td>N</td>\n",
       "    </tr>\n",
       "    <tr>\n",
       "      <th>1129</th>\n",
       "      <td>28</td>\n",
       "      <td>79</td>\n",
       "      <td>59</td>\n",
       "      <td>89</td>\n",
       "      <td>28079059_89_98</td>\n",
       "      <td>2019</td>\n",
       "      <td>12</td>\n",
       "      <td>20.00</td>\n",
       "      <td>V</td>\n",
       "      <td>0.00</td>\n",
       "      <td>...</td>\n",
       "      <td>0.00</td>\n",
       "      <td>V</td>\n",
       "      <td>0.00</td>\n",
       "      <td>V</td>\n",
       "      <td>0.00</td>\n",
       "      <td>V</td>\n",
       "      <td>0.10</td>\n",
       "      <td>V</td>\n",
       "      <td>0.00</td>\n",
       "      <td>V</td>\n",
       "    </tr>\n",
       "  </tbody>\n",
       "</table>\n",
       "<p>1130 rows × 69 columns</p>\n",
       "</div>"
      ],
      "text/plain": [
       "      PROVINCIA  MUNICIPIO  ESTACION  MAGNITUD  PUNTO_MUESTREO   ANO  MES  \\\n",
       "0            28         79       102        81  28079102_81_98  2019    1   \n",
       "1            28         79       102        81  28079102_81_98  2019    2   \n",
       "2            28         79       102        81  28079102_81_98  2019    3   \n",
       "3            28         79       102        81  28079102_81_98  2019    4   \n",
       "4            28         79       102        81  28079102_81_98  2019    5   \n",
       "...         ...        ...       ...       ...             ...   ...  ...   \n",
       "1125         28         79        59        89  28079059_89_98  2019    8   \n",
       "1126         28         79        59        89  28079059_89_98  2019    9   \n",
       "1127         28         79        59        89  28079059_89_98  2019   10   \n",
       "1128         28         79        59        89  28079059_89_98  2019   11   \n",
       "1129         28         79        59        89  28079059_89_98  2019   12   \n",
       "\n",
       "        D01 V01   D02  ...   D27  V27   D28  V28   D29  V29   D30  V30   D31  \\\n",
       "0      0.66   V  1.16  ...  2.57    V  2.93    V  3.23    V  3.18    V  4.72   \n",
       "1      4.32   V  2.98  ...  1.36    V  0.97    V  0.00    N  0.00    N  0.00   \n",
       "2      1.57   V  1.13  ...  1.48    V  1.69    V  2.89    V  1.99    V  1.72   \n",
       "3      1.32   V  1.21  ...  1.00    V  1.82    V  1.97    V  1.84    V  0.00   \n",
       "4      2.06   V  2.21  ...  1.77    V  3.32    V  3.76    V  3.04    V  1.89   \n",
       "...     ...  ..   ...  ...   ...  ...   ...  ...   ...  ...   ...  ...   ...   \n",
       "1125   0.00   N  0.00  ...  0.90    V  0.40    V  0.00    V  0.20    V  0.00   \n",
       "1126   0.00   V  0.00  ...  0.00    V  0.00    V  0.00    V  0.00    V  0.00   \n",
       "1127   0.00   V  0.00  ...  0.00    V  0.00    V  0.00    V  0.00    V  0.40   \n",
       "1128   0.00   V  0.00  ...  0.10    V  0.00    V  0.40    V  7.50    V  0.00   \n",
       "1129  20.00   V  0.00  ...  0.00    V  0.00    V  0.00    V  0.10    V  0.00   \n",
       "\n",
       "      V31  \n",
       "0       V  \n",
       "1       N  \n",
       "2       V  \n",
       "3       N  \n",
       "4       V  \n",
       "...   ...  \n",
       "1125    V  \n",
       "1126    N  \n",
       "1127    V  \n",
       "1128    N  \n",
       "1129    V  \n",
       "\n",
       "[1130 rows x 69 columns]"
      ]
     },
     "execution_count": 3,
     "metadata": {},
     "output_type": "execute_result"
    }
   ],
   "source": [
    "data"
   ]
  },
  {
   "cell_type": "code",
   "execution_count": 4,
   "id": "48c0fe92",
   "metadata": {},
   "outputs": [],
   "source": [
    "df = pd.DataFrame(data)"
   ]
  },
  {
   "cell_type": "code",
   "execution_count": 5,
   "id": "a3a2d26e",
   "metadata": {
    "scrolled": false
   },
   "outputs": [
    {
     "data": {
      "text/html": [
       "<div>\n",
       "<style scoped>\n",
       "    .dataframe tbody tr th:only-of-type {\n",
       "        vertical-align: middle;\n",
       "    }\n",
       "\n",
       "    .dataframe tbody tr th {\n",
       "        vertical-align: top;\n",
       "    }\n",
       "\n",
       "    .dataframe thead th {\n",
       "        text-align: right;\n",
       "    }\n",
       "</style>\n",
       "<table border=\"1\" class=\"dataframe\">\n",
       "  <thead>\n",
       "    <tr style=\"text-align: right;\">\n",
       "      <th></th>\n",
       "      <th>PROVINCIA</th>\n",
       "      <th>MUNICIPIO</th>\n",
       "      <th>ESTACION</th>\n",
       "      <th>MAGNITUD</th>\n",
       "      <th>PUNTO_MUESTREO</th>\n",
       "      <th>ANO</th>\n",
       "      <th>MES</th>\n",
       "      <th>D01</th>\n",
       "      <th>V01</th>\n",
       "      <th>D02</th>\n",
       "      <th>...</th>\n",
       "      <th>D27</th>\n",
       "      <th>V27</th>\n",
       "      <th>D28</th>\n",
       "      <th>V28</th>\n",
       "      <th>D29</th>\n",
       "      <th>V29</th>\n",
       "      <th>D30</th>\n",
       "      <th>V30</th>\n",
       "      <th>D31</th>\n",
       "      <th>V31</th>\n",
       "    </tr>\n",
       "  </thead>\n",
       "  <tbody>\n",
       "    <tr>\n",
       "      <th>0</th>\n",
       "      <td>28</td>\n",
       "      <td>79</td>\n",
       "      <td>102</td>\n",
       "      <td>81</td>\n",
       "      <td>28079102_81_98</td>\n",
       "      <td>2019</td>\n",
       "      <td>1</td>\n",
       "      <td>0.66</td>\n",
       "      <td>V</td>\n",
       "      <td>1.16</td>\n",
       "      <td>...</td>\n",
       "      <td>2.57</td>\n",
       "      <td>V</td>\n",
       "      <td>2.93</td>\n",
       "      <td>V</td>\n",
       "      <td>3.23</td>\n",
       "      <td>V</td>\n",
       "      <td>3.18</td>\n",
       "      <td>V</td>\n",
       "      <td>4.72</td>\n",
       "      <td>V</td>\n",
       "    </tr>\n",
       "    <tr>\n",
       "      <th>1</th>\n",
       "      <td>28</td>\n",
       "      <td>79</td>\n",
       "      <td>102</td>\n",
       "      <td>81</td>\n",
       "      <td>28079102_81_98</td>\n",
       "      <td>2019</td>\n",
       "      <td>2</td>\n",
       "      <td>4.32</td>\n",
       "      <td>V</td>\n",
       "      <td>2.98</td>\n",
       "      <td>...</td>\n",
       "      <td>1.36</td>\n",
       "      <td>V</td>\n",
       "      <td>0.97</td>\n",
       "      <td>V</td>\n",
       "      <td>0.00</td>\n",
       "      <td>N</td>\n",
       "      <td>0.00</td>\n",
       "      <td>N</td>\n",
       "      <td>0.00</td>\n",
       "      <td>N</td>\n",
       "    </tr>\n",
       "    <tr>\n",
       "      <th>2</th>\n",
       "      <td>28</td>\n",
       "      <td>79</td>\n",
       "      <td>102</td>\n",
       "      <td>81</td>\n",
       "      <td>28079102_81_98</td>\n",
       "      <td>2019</td>\n",
       "      <td>3</td>\n",
       "      <td>1.57</td>\n",
       "      <td>V</td>\n",
       "      <td>1.13</td>\n",
       "      <td>...</td>\n",
       "      <td>1.48</td>\n",
       "      <td>V</td>\n",
       "      <td>1.69</td>\n",
       "      <td>V</td>\n",
       "      <td>2.89</td>\n",
       "      <td>V</td>\n",
       "      <td>1.99</td>\n",
       "      <td>V</td>\n",
       "      <td>1.72</td>\n",
       "      <td>V</td>\n",
       "    </tr>\n",
       "    <tr>\n",
       "      <th>3</th>\n",
       "      <td>28</td>\n",
       "      <td>79</td>\n",
       "      <td>102</td>\n",
       "      <td>81</td>\n",
       "      <td>28079102_81_98</td>\n",
       "      <td>2019</td>\n",
       "      <td>4</td>\n",
       "      <td>1.32</td>\n",
       "      <td>V</td>\n",
       "      <td>1.21</td>\n",
       "      <td>...</td>\n",
       "      <td>1.00</td>\n",
       "      <td>V</td>\n",
       "      <td>1.82</td>\n",
       "      <td>V</td>\n",
       "      <td>1.97</td>\n",
       "      <td>V</td>\n",
       "      <td>1.84</td>\n",
       "      <td>V</td>\n",
       "      <td>0.00</td>\n",
       "      <td>N</td>\n",
       "    </tr>\n",
       "    <tr>\n",
       "      <th>4</th>\n",
       "      <td>28</td>\n",
       "      <td>79</td>\n",
       "      <td>102</td>\n",
       "      <td>81</td>\n",
       "      <td>28079102_81_98</td>\n",
       "      <td>2019</td>\n",
       "      <td>5</td>\n",
       "      <td>2.06</td>\n",
       "      <td>V</td>\n",
       "      <td>2.21</td>\n",
       "      <td>...</td>\n",
       "      <td>1.77</td>\n",
       "      <td>V</td>\n",
       "      <td>3.32</td>\n",
       "      <td>V</td>\n",
       "      <td>3.76</td>\n",
       "      <td>V</td>\n",
       "      <td>3.04</td>\n",
       "      <td>V</td>\n",
       "      <td>1.89</td>\n",
       "      <td>V</td>\n",
       "    </tr>\n",
       "    <tr>\n",
       "      <th>...</th>\n",
       "      <td>...</td>\n",
       "      <td>...</td>\n",
       "      <td>...</td>\n",
       "      <td>...</td>\n",
       "      <td>...</td>\n",
       "      <td>...</td>\n",
       "      <td>...</td>\n",
       "      <td>...</td>\n",
       "      <td>...</td>\n",
       "      <td>...</td>\n",
       "      <td>...</td>\n",
       "      <td>...</td>\n",
       "      <td>...</td>\n",
       "      <td>...</td>\n",
       "      <td>...</td>\n",
       "      <td>...</td>\n",
       "      <td>...</td>\n",
       "      <td>...</td>\n",
       "      <td>...</td>\n",
       "      <td>...</td>\n",
       "      <td>...</td>\n",
       "    </tr>\n",
       "    <tr>\n",
       "      <th>1125</th>\n",
       "      <td>28</td>\n",
       "      <td>79</td>\n",
       "      <td>59</td>\n",
       "      <td>89</td>\n",
       "      <td>28079059_89_98</td>\n",
       "      <td>2019</td>\n",
       "      <td>8</td>\n",
       "      <td>0.00</td>\n",
       "      <td>N</td>\n",
       "      <td>0.00</td>\n",
       "      <td>...</td>\n",
       "      <td>0.90</td>\n",
       "      <td>V</td>\n",
       "      <td>0.40</td>\n",
       "      <td>V</td>\n",
       "      <td>0.00</td>\n",
       "      <td>V</td>\n",
       "      <td>0.20</td>\n",
       "      <td>V</td>\n",
       "      <td>0.00</td>\n",
       "      <td>V</td>\n",
       "    </tr>\n",
       "    <tr>\n",
       "      <th>1126</th>\n",
       "      <td>28</td>\n",
       "      <td>79</td>\n",
       "      <td>59</td>\n",
       "      <td>89</td>\n",
       "      <td>28079059_89_98</td>\n",
       "      <td>2019</td>\n",
       "      <td>9</td>\n",
       "      <td>0.00</td>\n",
       "      <td>V</td>\n",
       "      <td>0.00</td>\n",
       "      <td>...</td>\n",
       "      <td>0.00</td>\n",
       "      <td>V</td>\n",
       "      <td>0.00</td>\n",
       "      <td>V</td>\n",
       "      <td>0.00</td>\n",
       "      <td>V</td>\n",
       "      <td>0.00</td>\n",
       "      <td>V</td>\n",
       "      <td>0.00</td>\n",
       "      <td>N</td>\n",
       "    </tr>\n",
       "    <tr>\n",
       "      <th>1127</th>\n",
       "      <td>28</td>\n",
       "      <td>79</td>\n",
       "      <td>59</td>\n",
       "      <td>89</td>\n",
       "      <td>28079059_89_98</td>\n",
       "      <td>2019</td>\n",
       "      <td>10</td>\n",
       "      <td>0.00</td>\n",
       "      <td>V</td>\n",
       "      <td>0.00</td>\n",
       "      <td>...</td>\n",
       "      <td>0.00</td>\n",
       "      <td>V</td>\n",
       "      <td>0.00</td>\n",
       "      <td>V</td>\n",
       "      <td>0.00</td>\n",
       "      <td>V</td>\n",
       "      <td>0.00</td>\n",
       "      <td>V</td>\n",
       "      <td>0.40</td>\n",
       "      <td>V</td>\n",
       "    </tr>\n",
       "    <tr>\n",
       "      <th>1128</th>\n",
       "      <td>28</td>\n",
       "      <td>79</td>\n",
       "      <td>59</td>\n",
       "      <td>89</td>\n",
       "      <td>28079059_89_98</td>\n",
       "      <td>2019</td>\n",
       "      <td>11</td>\n",
       "      <td>0.00</td>\n",
       "      <td>V</td>\n",
       "      <td>0.00</td>\n",
       "      <td>...</td>\n",
       "      <td>0.10</td>\n",
       "      <td>V</td>\n",
       "      <td>0.00</td>\n",
       "      <td>V</td>\n",
       "      <td>0.40</td>\n",
       "      <td>V</td>\n",
       "      <td>7.50</td>\n",
       "      <td>V</td>\n",
       "      <td>0.00</td>\n",
       "      <td>N</td>\n",
       "    </tr>\n",
       "    <tr>\n",
       "      <th>1129</th>\n",
       "      <td>28</td>\n",
       "      <td>79</td>\n",
       "      <td>59</td>\n",
       "      <td>89</td>\n",
       "      <td>28079059_89_98</td>\n",
       "      <td>2019</td>\n",
       "      <td>12</td>\n",
       "      <td>20.00</td>\n",
       "      <td>V</td>\n",
       "      <td>0.00</td>\n",
       "      <td>...</td>\n",
       "      <td>0.00</td>\n",
       "      <td>V</td>\n",
       "      <td>0.00</td>\n",
       "      <td>V</td>\n",
       "      <td>0.00</td>\n",
       "      <td>V</td>\n",
       "      <td>0.10</td>\n",
       "      <td>V</td>\n",
       "      <td>0.00</td>\n",
       "      <td>V</td>\n",
       "    </tr>\n",
       "  </tbody>\n",
       "</table>\n",
       "<p>1130 rows × 69 columns</p>\n",
       "</div>"
      ],
      "text/plain": [
       "      PROVINCIA  MUNICIPIO  ESTACION  MAGNITUD  PUNTO_MUESTREO   ANO  MES  \\\n",
       "0            28         79       102        81  28079102_81_98  2019    1   \n",
       "1            28         79       102        81  28079102_81_98  2019    2   \n",
       "2            28         79       102        81  28079102_81_98  2019    3   \n",
       "3            28         79       102        81  28079102_81_98  2019    4   \n",
       "4            28         79       102        81  28079102_81_98  2019    5   \n",
       "...         ...        ...       ...       ...             ...   ...  ...   \n",
       "1125         28         79        59        89  28079059_89_98  2019    8   \n",
       "1126         28         79        59        89  28079059_89_98  2019    9   \n",
       "1127         28         79        59        89  28079059_89_98  2019   10   \n",
       "1128         28         79        59        89  28079059_89_98  2019   11   \n",
       "1129         28         79        59        89  28079059_89_98  2019   12   \n",
       "\n",
       "        D01 V01   D02  ...   D27  V27   D28  V28   D29  V29   D30  V30   D31  \\\n",
       "0      0.66   V  1.16  ...  2.57    V  2.93    V  3.23    V  3.18    V  4.72   \n",
       "1      4.32   V  2.98  ...  1.36    V  0.97    V  0.00    N  0.00    N  0.00   \n",
       "2      1.57   V  1.13  ...  1.48    V  1.69    V  2.89    V  1.99    V  1.72   \n",
       "3      1.32   V  1.21  ...  1.00    V  1.82    V  1.97    V  1.84    V  0.00   \n",
       "4      2.06   V  2.21  ...  1.77    V  3.32    V  3.76    V  3.04    V  1.89   \n",
       "...     ...  ..   ...  ...   ...  ...   ...  ...   ...  ...   ...  ...   ...   \n",
       "1125   0.00   N  0.00  ...  0.90    V  0.40    V  0.00    V  0.20    V  0.00   \n",
       "1126   0.00   V  0.00  ...  0.00    V  0.00    V  0.00    V  0.00    V  0.00   \n",
       "1127   0.00   V  0.00  ...  0.00    V  0.00    V  0.00    V  0.00    V  0.40   \n",
       "1128   0.00   V  0.00  ...  0.10    V  0.00    V  0.40    V  7.50    V  0.00   \n",
       "1129  20.00   V  0.00  ...  0.00    V  0.00    V  0.00    V  0.10    V  0.00   \n",
       "\n",
       "      V31  \n",
       "0       V  \n",
       "1       N  \n",
       "2       V  \n",
       "3       N  \n",
       "4       V  \n",
       "...   ...  \n",
       "1125    V  \n",
       "1126    N  \n",
       "1127    V  \n",
       "1128    N  \n",
       "1129    V  \n",
       "\n",
       "[1130 rows x 69 columns]"
      ]
     },
     "execution_count": 5,
     "metadata": {},
     "output_type": "execute_result"
    }
   ],
   "source": [
    "df"
   ]
  },
  {
   "cell_type": "code",
   "execution_count": 6,
   "id": "4967b2e3",
   "metadata": {},
   "outputs": [
    {
     "data": {
      "text/plain": [
       "Index(['PROVINCIA', 'MUNICIPIO', 'ESTACION', 'MAGNITUD', 'PUNTO_MUESTREO',\n",
       "       'ANO', 'MES', 'D01', 'V01', 'D02', 'V02', 'D03', 'V03', 'D04', 'V04',\n",
       "       'D05', 'V05', 'D06', 'V06', 'D07', 'V07', 'D08', 'V08', 'D09', 'V09',\n",
       "       'D10', 'V10', 'D11', 'V11', 'D12', 'V12', 'D13', 'V13', 'D14', 'V14',\n",
       "       'D15', 'V15', 'D16', 'V16', 'D17', 'V17', 'D18', 'V18', 'D19', 'V19',\n",
       "       'D20', 'V20', 'D21', 'V21', 'D22', 'V22', 'D23', 'V23', 'D24', 'V24',\n",
       "       'D25', 'V25', 'D26', 'V26', 'D27', 'V27', 'D28', 'V28', 'D29', 'V29',\n",
       "       'D30', 'V30', 'D31', 'V31'],\n",
       "      dtype='object')"
      ]
     },
     "execution_count": 6,
     "metadata": {},
     "output_type": "execute_result"
    }
   ],
   "source": [
    "df.columns"
   ]
  },
  {
   "cell_type": "code",
   "execution_count": 7,
   "id": "cc3936d4",
   "metadata": {
    "scrolled": true
   },
   "outputs": [
    {
     "data": {
      "text/plain": [
       "array([79])"
      ]
     },
     "execution_count": 7,
     "metadata": {},
     "output_type": "execute_result"
    }
   ],
   "source": [
    "df['MUNICIPIO'].unique()"
   ]
  },
  {
   "cell_type": "markdown",
   "id": "31899ac5",
   "metadata": {},
   "source": [
    "- Estructura"
   ]
  },
  {
   "cell_type": "code",
   "execution_count": 8,
   "id": "da522f18",
   "metadata": {},
   "outputs": [],
   "source": [
    "import datetime"
   ]
  },
  {
   "cell_type": "code",
   "execution_count": 9,
   "id": "b81607dc",
   "metadata": {},
   "outputs": [],
   "source": [
    "def Reshape(df):\n",
    "    for i, row in df.iterrows():\n",
    "        df.loc[i,'01'] = str(row['D01']) + row ['V01']\n",
    "        df.loc[i,'02'] = str(row['D02']) + row ['V02']\n",
    "        df.loc[i,'03'] = str(row['D03']) + row ['V03']\n",
    "        df.loc[i,'04'] = str(row['D04']) + row ['V04']\n",
    "        df.loc[i,'05'] = str(row['D05']) + row ['V05']\n",
    "        df.loc[i,'06'] = str(row['D06']) + row ['V06']\n",
    "        df.loc[i,'07'] = str(row['D07']) + row ['V07']\n",
    "        df.loc[i,'08'] = str(row['D08']) + row ['V08']\n",
    "        df.loc[i,'09'] = str(row['D09']) + row ['V09']\n",
    "        df.loc[i,'10'] = str(row['D10']) + row ['V10']\n",
    "        df.loc[i,'11'] = str(row['D11']) + row ['V11']\n",
    "        df.loc[i,'12'] = str(row['D12']) + row ['V12']\n",
    "        df.loc[i,'13'] = str(row['D13']) + row ['V13']\n",
    "        df.loc[i,'14'] = str(row['D14']) + row ['V14']\n",
    "        df.loc[i,'15'] = str(row['D15']) + row ['V15']\n",
    "        df.loc[i,'16'] = str(row['D16']) + row ['V16']\n",
    "        df.loc[i,'17'] = str(row['D17']) + row ['V17']\n",
    "        df.loc[i,'18'] = str(row['D18']) + row ['V18']\n",
    "        df.loc[i,'19'] = str(row['D19']) + row ['V19']\n",
    "        df.loc[i,'20'] = str(row['D20']) + row ['V20']\n",
    "        df.loc[i,'21'] = str(row['D21']) + row ['V21']\n",
    "        df.loc[i,'22'] = str(row['D22']) + row ['V22']\n",
    "        df.loc[i,'23'] = str(row['D23']) + row ['V23']\n",
    "        df.loc[i,'24'] = str(row['D24']) + row ['V24']\n",
    "        df.loc[i,'25'] = str(row['D25']) + row ['V25']\n",
    "        df.loc[i,'26'] = str(row['D26']) + row ['V26']\n",
    "        df.loc[i,'27'] = str(row['D27']) + row ['V27']\n",
    "        df.loc[i,'28'] = str(row['D28']) + row ['V28']\n",
    "        df.loc[i,'29'] = str(row['D29']) + row ['V29']\n",
    "        df.loc[i,'30'] = str(row['D30']) + row ['V30']\n",
    "        df.loc[i,'31'] = str(row['D31']) + row ['V31']\n",
    "    \n",
    "    df = df.drop(['D01', 'V01', 'D02', 'V02', 'D03', 'V03', 'D04', 'V04', 'D05', 'V05', 'D06', 'V06', 'D07', 'V07', \n",
    "                  'D08', 'V08', 'D09', 'V09', 'D10', 'V10', 'D11', 'V11', 'D12', 'V12', 'D13', 'V13', 'D14', 'V14',\n",
    "                  'D15', 'V15', 'D16', 'V16', 'D17', 'V17', 'D18', 'V18', 'D19', 'V19', 'D20', 'V20', 'D21', 'V21', \n",
    "                  'D22', 'V22', 'D23', 'V23', 'D24', 'V24', 'D25', 'V25', 'D26', 'V26', 'D27', 'V27', 'D28', 'V28', \n",
    "                  'D29', 'V29', 'D30', 'V30', 'D31', 'V31'], axis = 1)\n",
    "    \n",
    "    df = pd.melt(df, id_vars = ['PROVINCIA', 'MUNICIPIO', 'ESTACION', 'MAGNITUD', 'PUNTO_MUESTREO', 'ANO', 'MES'],\n",
    "                var_name = 'DIA',\n",
    "                value_name = 'valor')\n",
    "    \n",
    "    df = df[~((df['MES'].isin([4,6,9,11])) & (df['DIA']==str(31)))]\n",
    "    df = df[~((df['MES'] == 2) & (df['DIA'].isin([str(29), str(30), str(31)])) & (df['ANO']== 2019))]\n",
    "    df = df[~((df['MES'] == 2) & (df['DIA'].isin([str(30), str(31)])) & (df['ANO']== 2020))]\n",
    "    df = df[~((df['MES'] == 2) & (df['DIA'].isin([str(29), str(30), str(31)])) & (df['ANO']== 2021))]\n",
    "    df = df[~((df['MES'] == 2) & (df['DIA'].isin([str(29), str(30), str(31)])) & (df['ANO']== 2022))]\n",
    "    df = df[~((df['MES'] == 2) & (df['DIA'].isin([str(29), str(30), str(31)])) & (df['ANO']== 2023))]\n",
    "    \n",
    "    df.rename(columns = {'ANO': 'year', 'MES': 'month', 'DIA': 'day'}, inplace=True)\n",
    "    df['year'] = df['year'].astype(int)\n",
    "    df['month'] = df['month'].astype(int)\n",
    "    df['day'] = df['day'].astype(int)\n",
    "    \n",
    "    df['Datetime'] = ''\n",
    "    for i, row in df.iterrows():\n",
    "        df.at[i, 'Datetime'] = datetime.date(year = row['year'], day = row['day'], month = row['month'])\n",
    "    \n",
    "    for i, row in df.iterrows():\n",
    "        df.loc[i,'validacion'] = row['valor'][len(row['valor'])-1]\n",
    "        df.loc[i, 'valor'] = row['valor'][0:len(row['valor'])-1]\n",
    "    \n",
    "    df = df[df['validacion']== 'V']\n",
    "    df['valor'] = df['valor'].astype('float')\n",
    "    for i, row in df.iterrows():\n",
    "        df.loc[i,'id'] = str(row['Datetime']) + '-' + str(row['ESTACION'])\n",
    "    \n",
    "    return(df)"
   ]
  },
  {
   "cell_type": "code",
   "execution_count": 10,
   "id": "8cd4aefb",
   "metadata": {},
   "outputs": [],
   "source": [
    "df1 = Reshape(df)"
   ]
  },
  {
   "cell_type": "code",
   "execution_count": 11,
   "id": "19066b7c",
   "metadata": {
    "scrolled": true
   },
   "outputs": [
    {
     "data": {
      "text/html": [
       "<div>\n",
       "<style scoped>\n",
       "    .dataframe tbody tr th:only-of-type {\n",
       "        vertical-align: middle;\n",
       "    }\n",
       "\n",
       "    .dataframe tbody tr th {\n",
       "        vertical-align: top;\n",
       "    }\n",
       "\n",
       "    .dataframe thead th {\n",
       "        text-align: right;\n",
       "    }\n",
       "</style>\n",
       "<table border=\"1\" class=\"dataframe\">\n",
       "  <thead>\n",
       "    <tr style=\"text-align: right;\">\n",
       "      <th></th>\n",
       "      <th>PROVINCIA</th>\n",
       "      <th>MUNICIPIO</th>\n",
       "      <th>ESTACION</th>\n",
       "      <th>MAGNITUD</th>\n",
       "      <th>PUNTO_MUESTREO</th>\n",
       "      <th>year</th>\n",
       "      <th>month</th>\n",
       "      <th>day</th>\n",
       "      <th>valor</th>\n",
       "      <th>Datetime</th>\n",
       "      <th>validacion</th>\n",
       "      <th>id</th>\n",
       "    </tr>\n",
       "  </thead>\n",
       "  <tbody>\n",
       "    <tr>\n",
       "      <th>0</th>\n",
       "      <td>28</td>\n",
       "      <td>79</td>\n",
       "      <td>102</td>\n",
       "      <td>81</td>\n",
       "      <td>28079102_81_98</td>\n",
       "      <td>2019</td>\n",
       "      <td>1</td>\n",
       "      <td>1</td>\n",
       "      <td>0.66</td>\n",
       "      <td>2019-01-01</td>\n",
       "      <td>V</td>\n",
       "      <td>2019-01-01-102</td>\n",
       "    </tr>\n",
       "    <tr>\n",
       "      <th>1</th>\n",
       "      <td>28</td>\n",
       "      <td>79</td>\n",
       "      <td>102</td>\n",
       "      <td>81</td>\n",
       "      <td>28079102_81_98</td>\n",
       "      <td>2019</td>\n",
       "      <td>2</td>\n",
       "      <td>1</td>\n",
       "      <td>4.32</td>\n",
       "      <td>2019-02-01</td>\n",
       "      <td>V</td>\n",
       "      <td>2019-02-01-102</td>\n",
       "    </tr>\n",
       "    <tr>\n",
       "      <th>2</th>\n",
       "      <td>28</td>\n",
       "      <td>79</td>\n",
       "      <td>102</td>\n",
       "      <td>81</td>\n",
       "      <td>28079102_81_98</td>\n",
       "      <td>2019</td>\n",
       "      <td>3</td>\n",
       "      <td>1</td>\n",
       "      <td>1.57</td>\n",
       "      <td>2019-03-01</td>\n",
       "      <td>V</td>\n",
       "      <td>2019-03-01-102</td>\n",
       "    </tr>\n",
       "    <tr>\n",
       "      <th>3</th>\n",
       "      <td>28</td>\n",
       "      <td>79</td>\n",
       "      <td>102</td>\n",
       "      <td>81</td>\n",
       "      <td>28079102_81_98</td>\n",
       "      <td>2019</td>\n",
       "      <td>4</td>\n",
       "      <td>1</td>\n",
       "      <td>1.32</td>\n",
       "      <td>2019-04-01</td>\n",
       "      <td>V</td>\n",
       "      <td>2019-04-01-102</td>\n",
       "    </tr>\n",
       "    <tr>\n",
       "      <th>4</th>\n",
       "      <td>28</td>\n",
       "      <td>79</td>\n",
       "      <td>102</td>\n",
       "      <td>81</td>\n",
       "      <td>28079102_81_98</td>\n",
       "      <td>2019</td>\n",
       "      <td>5</td>\n",
       "      <td>1</td>\n",
       "      <td>2.06</td>\n",
       "      <td>2019-05-01</td>\n",
       "      <td>V</td>\n",
       "      <td>2019-05-01-102</td>\n",
       "    </tr>\n",
       "    <tr>\n",
       "      <th>...</th>\n",
       "      <td>...</td>\n",
       "      <td>...</td>\n",
       "      <td>...</td>\n",
       "      <td>...</td>\n",
       "      <td>...</td>\n",
       "      <td>...</td>\n",
       "      <td>...</td>\n",
       "      <td>...</td>\n",
       "      <td>...</td>\n",
       "      <td>...</td>\n",
       "      <td>...</td>\n",
       "      <td>...</td>\n",
       "    </tr>\n",
       "    <tr>\n",
       "      <th>35021</th>\n",
       "      <td>28</td>\n",
       "      <td>79</td>\n",
       "      <td>59</td>\n",
       "      <td>89</td>\n",
       "      <td>28079059_89_98</td>\n",
       "      <td>2019</td>\n",
       "      <td>3</td>\n",
       "      <td>31</td>\n",
       "      <td>0.60</td>\n",
       "      <td>2019-03-31</td>\n",
       "      <td>V</td>\n",
       "      <td>2019-03-31-59</td>\n",
       "    </tr>\n",
       "    <tr>\n",
       "      <th>35023</th>\n",
       "      <td>28</td>\n",
       "      <td>79</td>\n",
       "      <td>59</td>\n",
       "      <td>89</td>\n",
       "      <td>28079059_89_98</td>\n",
       "      <td>2019</td>\n",
       "      <td>5</td>\n",
       "      <td>31</td>\n",
       "      <td>0.00</td>\n",
       "      <td>2019-05-31</td>\n",
       "      <td>V</td>\n",
       "      <td>2019-05-31-59</td>\n",
       "    </tr>\n",
       "    <tr>\n",
       "      <th>35025</th>\n",
       "      <td>28</td>\n",
       "      <td>79</td>\n",
       "      <td>59</td>\n",
       "      <td>89</td>\n",
       "      <td>28079059_89_98</td>\n",
       "      <td>2019</td>\n",
       "      <td>8</td>\n",
       "      <td>31</td>\n",
       "      <td>0.00</td>\n",
       "      <td>2019-08-31</td>\n",
       "      <td>V</td>\n",
       "      <td>2019-08-31-59</td>\n",
       "    </tr>\n",
       "    <tr>\n",
       "      <th>35027</th>\n",
       "      <td>28</td>\n",
       "      <td>79</td>\n",
       "      <td>59</td>\n",
       "      <td>89</td>\n",
       "      <td>28079059_89_98</td>\n",
       "      <td>2019</td>\n",
       "      <td>10</td>\n",
       "      <td>31</td>\n",
       "      <td>0.40</td>\n",
       "      <td>2019-10-31</td>\n",
       "      <td>V</td>\n",
       "      <td>2019-10-31-59</td>\n",
       "    </tr>\n",
       "    <tr>\n",
       "      <th>35029</th>\n",
       "      <td>28</td>\n",
       "      <td>79</td>\n",
       "      <td>59</td>\n",
       "      <td>89</td>\n",
       "      <td>28079059_89_98</td>\n",
       "      <td>2019</td>\n",
       "      <td>12</td>\n",
       "      <td>31</td>\n",
       "      <td>0.00</td>\n",
       "      <td>2019-12-31</td>\n",
       "      <td>V</td>\n",
       "      <td>2019-12-31-59</td>\n",
       "    </tr>\n",
       "  </tbody>\n",
       "</table>\n",
       "<p>33779 rows × 12 columns</p>\n",
       "</div>"
      ],
      "text/plain": [
       "       PROVINCIA  MUNICIPIO  ESTACION  MAGNITUD  PUNTO_MUESTREO  year  month  \\\n",
       "0             28         79       102        81  28079102_81_98  2019      1   \n",
       "1             28         79       102        81  28079102_81_98  2019      2   \n",
       "2             28         79       102        81  28079102_81_98  2019      3   \n",
       "3             28         79       102        81  28079102_81_98  2019      4   \n",
       "4             28         79       102        81  28079102_81_98  2019      5   \n",
       "...          ...        ...       ...       ...             ...   ...    ...   \n",
       "35021         28         79        59        89  28079059_89_98  2019      3   \n",
       "35023         28         79        59        89  28079059_89_98  2019      5   \n",
       "35025         28         79        59        89  28079059_89_98  2019      8   \n",
       "35027         28         79        59        89  28079059_89_98  2019     10   \n",
       "35029         28         79        59        89  28079059_89_98  2019     12   \n",
       "\n",
       "       day  valor    Datetime validacion              id  \n",
       "0        1   0.66  2019-01-01          V  2019-01-01-102  \n",
       "1        1   4.32  2019-02-01          V  2019-02-01-102  \n",
       "2        1   1.57  2019-03-01          V  2019-03-01-102  \n",
       "3        1   1.32  2019-04-01          V  2019-04-01-102  \n",
       "4        1   2.06  2019-05-01          V  2019-05-01-102  \n",
       "...    ...    ...         ...        ...             ...  \n",
       "35021   31   0.60  2019-03-31          V   2019-03-31-59  \n",
       "35023   31   0.00  2019-05-31          V   2019-05-31-59  \n",
       "35025   31   0.00  2019-08-31          V   2019-08-31-59  \n",
       "35027   31   0.40  2019-10-31          V   2019-10-31-59  \n",
       "35029   31   0.00  2019-12-31          V   2019-12-31-59  \n",
       "\n",
       "[33779 rows x 12 columns]"
      ]
     },
     "execution_count": 11,
     "metadata": {},
     "output_type": "execute_result"
    }
   ],
   "source": [
    "df1"
   ]
  },
  {
   "cell_type": "code",
   "execution_count": 12,
   "id": "a10fc2a2",
   "metadata": {},
   "outputs": [
    {
     "data": {
      "text/plain": [
       "array([102, 103, 104, 106, 107, 108, 109, 110, 111, 112, 113, 114, 115,\n",
       "         4,   8,  16,  18,  24,  35,  36,  38,  39,  54,  56,  58,  59])"
      ]
     },
     "execution_count": 12,
     "metadata": {},
     "output_type": "execute_result"
    }
   ],
   "source": [
    "df1['ESTACION'].unique()"
   ]
  },
  {
   "cell_type": "code",
   "execution_count": 12,
   "id": "87f77c8e",
   "metadata": {},
   "outputs": [
    {
     "data": {
      "text/plain": [
       "array([81, 82, 83, 86, 87, 88, 89, 80])"
      ]
     },
     "execution_count": 12,
     "metadata": {},
     "output_type": "execute_result"
    }
   ],
   "source": [
    "df1['MAGNITUD'].unique()"
   ]
  },
  {
   "cell_type": "code",
   "execution_count": 13,
   "id": "3a040dc6",
   "metadata": {},
   "outputs": [],
   "source": [
    "valor_especifico = 80\n",
    "conteo = df1[df1['MAGNITUD'] == valor_especifico]['MAGNITUD'].count()"
   ]
  },
  {
   "cell_type": "code",
   "execution_count": 14,
   "id": "9ad01b5d",
   "metadata": {},
   "outputs": [
    {
     "name": "stdout",
     "output_type": "stream",
     "text": [
      "El número de registros con el valor 80 en la columna TEMP es: 417\n"
     ]
    }
   ],
   "source": [
    "print(f\"El número de registros con el valor {valor_especifico} en la columna TEMP es: {conteo}\")"
   ]
  },
  {
   "cell_type": "code",
   "execution_count": 12,
   "id": "8befcbf1",
   "metadata": {},
   "outputs": [
    {
     "name": "stdout",
     "output_type": "stream",
     "text": [
      "<class 'pandas.core.frame.DataFrame'>\n",
      "Int64Index: 33779 entries, 0 to 35029\n",
      "Data columns (total 12 columns):\n",
      " #   Column          Non-Null Count  Dtype  \n",
      "---  ------          --------------  -----  \n",
      " 0   PROVINCIA       33779 non-null  int64  \n",
      " 1   MUNICIPIO       33779 non-null  int64  \n",
      " 2   ESTACION        33779 non-null  int64  \n",
      " 3   MAGNITUD        33779 non-null  int64  \n",
      " 4   PUNTO_MUESTREO  33779 non-null  object \n",
      " 5   year            33779 non-null  int64  \n",
      " 6   month           33779 non-null  int64  \n",
      " 7   day             33779 non-null  int64  \n",
      " 8   valor           33779 non-null  float64\n",
      " 9   Datetime        33779 non-null  object \n",
      " 10  validacion      33779 non-null  object \n",
      " 11  id              33779 non-null  object \n",
      "dtypes: float64(1), int64(7), object(4)\n",
      "memory usage: 4.4+ MB\n"
     ]
    }
   ],
   "source": [
    "df1.info()"
   ]
  },
  {
   "cell_type": "code",
   "execution_count": 13,
   "id": "82fca1d9",
   "metadata": {},
   "outputs": [
    {
     "data": {
      "text/plain": [
       "array([102, 103, 104, 106, 107, 108, 109, 110, 111, 112, 113, 114, 115,\n",
       "         4,   8,  16,  18,  24,  35,  36,  38,  39,  54,  56,  58,  59])"
      ]
     },
     "execution_count": 13,
     "metadata": {},
     "output_type": "execute_result"
    }
   ],
   "source": [
    "df1['ESTACION'].unique()"
   ]
  },
  {
   "cell_type": "code",
   "execution_count": 14,
   "id": "85f7ad4c",
   "metadata": {},
   "outputs": [
    {
     "data": {
      "text/plain": [
       "array([79])"
      ]
     },
     "execution_count": 14,
     "metadata": {},
     "output_type": "execute_result"
    }
   ],
   "source": [
    "df1['MUNICIPIO'].unique()"
   ]
  },
  {
   "cell_type": "code",
   "execution_count": 15,
   "id": "8495c264",
   "metadata": {
    "scrolled": true
   },
   "outputs": [
    {
     "data": {
      "text/plain": [
       "array([ 1,  2,  3,  4,  5,  6,  7,  8,  9, 10, 11, 12])"
      ]
     },
     "execution_count": 15,
     "metadata": {},
     "output_type": "execute_result"
    }
   ],
   "source": [
    "df1['month'].unique()"
   ]
  },
  {
   "cell_type": "code",
   "execution_count": 16,
   "id": "ea70d83a",
   "metadata": {},
   "outputs": [],
   "source": [
    "df1['MAGNITUD'] = df1['MAGNITUD'].replace({80: 'RU', 81: 'VV', 82: 'DV', 83: 'TEMP', 86: 'HR', 87: 'PB', 88: 'RS',\n",
    "                                        89: 'P'})"
   ]
  },
  {
   "cell_type": "code",
   "execution_count": 17,
   "id": "f29a1500",
   "metadata": {
    "scrolled": true
   },
   "outputs": [
    {
     "data": {
      "text/html": [
       "<div>\n",
       "<style scoped>\n",
       "    .dataframe tbody tr th:only-of-type {\n",
       "        vertical-align: middle;\n",
       "    }\n",
       "\n",
       "    .dataframe tbody tr th {\n",
       "        vertical-align: top;\n",
       "    }\n",
       "\n",
       "    .dataframe thead th {\n",
       "        text-align: right;\n",
       "    }\n",
       "</style>\n",
       "<table border=\"1\" class=\"dataframe\">\n",
       "  <thead>\n",
       "    <tr style=\"text-align: right;\">\n",
       "      <th></th>\n",
       "      <th>PROVINCIA</th>\n",
       "      <th>MUNICIPIO</th>\n",
       "      <th>ESTACION</th>\n",
       "      <th>MAGNITUD</th>\n",
       "      <th>PUNTO_MUESTREO</th>\n",
       "      <th>year</th>\n",
       "      <th>month</th>\n",
       "      <th>day</th>\n",
       "      <th>valor</th>\n",
       "      <th>Datetime</th>\n",
       "      <th>validacion</th>\n",
       "      <th>id</th>\n",
       "    </tr>\n",
       "  </thead>\n",
       "  <tbody>\n",
       "    <tr>\n",
       "      <th>0</th>\n",
       "      <td>28</td>\n",
       "      <td>79</td>\n",
       "      <td>102</td>\n",
       "      <td>VV</td>\n",
       "      <td>28079102_81_98</td>\n",
       "      <td>2019</td>\n",
       "      <td>1</td>\n",
       "      <td>1</td>\n",
       "      <td>0.66</td>\n",
       "      <td>2019-01-01</td>\n",
       "      <td>V</td>\n",
       "      <td>2019-01-01-102</td>\n",
       "    </tr>\n",
       "    <tr>\n",
       "      <th>1</th>\n",
       "      <td>28</td>\n",
       "      <td>79</td>\n",
       "      <td>102</td>\n",
       "      <td>VV</td>\n",
       "      <td>28079102_81_98</td>\n",
       "      <td>2019</td>\n",
       "      <td>2</td>\n",
       "      <td>1</td>\n",
       "      <td>4.32</td>\n",
       "      <td>2019-02-01</td>\n",
       "      <td>V</td>\n",
       "      <td>2019-02-01-102</td>\n",
       "    </tr>\n",
       "    <tr>\n",
       "      <th>2</th>\n",
       "      <td>28</td>\n",
       "      <td>79</td>\n",
       "      <td>102</td>\n",
       "      <td>VV</td>\n",
       "      <td>28079102_81_98</td>\n",
       "      <td>2019</td>\n",
       "      <td>3</td>\n",
       "      <td>1</td>\n",
       "      <td>1.57</td>\n",
       "      <td>2019-03-01</td>\n",
       "      <td>V</td>\n",
       "      <td>2019-03-01-102</td>\n",
       "    </tr>\n",
       "    <tr>\n",
       "      <th>3</th>\n",
       "      <td>28</td>\n",
       "      <td>79</td>\n",
       "      <td>102</td>\n",
       "      <td>VV</td>\n",
       "      <td>28079102_81_98</td>\n",
       "      <td>2019</td>\n",
       "      <td>4</td>\n",
       "      <td>1</td>\n",
       "      <td>1.32</td>\n",
       "      <td>2019-04-01</td>\n",
       "      <td>V</td>\n",
       "      <td>2019-04-01-102</td>\n",
       "    </tr>\n",
       "    <tr>\n",
       "      <th>4</th>\n",
       "      <td>28</td>\n",
       "      <td>79</td>\n",
       "      <td>102</td>\n",
       "      <td>VV</td>\n",
       "      <td>28079102_81_98</td>\n",
       "      <td>2019</td>\n",
       "      <td>5</td>\n",
       "      <td>1</td>\n",
       "      <td>2.06</td>\n",
       "      <td>2019-05-01</td>\n",
       "      <td>V</td>\n",
       "      <td>2019-05-01-102</td>\n",
       "    </tr>\n",
       "    <tr>\n",
       "      <th>...</th>\n",
       "      <td>...</td>\n",
       "      <td>...</td>\n",
       "      <td>...</td>\n",
       "      <td>...</td>\n",
       "      <td>...</td>\n",
       "      <td>...</td>\n",
       "      <td>...</td>\n",
       "      <td>...</td>\n",
       "      <td>...</td>\n",
       "      <td>...</td>\n",
       "      <td>...</td>\n",
       "      <td>...</td>\n",
       "    </tr>\n",
       "    <tr>\n",
       "      <th>35021</th>\n",
       "      <td>28</td>\n",
       "      <td>79</td>\n",
       "      <td>59</td>\n",
       "      <td>P</td>\n",
       "      <td>28079059_89_98</td>\n",
       "      <td>2019</td>\n",
       "      <td>3</td>\n",
       "      <td>31</td>\n",
       "      <td>0.60</td>\n",
       "      <td>2019-03-31</td>\n",
       "      <td>V</td>\n",
       "      <td>2019-03-31-59</td>\n",
       "    </tr>\n",
       "    <tr>\n",
       "      <th>35023</th>\n",
       "      <td>28</td>\n",
       "      <td>79</td>\n",
       "      <td>59</td>\n",
       "      <td>P</td>\n",
       "      <td>28079059_89_98</td>\n",
       "      <td>2019</td>\n",
       "      <td>5</td>\n",
       "      <td>31</td>\n",
       "      <td>0.00</td>\n",
       "      <td>2019-05-31</td>\n",
       "      <td>V</td>\n",
       "      <td>2019-05-31-59</td>\n",
       "    </tr>\n",
       "    <tr>\n",
       "      <th>35025</th>\n",
       "      <td>28</td>\n",
       "      <td>79</td>\n",
       "      <td>59</td>\n",
       "      <td>P</td>\n",
       "      <td>28079059_89_98</td>\n",
       "      <td>2019</td>\n",
       "      <td>8</td>\n",
       "      <td>31</td>\n",
       "      <td>0.00</td>\n",
       "      <td>2019-08-31</td>\n",
       "      <td>V</td>\n",
       "      <td>2019-08-31-59</td>\n",
       "    </tr>\n",
       "    <tr>\n",
       "      <th>35027</th>\n",
       "      <td>28</td>\n",
       "      <td>79</td>\n",
       "      <td>59</td>\n",
       "      <td>P</td>\n",
       "      <td>28079059_89_98</td>\n",
       "      <td>2019</td>\n",
       "      <td>10</td>\n",
       "      <td>31</td>\n",
       "      <td>0.40</td>\n",
       "      <td>2019-10-31</td>\n",
       "      <td>V</td>\n",
       "      <td>2019-10-31-59</td>\n",
       "    </tr>\n",
       "    <tr>\n",
       "      <th>35029</th>\n",
       "      <td>28</td>\n",
       "      <td>79</td>\n",
       "      <td>59</td>\n",
       "      <td>P</td>\n",
       "      <td>28079059_89_98</td>\n",
       "      <td>2019</td>\n",
       "      <td>12</td>\n",
       "      <td>31</td>\n",
       "      <td>0.00</td>\n",
       "      <td>2019-12-31</td>\n",
       "      <td>V</td>\n",
       "      <td>2019-12-31-59</td>\n",
       "    </tr>\n",
       "  </tbody>\n",
       "</table>\n",
       "<p>33779 rows × 12 columns</p>\n",
       "</div>"
      ],
      "text/plain": [
       "       PROVINCIA  MUNICIPIO  ESTACION MAGNITUD  PUNTO_MUESTREO  year  month  \\\n",
       "0             28         79       102       VV  28079102_81_98  2019      1   \n",
       "1             28         79       102       VV  28079102_81_98  2019      2   \n",
       "2             28         79       102       VV  28079102_81_98  2019      3   \n",
       "3             28         79       102       VV  28079102_81_98  2019      4   \n",
       "4             28         79       102       VV  28079102_81_98  2019      5   \n",
       "...          ...        ...       ...      ...             ...   ...    ...   \n",
       "35021         28         79        59        P  28079059_89_98  2019      3   \n",
       "35023         28         79        59        P  28079059_89_98  2019      5   \n",
       "35025         28         79        59        P  28079059_89_98  2019      8   \n",
       "35027         28         79        59        P  28079059_89_98  2019     10   \n",
       "35029         28         79        59        P  28079059_89_98  2019     12   \n",
       "\n",
       "       day  valor    Datetime validacion              id  \n",
       "0        1   0.66  2019-01-01          V  2019-01-01-102  \n",
       "1        1   4.32  2019-02-01          V  2019-02-01-102  \n",
       "2        1   1.57  2019-03-01          V  2019-03-01-102  \n",
       "3        1   1.32  2019-04-01          V  2019-04-01-102  \n",
       "4        1   2.06  2019-05-01          V  2019-05-01-102  \n",
       "...    ...    ...         ...        ...             ...  \n",
       "35021   31   0.60  2019-03-31          V   2019-03-31-59  \n",
       "35023   31   0.00  2019-05-31          V   2019-05-31-59  \n",
       "35025   31   0.00  2019-08-31          V   2019-08-31-59  \n",
       "35027   31   0.40  2019-10-31          V   2019-10-31-59  \n",
       "35029   31   0.00  2019-12-31          V   2019-12-31-59  \n",
       "\n",
       "[33779 rows x 12 columns]"
      ]
     },
     "execution_count": 17,
     "metadata": {},
     "output_type": "execute_result"
    }
   ],
   "source": [
    "df1"
   ]
  },
  {
   "cell_type": "code",
   "execution_count": 18,
   "id": "ff61fbc6",
   "metadata": {
    "scrolled": true
   },
   "outputs": [
    {
     "data": {
      "text/plain": [
       "array(['VV', 'DV', 'TEMP', 'HR', 'PB', 'RS', 'P', 'RU'], dtype=object)"
      ]
     },
     "execution_count": 18,
     "metadata": {},
     "output_type": "execute_result"
    }
   ],
   "source": [
    "df1['MAGNITUD'].unique()"
   ]
  },
  {
   "cell_type": "code",
   "execution_count": 19,
   "id": "64a0b333",
   "metadata": {},
   "outputs": [
    {
     "data": {
      "text/plain": [
       "array([ 1,  2,  3,  4,  5,  6,  7,  8,  9, 10, 11, 12, 13, 14, 15, 16, 17,\n",
       "       18, 19, 20, 21, 22, 23, 24, 25, 26, 27, 28, 29, 30, 31])"
      ]
     },
     "execution_count": 19,
     "metadata": {},
     "output_type": "execute_result"
    }
   ],
   "source": [
    "df1['day'].unique()"
   ]
  },
  {
   "cell_type": "code",
   "execution_count": 20,
   "id": "1e08194f",
   "metadata": {},
   "outputs": [
    {
     "data": {
      "text/plain": [
       "array([2019])"
      ]
     },
     "execution_count": 20,
     "metadata": {},
     "output_type": "execute_result"
    }
   ],
   "source": [
    "df1['year'].unique()"
   ]
  },
  {
   "cell_type": "code",
   "execution_count": 21,
   "id": "27a74fe7",
   "metadata": {},
   "outputs": [
    {
     "data": {
      "text/plain": [
       "(33779, 12)"
      ]
     },
     "execution_count": 21,
     "metadata": {},
     "output_type": "execute_result"
    }
   ],
   "source": [
    "df1.shape"
   ]
  },
  {
   "cell_type": "code",
   "execution_count": 22,
   "id": "0dcb12c6",
   "metadata": {
    "scrolled": true
   },
   "outputs": [
    {
     "data": {
      "text/plain": [
       "Index(['PROVINCIA', 'MUNICIPIO', 'ESTACION', 'MAGNITUD', 'PUNTO_MUESTREO',\n",
       "       'year', 'month', 'day', 'valor', 'Datetime', 'validacion', 'id'],\n",
       "      dtype='object')"
      ]
     },
     "execution_count": 22,
     "metadata": {},
     "output_type": "execute_result"
    }
   ],
   "source": [
    "df1.columns"
   ]
  },
  {
   "cell_type": "code",
   "execution_count": 23,
   "id": "0617519e",
   "metadata": {},
   "outputs": [
    {
     "name": "stdout",
     "output_type": "stream",
     "text": [
      "<class 'pandas.core.frame.DataFrame'>\n",
      "Int64Index: 33779 entries, 0 to 35029\n",
      "Data columns (total 12 columns):\n",
      " #   Column          Non-Null Count  Dtype  \n",
      "---  ------          --------------  -----  \n",
      " 0   PROVINCIA       33779 non-null  int64  \n",
      " 1   MUNICIPIO       33779 non-null  int64  \n",
      " 2   ESTACION        33779 non-null  int64  \n",
      " 3   MAGNITUD        33779 non-null  object \n",
      " 4   PUNTO_MUESTREO  33779 non-null  object \n",
      " 5   year            33779 non-null  int64  \n",
      " 6   month           33779 non-null  int64  \n",
      " 7   day             33779 non-null  int64  \n",
      " 8   valor           33779 non-null  float64\n",
      " 9   Datetime        33779 non-null  object \n",
      " 10  validacion      33779 non-null  object \n",
      " 11  id              33779 non-null  object \n",
      "dtypes: float64(1), int64(6), object(5)\n",
      "memory usage: 4.4+ MB\n"
     ]
    }
   ],
   "source": [
    "df1.info()"
   ]
  },
  {
   "cell_type": "code",
   "execution_count": 24,
   "id": "a0157f26",
   "metadata": {
    "scrolled": true
   },
   "outputs": [
    {
     "data": {
      "text/plain": [
       "0"
      ]
     },
     "execution_count": 24,
     "metadata": {},
     "output_type": "execute_result"
    }
   ],
   "source": [
    "df1.duplicated().sum()"
   ]
  },
  {
   "cell_type": "code",
   "execution_count": 25,
   "id": "e8cd22f0",
   "metadata": {},
   "outputs": [],
   "source": [
    "df1.to_csv(\"2019_METEO.csv\", index=False)"
   ]
  },
  {
   "cell_type": "markdown",
   "id": "de9b8dc1",
   "metadata": {},
   "source": [
    "- Estructuramos la tabla para que sea más sencillo de visualizar."
   ]
  },
  {
   "cell_type": "code",
   "execution_count": 26,
   "id": "9eb9d744",
   "metadata": {},
   "outputs": [],
   "source": [
    "df1_pivot = df1.pivot_table('valor', ['ESTACION', 'Datetime'], 'MAGNITUD')"
   ]
  },
  {
   "cell_type": "code",
   "execution_count": 27,
   "id": "e0fe3400",
   "metadata": {
    "scrolled": false
   },
   "outputs": [
    {
     "data": {
      "text/html": [
       "<div>\n",
       "<style scoped>\n",
       "    .dataframe tbody tr th:only-of-type {\n",
       "        vertical-align: middle;\n",
       "    }\n",
       "\n",
       "    .dataframe tbody tr th {\n",
       "        vertical-align: top;\n",
       "    }\n",
       "\n",
       "    .dataframe thead th {\n",
       "        text-align: right;\n",
       "    }\n",
       "</style>\n",
       "<table border=\"1\" class=\"dataframe\">\n",
       "  <thead>\n",
       "    <tr style=\"text-align: right;\">\n",
       "      <th></th>\n",
       "      <th>MAGNITUD</th>\n",
       "      <th>DV</th>\n",
       "      <th>HR</th>\n",
       "      <th>P</th>\n",
       "      <th>PB</th>\n",
       "      <th>RS</th>\n",
       "      <th>RU</th>\n",
       "      <th>TEMP</th>\n",
       "      <th>VV</th>\n",
       "    </tr>\n",
       "    <tr>\n",
       "      <th>ESTACION</th>\n",
       "      <th>Datetime</th>\n",
       "      <th></th>\n",
       "      <th></th>\n",
       "      <th></th>\n",
       "      <th></th>\n",
       "      <th></th>\n",
       "      <th></th>\n",
       "      <th></th>\n",
       "      <th></th>\n",
       "    </tr>\n",
       "  </thead>\n",
       "  <tbody>\n",
       "    <tr>\n",
       "      <th rowspan=\"5\" valign=\"top\">4</th>\n",
       "      <th>2019-01-01</th>\n",
       "      <td>NaN</td>\n",
       "      <td>NaN</td>\n",
       "      <td>NaN</td>\n",
       "      <td>NaN</td>\n",
       "      <td>NaN</td>\n",
       "      <td>NaN</td>\n",
       "      <td>4.5</td>\n",
       "      <td>NaN</td>\n",
       "    </tr>\n",
       "    <tr>\n",
       "      <th>2019-01-02</th>\n",
       "      <td>NaN</td>\n",
       "      <td>NaN</td>\n",
       "      <td>NaN</td>\n",
       "      <td>NaN</td>\n",
       "      <td>NaN</td>\n",
       "      <td>NaN</td>\n",
       "      <td>4.0</td>\n",
       "      <td>NaN</td>\n",
       "    </tr>\n",
       "    <tr>\n",
       "      <th>2019-01-03</th>\n",
       "      <td>NaN</td>\n",
       "      <td>NaN</td>\n",
       "      <td>NaN</td>\n",
       "      <td>NaN</td>\n",
       "      <td>NaN</td>\n",
       "      <td>NaN</td>\n",
       "      <td>4.3</td>\n",
       "      <td>NaN</td>\n",
       "    </tr>\n",
       "    <tr>\n",
       "      <th>2019-01-04</th>\n",
       "      <td>NaN</td>\n",
       "      <td>NaN</td>\n",
       "      <td>NaN</td>\n",
       "      <td>NaN</td>\n",
       "      <td>NaN</td>\n",
       "      <td>NaN</td>\n",
       "      <td>4.1</td>\n",
       "      <td>NaN</td>\n",
       "    </tr>\n",
       "    <tr>\n",
       "      <th>2019-01-05</th>\n",
       "      <td>NaN</td>\n",
       "      <td>NaN</td>\n",
       "      <td>NaN</td>\n",
       "      <td>NaN</td>\n",
       "      <td>NaN</td>\n",
       "      <td>NaN</td>\n",
       "      <td>3.6</td>\n",
       "      <td>NaN</td>\n",
       "    </tr>\n",
       "    <tr>\n",
       "      <th>...</th>\n",
       "      <th>...</th>\n",
       "      <td>...</td>\n",
       "      <td>...</td>\n",
       "      <td>...</td>\n",
       "      <td>...</td>\n",
       "      <td>...</td>\n",
       "      <td>...</td>\n",
       "      <td>...</td>\n",
       "      <td>...</td>\n",
       "    </tr>\n",
       "    <tr>\n",
       "      <th rowspan=\"5\" valign=\"top\">115</th>\n",
       "      <th>2019-12-27</th>\n",
       "      <td>NaN</td>\n",
       "      <td>67.0</td>\n",
       "      <td>NaN</td>\n",
       "      <td>NaN</td>\n",
       "      <td>NaN</td>\n",
       "      <td>NaN</td>\n",
       "      <td>8.0</td>\n",
       "      <td>NaN</td>\n",
       "    </tr>\n",
       "    <tr>\n",
       "      <th>2019-12-28</th>\n",
       "      <td>NaN</td>\n",
       "      <td>66.0</td>\n",
       "      <td>NaN</td>\n",
       "      <td>NaN</td>\n",
       "      <td>NaN</td>\n",
       "      <td>NaN</td>\n",
       "      <td>6.5</td>\n",
       "      <td>NaN</td>\n",
       "    </tr>\n",
       "    <tr>\n",
       "      <th>2019-12-29</th>\n",
       "      <td>NaN</td>\n",
       "      <td>66.0</td>\n",
       "      <td>NaN</td>\n",
       "      <td>NaN</td>\n",
       "      <td>NaN</td>\n",
       "      <td>NaN</td>\n",
       "      <td>6.3</td>\n",
       "      <td>NaN</td>\n",
       "    </tr>\n",
       "    <tr>\n",
       "      <th>2019-12-30</th>\n",
       "      <td>NaN</td>\n",
       "      <td>75.0</td>\n",
       "      <td>NaN</td>\n",
       "      <td>NaN</td>\n",
       "      <td>NaN</td>\n",
       "      <td>NaN</td>\n",
       "      <td>5.8</td>\n",
       "      <td>NaN</td>\n",
       "    </tr>\n",
       "    <tr>\n",
       "      <th>2019-12-31</th>\n",
       "      <td>NaN</td>\n",
       "      <td>80.0</td>\n",
       "      <td>NaN</td>\n",
       "      <td>NaN</td>\n",
       "      <td>NaN</td>\n",
       "      <td>NaN</td>\n",
       "      <td>6.0</td>\n",
       "      <td>NaN</td>\n",
       "    </tr>\n",
       "  </tbody>\n",
       "</table>\n",
       "<p>9347 rows × 8 columns</p>\n",
       "</div>"
      ],
      "text/plain": [
       "MAGNITUD             DV    HR   P  PB  RS  RU  TEMP  VV\n",
       "ESTACION Datetime                                      \n",
       "4        2019-01-01 NaN   NaN NaN NaN NaN NaN   4.5 NaN\n",
       "         2019-01-02 NaN   NaN NaN NaN NaN NaN   4.0 NaN\n",
       "         2019-01-03 NaN   NaN NaN NaN NaN NaN   4.3 NaN\n",
       "         2019-01-04 NaN   NaN NaN NaN NaN NaN   4.1 NaN\n",
       "         2019-01-05 NaN   NaN NaN NaN NaN NaN   3.6 NaN\n",
       "...                  ..   ...  ..  ..  ..  ..   ...  ..\n",
       "115      2019-12-27 NaN  67.0 NaN NaN NaN NaN   8.0 NaN\n",
       "         2019-12-28 NaN  66.0 NaN NaN NaN NaN   6.5 NaN\n",
       "         2019-12-29 NaN  66.0 NaN NaN NaN NaN   6.3 NaN\n",
       "         2019-12-30 NaN  75.0 NaN NaN NaN NaN   5.8 NaN\n",
       "         2019-12-31 NaN  80.0 NaN NaN NaN NaN   6.0 NaN\n",
       "\n",
       "[9347 rows x 8 columns]"
      ]
     },
     "execution_count": 27,
     "metadata": {},
     "output_type": "execute_result"
    }
   ],
   "source": [
    "df1_pivot"
   ]
  },
  {
   "cell_type": "markdown",
   "id": "9e727125",
   "metadata": {},
   "source": [
    "- Valores duplicados"
   ]
  },
  {
   "cell_type": "code",
   "execution_count": 28,
   "id": "6de58685",
   "metadata": {},
   "outputs": [
    {
     "data": {
      "text/plain": [
       "1779"
      ]
     },
     "execution_count": 28,
     "metadata": {},
     "output_type": "execute_result"
    }
   ],
   "source": [
    "df1_pivot.duplicated().sum()"
   ]
  },
  {
   "cell_type": "code",
   "execution_count": 72,
   "id": "791c2a29",
   "metadata": {},
   "outputs": [
    {
     "name": "stdout",
     "output_type": "stream",
     "text": [
      "<class 'pandas.core.frame.DataFrame'>\n",
      "MultiIndex: 9347 entries, (4, datetime.date(2019, 1, 1)) to (115, datetime.date(2019, 12, 31))\n",
      "Data columns (total 8 columns):\n",
      " #   Column  Non-Null Count  Dtype  \n",
      "---  ------  --------------  -----  \n",
      " 0   DV      3571 non-null   float64\n",
      " 1   HR      8329 non-null   float64\n",
      " 2   P       3661 non-null   float64\n",
      " 3   PB      2958 non-null   float64\n",
      " 4   RS      2936 non-null   float64\n",
      " 5   RU      417 non-null    float64\n",
      " 6   TEMP    8327 non-null   float64\n",
      " 7   VV      3580 non-null   float64\n",
      "dtypes: float64(8)\n",
      "memory usage: 614.7 KB\n"
     ]
    }
   ],
   "source": [
    "df1_pivot.info()"
   ]
  },
  {
   "cell_type": "code",
   "execution_count": 68,
   "id": "68b6adc9",
   "metadata": {},
   "outputs": [
    {
     "data": {
      "text/plain": [
       "(9347, 8)"
      ]
     },
     "execution_count": 68,
     "metadata": {},
     "output_type": "execute_result"
    }
   ],
   "source": [
    "df1_pivot.shape"
   ]
  },
  {
   "cell_type": "code",
   "execution_count": 71,
   "id": "192df964",
   "metadata": {},
   "outputs": [
    {
     "data": {
      "text/plain": [
       "MultiIndex([(  4, 2019-01-01),\n",
       "            (  4, 2019-01-02),\n",
       "            (  4, 2019-01-03),\n",
       "            (  4, 2019-01-04),\n",
       "            (  4, 2019-01-05),\n",
       "            (  4, 2019-01-06),\n",
       "            (  4, 2019-01-07),\n",
       "            (  4, 2019-01-08),\n",
       "            (  4, 2019-01-09),\n",
       "            (  4, 2019-01-10),\n",
       "            ...\n",
       "            (115, 2019-12-22),\n",
       "            (115, 2019-12-23),\n",
       "            (115, 2019-12-24),\n",
       "            (115, 2019-12-25),\n",
       "            (115, 2019-12-26),\n",
       "            (115, 2019-12-27),\n",
       "            (115, 2019-12-28),\n",
       "            (115, 2019-12-29),\n",
       "            (115, 2019-12-30),\n",
       "            (115, 2019-12-31)],\n",
       "           names=['ESTACION', 'Datetime'], length=9347)"
      ]
     },
     "execution_count": 71,
     "metadata": {},
     "output_type": "execute_result"
    }
   ],
   "source": [
    "df1_pivot.index"
   ]
  },
  {
   "cell_type": "code",
   "execution_count": 70,
   "id": "bbe5cd8e",
   "metadata": {},
   "outputs": [
    {
     "data": {
      "text/plain": [
       "Index(['DV', 'HR', 'P', 'PB', 'RS', 'RU', 'TEMP', 'VV'], dtype='object', name='MAGNITUD')"
      ]
     },
     "execution_count": 70,
     "metadata": {},
     "output_type": "execute_result"
    }
   ],
   "source": [
    "df1_pivot.columns"
   ]
  },
  {
   "cell_type": "code",
   "execution_count": 67,
   "id": "d3281bad",
   "metadata": {},
   "outputs": [],
   "source": [
    "df1_pivot.to_csv(\"2019_METEO_pivot.csv\")"
   ]
  },
  {
   "cell_type": "markdown",
   "id": "d03c180d",
   "metadata": {},
   "source": [
    "- Valores faltantes (NaN)"
   ]
  },
  {
   "cell_type": "code",
   "execution_count": 30,
   "id": "b726c29d",
   "metadata": {
    "scrolled": true
   },
   "outputs": [
    {
     "data": {
      "text/plain": [
       "40997"
      ]
     },
     "execution_count": 30,
     "metadata": {},
     "output_type": "execute_result"
    }
   ],
   "source": [
    "df1_pivot.isnull().sum().sum()"
   ]
  },
  {
   "cell_type": "markdown",
   "id": "35f1926d",
   "metadata": {},
   "source": [
    " ## ANÁLISIS SERIE TEMPORAL "
   ]
  },
  {
   "cell_type": "markdown",
   "id": "e20afbe4",
   "metadata": {},
   "source": [
    "- Temperatura"
   ]
  },
  {
   "cell_type": "code",
   "execution_count": 31,
   "id": "a66eec5b",
   "metadata": {},
   "outputs": [],
   "source": [
    "import numpy as np\n",
    "import pandas as pd\n",
    "\n",
    "from sklearn import metrics\n",
    "from math import sqrt\n",
    "\n",
    "import matplotlib\n",
    "import matplotlib.pyplot as plt\n",
    "%matplotlib inline\n",
    "\n",
    "import time\n",
    "import itertools\n",
    "import warnings\n",
    "import statsmodels.api as sm\n",
    "from statsmodels.tsa.stattools import adfuller\n",
    "from statsmodels.graphics.tsaplots import plot_acf, plot_pacf\n",
    "from statsmodels.tsa.seasonal import seasonal_decompose\n",
    "from statsmodels.tsa.arima_model import ARIMA\n",
    "from sklearn.model_selection import train_test_split\n",
    "\n",
    "warnings.filterwarnings(\"ignore\")"
   ]
  },
  {
   "cell_type": "code",
   "execution_count": 32,
   "id": "a29a2437",
   "metadata": {},
   "outputs": [
    {
     "data": {
      "text/html": [
       "<div>\n",
       "<style scoped>\n",
       "    .dataframe tbody tr th:only-of-type {\n",
       "        vertical-align: middle;\n",
       "    }\n",
       "\n",
       "    .dataframe tbody tr th {\n",
       "        vertical-align: top;\n",
       "    }\n",
       "\n",
       "    .dataframe thead th {\n",
       "        text-align: right;\n",
       "    }\n",
       "</style>\n",
       "<table border=\"1\" class=\"dataframe\">\n",
       "  <thead>\n",
       "    <tr style=\"text-align: right;\">\n",
       "      <th></th>\n",
       "      <th>PROVINCIA</th>\n",
       "      <th>MUNICIPIO</th>\n",
       "      <th>ESTACION</th>\n",
       "      <th>MAGNITUD</th>\n",
       "      <th>PUNTO_MUESTREO</th>\n",
       "      <th>year</th>\n",
       "      <th>month</th>\n",
       "      <th>day</th>\n",
       "      <th>valor</th>\n",
       "      <th>Datetime</th>\n",
       "      <th>validacion</th>\n",
       "      <th>id</th>\n",
       "    </tr>\n",
       "  </thead>\n",
       "  <tbody>\n",
       "    <tr>\n",
       "      <th>0</th>\n",
       "      <td>28</td>\n",
       "      <td>79</td>\n",
       "      <td>102</td>\n",
       "      <td>VV</td>\n",
       "      <td>28079102_81_98</td>\n",
       "      <td>2019</td>\n",
       "      <td>1</td>\n",
       "      <td>1</td>\n",
       "      <td>0.66</td>\n",
       "      <td>2019-01-01</td>\n",
       "      <td>V</td>\n",
       "      <td>2019-01-01-102</td>\n",
       "    </tr>\n",
       "    <tr>\n",
       "      <th>1</th>\n",
       "      <td>28</td>\n",
       "      <td>79</td>\n",
       "      <td>102</td>\n",
       "      <td>VV</td>\n",
       "      <td>28079102_81_98</td>\n",
       "      <td>2019</td>\n",
       "      <td>2</td>\n",
       "      <td>1</td>\n",
       "      <td>4.32</td>\n",
       "      <td>2019-02-01</td>\n",
       "      <td>V</td>\n",
       "      <td>2019-02-01-102</td>\n",
       "    </tr>\n",
       "    <tr>\n",
       "      <th>2</th>\n",
       "      <td>28</td>\n",
       "      <td>79</td>\n",
       "      <td>102</td>\n",
       "      <td>VV</td>\n",
       "      <td>28079102_81_98</td>\n",
       "      <td>2019</td>\n",
       "      <td>3</td>\n",
       "      <td>1</td>\n",
       "      <td>1.57</td>\n",
       "      <td>2019-03-01</td>\n",
       "      <td>V</td>\n",
       "      <td>2019-03-01-102</td>\n",
       "    </tr>\n",
       "    <tr>\n",
       "      <th>3</th>\n",
       "      <td>28</td>\n",
       "      <td>79</td>\n",
       "      <td>102</td>\n",
       "      <td>VV</td>\n",
       "      <td>28079102_81_98</td>\n",
       "      <td>2019</td>\n",
       "      <td>4</td>\n",
       "      <td>1</td>\n",
       "      <td>1.32</td>\n",
       "      <td>2019-04-01</td>\n",
       "      <td>V</td>\n",
       "      <td>2019-04-01-102</td>\n",
       "    </tr>\n",
       "    <tr>\n",
       "      <th>4</th>\n",
       "      <td>28</td>\n",
       "      <td>79</td>\n",
       "      <td>102</td>\n",
       "      <td>VV</td>\n",
       "      <td>28079102_81_98</td>\n",
       "      <td>2019</td>\n",
       "      <td>5</td>\n",
       "      <td>1</td>\n",
       "      <td>2.06</td>\n",
       "      <td>2019-05-01</td>\n",
       "      <td>V</td>\n",
       "      <td>2019-05-01-102</td>\n",
       "    </tr>\n",
       "    <tr>\n",
       "      <th>...</th>\n",
       "      <td>...</td>\n",
       "      <td>...</td>\n",
       "      <td>...</td>\n",
       "      <td>...</td>\n",
       "      <td>...</td>\n",
       "      <td>...</td>\n",
       "      <td>...</td>\n",
       "      <td>...</td>\n",
       "      <td>...</td>\n",
       "      <td>...</td>\n",
       "      <td>...</td>\n",
       "      <td>...</td>\n",
       "    </tr>\n",
       "    <tr>\n",
       "      <th>35021</th>\n",
       "      <td>28</td>\n",
       "      <td>79</td>\n",
       "      <td>59</td>\n",
       "      <td>P</td>\n",
       "      <td>28079059_89_98</td>\n",
       "      <td>2019</td>\n",
       "      <td>3</td>\n",
       "      <td>31</td>\n",
       "      <td>0.60</td>\n",
       "      <td>2019-03-31</td>\n",
       "      <td>V</td>\n",
       "      <td>2019-03-31-59</td>\n",
       "    </tr>\n",
       "    <tr>\n",
       "      <th>35023</th>\n",
       "      <td>28</td>\n",
       "      <td>79</td>\n",
       "      <td>59</td>\n",
       "      <td>P</td>\n",
       "      <td>28079059_89_98</td>\n",
       "      <td>2019</td>\n",
       "      <td>5</td>\n",
       "      <td>31</td>\n",
       "      <td>0.00</td>\n",
       "      <td>2019-05-31</td>\n",
       "      <td>V</td>\n",
       "      <td>2019-05-31-59</td>\n",
       "    </tr>\n",
       "    <tr>\n",
       "      <th>35025</th>\n",
       "      <td>28</td>\n",
       "      <td>79</td>\n",
       "      <td>59</td>\n",
       "      <td>P</td>\n",
       "      <td>28079059_89_98</td>\n",
       "      <td>2019</td>\n",
       "      <td>8</td>\n",
       "      <td>31</td>\n",
       "      <td>0.00</td>\n",
       "      <td>2019-08-31</td>\n",
       "      <td>V</td>\n",
       "      <td>2019-08-31-59</td>\n",
       "    </tr>\n",
       "    <tr>\n",
       "      <th>35027</th>\n",
       "      <td>28</td>\n",
       "      <td>79</td>\n",
       "      <td>59</td>\n",
       "      <td>P</td>\n",
       "      <td>28079059_89_98</td>\n",
       "      <td>2019</td>\n",
       "      <td>10</td>\n",
       "      <td>31</td>\n",
       "      <td>0.40</td>\n",
       "      <td>2019-10-31</td>\n",
       "      <td>V</td>\n",
       "      <td>2019-10-31-59</td>\n",
       "    </tr>\n",
       "    <tr>\n",
       "      <th>35029</th>\n",
       "      <td>28</td>\n",
       "      <td>79</td>\n",
       "      <td>59</td>\n",
       "      <td>P</td>\n",
       "      <td>28079059_89_98</td>\n",
       "      <td>2019</td>\n",
       "      <td>12</td>\n",
       "      <td>31</td>\n",
       "      <td>0.00</td>\n",
       "      <td>2019-12-31</td>\n",
       "      <td>V</td>\n",
       "      <td>2019-12-31-59</td>\n",
       "    </tr>\n",
       "  </tbody>\n",
       "</table>\n",
       "<p>33779 rows × 12 columns</p>\n",
       "</div>"
      ],
      "text/plain": [
       "       PROVINCIA  MUNICIPIO  ESTACION MAGNITUD  PUNTO_MUESTREO  year  month  \\\n",
       "0             28         79       102       VV  28079102_81_98  2019      1   \n",
       "1             28         79       102       VV  28079102_81_98  2019      2   \n",
       "2             28         79       102       VV  28079102_81_98  2019      3   \n",
       "3             28         79       102       VV  28079102_81_98  2019      4   \n",
       "4             28         79       102       VV  28079102_81_98  2019      5   \n",
       "...          ...        ...       ...      ...             ...   ...    ...   \n",
       "35021         28         79        59        P  28079059_89_98  2019      3   \n",
       "35023         28         79        59        P  28079059_89_98  2019      5   \n",
       "35025         28         79        59        P  28079059_89_98  2019      8   \n",
       "35027         28         79        59        P  28079059_89_98  2019     10   \n",
       "35029         28         79        59        P  28079059_89_98  2019     12   \n",
       "\n",
       "       day  valor    Datetime validacion              id  \n",
       "0        1   0.66  2019-01-01          V  2019-01-01-102  \n",
       "1        1   4.32  2019-02-01          V  2019-02-01-102  \n",
       "2        1   1.57  2019-03-01          V  2019-03-01-102  \n",
       "3        1   1.32  2019-04-01          V  2019-04-01-102  \n",
       "4        1   2.06  2019-05-01          V  2019-05-01-102  \n",
       "...    ...    ...         ...        ...             ...  \n",
       "35021   31   0.60  2019-03-31          V   2019-03-31-59  \n",
       "35023   31   0.00  2019-05-31          V   2019-05-31-59  \n",
       "35025   31   0.00  2019-08-31          V   2019-08-31-59  \n",
       "35027   31   0.40  2019-10-31          V   2019-10-31-59  \n",
       "35029   31   0.00  2019-12-31          V   2019-12-31-59  \n",
       "\n",
       "[33779 rows x 12 columns]"
      ]
     },
     "execution_count": 32,
     "metadata": {},
     "output_type": "execute_result"
    }
   ],
   "source": [
    "df1"
   ]
  },
  {
   "cell_type": "code",
   "execution_count": 33,
   "id": "906ee6c9",
   "metadata": {},
   "outputs": [],
   "source": [
    "df1['MAGNITUD'] = df1['MAGNITUD'].replace({80: 'RU', 81: 'VV', 82: 'DV', 83: 'TEMP', 86: 'HR', 87: 'PB', 88: 'RS',\n",
    "                                        89: 'P'})"
   ]
  },
  {
   "cell_type": "code",
   "execution_count": 34,
   "id": "a57932bf",
   "metadata": {},
   "outputs": [
    {
     "data": {
      "text/plain": [
       "array(['VV', 'DV', 'TEMP', 'HR', 'PB', 'RS', 'P', 'RU'], dtype=object)"
      ]
     },
     "execution_count": 34,
     "metadata": {},
     "output_type": "execute_result"
    }
   ],
   "source": [
    "df1['MAGNITUD'].unique()"
   ]
  },
  {
   "cell_type": "code",
   "execution_count": 35,
   "id": "991f38a3",
   "metadata": {},
   "outputs": [],
   "source": [
    "time_TEMP = df1[['Datetime', 'valor']][df1['MAGNITUD'] == 'TEMP']"
   ]
  },
  {
   "cell_type": "code",
   "execution_count": 36,
   "id": "2fe5927c",
   "metadata": {},
   "outputs": [],
   "source": [
    "time_TEMP['Datetime'] = pd.to_datetime(time_TEMP['Datetime'])"
   ]
  },
  {
   "cell_type": "code",
   "execution_count": 37,
   "id": "7234314d",
   "metadata": {},
   "outputs": [
    {
     "data": {
      "text/html": [
       "<div>\n",
       "<style scoped>\n",
       "    .dataframe tbody tr th:only-of-type {\n",
       "        vertical-align: middle;\n",
       "    }\n",
       "\n",
       "    .dataframe tbody tr th {\n",
       "        vertical-align: top;\n",
       "    }\n",
       "\n",
       "    .dataframe thead th {\n",
       "        text-align: right;\n",
       "    }\n",
       "</style>\n",
       "<table border=\"1\" class=\"dataframe\">\n",
       "  <thead>\n",
       "    <tr style=\"text-align: right;\">\n",
       "      <th></th>\n",
       "      <th>Datetime</th>\n",
       "      <th>valor</th>\n",
       "    </tr>\n",
       "  </thead>\n",
       "  <tbody>\n",
       "    <tr>\n",
       "      <th>24</th>\n",
       "      <td>2019-01-01</td>\n",
       "      <td>4.8</td>\n",
       "    </tr>\n",
       "    <tr>\n",
       "      <th>25</th>\n",
       "      <td>2019-02-01</td>\n",
       "      <td>3.5</td>\n",
       "    </tr>\n",
       "    <tr>\n",
       "      <th>26</th>\n",
       "      <td>2019-03-01</td>\n",
       "      <td>10.4</td>\n",
       "    </tr>\n",
       "    <tr>\n",
       "      <th>27</th>\n",
       "      <td>2019-04-01</td>\n",
       "      <td>8.6</td>\n",
       "    </tr>\n",
       "    <tr>\n",
       "      <th>28</th>\n",
       "      <td>2019-05-01</td>\n",
       "      <td>16.0</td>\n",
       "    </tr>\n",
       "    <tr>\n",
       "      <th>...</th>\n",
       "      <td>...</td>\n",
       "      <td>...</td>\n",
       "    </tr>\n",
       "    <tr>\n",
       "      <th>34974</th>\n",
       "      <td>2019-03-31</td>\n",
       "      <td>9.5</td>\n",
       "    </tr>\n",
       "    <tr>\n",
       "      <th>34976</th>\n",
       "      <td>2019-05-31</td>\n",
       "      <td>23.4</td>\n",
       "    </tr>\n",
       "    <tr>\n",
       "      <th>34979</th>\n",
       "      <td>2019-08-31</td>\n",
       "      <td>24.8</td>\n",
       "    </tr>\n",
       "    <tr>\n",
       "      <th>34981</th>\n",
       "      <td>2019-10-31</td>\n",
       "      <td>17.4</td>\n",
       "    </tr>\n",
       "    <tr>\n",
       "      <th>34983</th>\n",
       "      <td>2019-12-31</td>\n",
       "      <td>5.5</td>\n",
       "    </tr>\n",
       "  </tbody>\n",
       "</table>\n",
       "<p>8327 rows × 2 columns</p>\n",
       "</div>"
      ],
      "text/plain": [
       "        Datetime  valor\n",
       "24    2019-01-01    4.8\n",
       "25    2019-02-01    3.5\n",
       "26    2019-03-01   10.4\n",
       "27    2019-04-01    8.6\n",
       "28    2019-05-01   16.0\n",
       "...          ...    ...\n",
       "34974 2019-03-31    9.5\n",
       "34976 2019-05-31   23.4\n",
       "34979 2019-08-31   24.8\n",
       "34981 2019-10-31   17.4\n",
       "34983 2019-12-31    5.5\n",
       "\n",
       "[8327 rows x 2 columns]"
      ]
     },
     "execution_count": 37,
     "metadata": {},
     "output_type": "execute_result"
    }
   ],
   "source": [
    "time_TEMP"
   ]
  },
  {
   "cell_type": "code",
   "execution_count": 38,
   "id": "0da889a0",
   "metadata": {},
   "outputs": [],
   "source": [
    "import matplotlib.pyplot as plt"
   ]
  },
  {
   "cell_type": "code",
   "execution_count": 39,
   "id": "6eb0f0da",
   "metadata": {},
   "outputs": [
    {
     "data": {
      "text/plain": [
       "Text(0, 0.5, 'Valores')"
      ]
     },
     "execution_count": 39,
     "metadata": {},
     "output_type": "execute_result"
    },
    {
     "data": {
      "image/png": "[encoded data removed]",
      "text/plain": [
       "<Figure size 640x480 with 1 Axes>"
      ]
     },
     "metadata": {},
     "output_type": "display_data"
    }
   ],
   "source": [
    "plt.boxplot(time_TEMP['valor'])\n",
    "plt.title('Boxplot de Variable Numérica')\n",
    "plt.ylabel('Valores')"
   ]
  },
  {
   "cell_type": "code",
   "execution_count": 40,
   "id": "b749503d",
   "metadata": {},
   "outputs": [
    {
     "name": "stdout",
     "output_type": "stream",
     "text": [
      "<class 'pandas.core.frame.DataFrame'>\n",
      "Int64Index: 8327 entries, 24 to 34983\n",
      "Data columns (total 2 columns):\n",
      " #   Column    Non-Null Count  Dtype         \n",
      "---  ------    --------------  -----         \n",
      " 0   Datetime  8327 non-null   datetime64[ns]\n",
      " 1   valor     8327 non-null   float64       \n",
      "dtypes: datetime64[ns](1), float64(1)\n",
      "memory usage: 195.2 KB\n"
     ]
    }
   ],
   "source": [
    "time_TEMP.info()"
   ]
  },
  {
   "cell_type": "code",
   "execution_count": 41,
   "id": "6caef90a",
   "metadata": {},
   "outputs": [],
   "source": [
    "time_TEMP['year'] = time_TEMP['Datetime'].dt.year\n",
    "time_TEMP['month'] = time_TEMP['Datetime'].dt.month"
   ]
  },
  {
   "cell_type": "code",
   "execution_count": 42,
   "id": "94947d48",
   "metadata": {},
   "outputs": [],
   "source": [
    "temperatura_promedio = time_TEMP.groupby(['year', 'month'])['valor'].mean().reset_index()"
   ]
  },
  {
   "cell_type": "code",
   "execution_count": 43,
   "id": "47c1293e",
   "metadata": {},
   "outputs": [
    {
     "name": "stdout",
     "output_type": "stream",
     "text": [
      "    year  month      valor\n",
      "0   2019      1   6.041407\n",
      "1   2019      2   8.807440\n",
      "2   2019      3  12.107956\n",
      "3   2019      4  12.159238\n",
      "4   2019      5  18.679060\n",
      "5   2019      6  23.365909\n",
      "6   2019      7  27.714035\n",
      "7   2019      8  25.757478\n",
      "8   2019      9  20.926822\n",
      "9   2019     10  16.220480\n",
      "10  2019     11   9.650298\n",
      "11  2019     12   8.467089\n"
     ]
    }
   ],
   "source": [
    "print(temperatura_promedio)"
   ]
  },
  {
   "cell_type": "markdown",
   "id": "0377ba48",
   "metadata": {},
   "source": [
    "- Precipitación"
   ]
  },
  {
   "cell_type": "code",
   "execution_count": 44,
   "id": "f708dcd7",
   "metadata": {},
   "outputs": [],
   "source": [
    "time_P = df1[['Datetime', 'valor']][df1['MAGNITUD'] == 'P']"
   ]
  },
  {
   "cell_type": "code",
   "execution_count": 45,
   "id": "b7419f03",
   "metadata": {},
   "outputs": [],
   "source": [
    "time_P['Datetime'] = pd.to_datetime(time_P['Datetime'])"
   ]
  },
  {
   "cell_type": "code",
   "execution_count": 46,
   "id": "3f0b4515",
   "metadata": {},
   "outputs": [],
   "source": [
    "time_P['year'] = time_P['Datetime'].dt.year\n",
    "time_P['month'] = time_P['Datetime'].dt.month"
   ]
  },
  {
   "cell_type": "code",
   "execution_count": 47,
   "id": "ef0bfad8",
   "metadata": {},
   "outputs": [],
   "source": [
    "precipitacion_promedio = time_P.groupby(['year', 'month'])['valor'].mean().reset_index()"
   ]
  },
  {
   "cell_type": "code",
   "execution_count": 48,
   "id": "5460ab2a",
   "metadata": {
    "scrolled": true
   },
   "outputs": [
    {
     "name": "stdout",
     "output_type": "stream",
     "text": [
      "    year  month     valor\n",
      "0   2019      1  0.355294\n",
      "1   2019      2  0.266234\n",
      "2   2019      3  0.269255\n",
      "3   2019      4  2.468000\n",
      "4   2019      5  0.023548\n",
      "5   2019      6  0.057823\n",
      "6   2019      7  0.203273\n",
      "7   2019      8  1.510333\n",
      "8   2019      9  0.917000\n",
      "9   2019     10  0.946732\n",
      "10  2019     11  1.143624\n",
      "11  2019     12  2.423701\n"
     ]
    }
   ],
   "source": [
    "print(precipitacion_promedio)"
   ]
  },
  {
   "cell_type": "code",
   "execution_count": 49,
   "id": "0c962690",
   "metadata": {},
   "outputs": [
    {
     "data": {
      "text/plain": [
       "Text(0, 0.5, 'Valores')"
      ]
     },
     "execution_count": 49,
     "metadata": {},
     "output_type": "execute_result"
    },
    {
     "data": {
      "image/png": "[encoded data removed]",
      "text/plain": [
       "<Figure size 640x480 with 1 Axes>"
      ]
     },
     "metadata": {},
     "output_type": "display_data"
    }
   ],
   "source": [
    "plt.boxplot(time_P['valor'])\n",
    "plt.title('Boxplot de Variable Numérica')\n",
    "plt.ylabel('Valores')"
   ]
  },
  {
   "cell_type": "markdown",
   "id": "b0b806e9",
   "metadata": {},
   "source": [
    "- Humedad relativa"
   ]
  },
  {
   "cell_type": "code",
   "execution_count": 50,
   "id": "45125c72",
   "metadata": {},
   "outputs": [],
   "source": [
    "time_HR = df1[['Datetime', 'valor']][df1['MAGNITUD'] == 'HR']"
   ]
  },
  {
   "cell_type": "code",
   "execution_count": 51,
   "id": "4bb27f34",
   "metadata": {},
   "outputs": [],
   "source": [
    "time_HR['Datetime'] = pd.to_datetime(time_HR['Datetime'])"
   ]
  },
  {
   "cell_type": "code",
   "execution_count": 52,
   "id": "aff706e9",
   "metadata": {},
   "outputs": [],
   "source": [
    "time_HR['year'] = time_HR['Datetime'].dt.year\n",
    "time_HR['month'] = time_HR['Datetime'].dt.month"
   ]
  },
  {
   "cell_type": "code",
   "execution_count": 53,
   "id": "ac5e8382",
   "metadata": {
    "scrolled": true
   },
   "outputs": [
    {
     "name": "stdout",
     "output_type": "stream",
     "text": [
      "    year  month      valor\n",
      "0   2019      1  61.387009\n",
      "1   2019      2  55.311012\n",
      "2   2019      3  45.281593\n",
      "3   2019      4  58.986804\n",
      "4   2019      5  39.094017\n",
      "5   2019      6  31.797277\n",
      "6   2019      7  30.913743\n",
      "7   2019      8  36.891496\n",
      "8   2019      9  49.139942\n",
      "9   2019     10  60.837800\n",
      "10  2019     11  73.193165\n",
      "11  2019     12  76.277075\n"
     ]
    }
   ],
   "source": [
    "humedad_promedio = time_HR.groupby(['year', 'month'])['valor'].mean().reset_index()\n",
    "print(humedad_promedio)"
   ]
  },
  {
   "cell_type": "code",
   "execution_count": 54,
   "id": "e842750c",
   "metadata": {},
   "outputs": [
    {
     "data": {
      "text/plain": [
       "Text(0, 0.5, 'Valores')"
      ]
     },
     "execution_count": 54,
     "metadata": {},
     "output_type": "execute_result"
    },
    {
     "data": {
      "image/png": "[encoded data removed]",
      "text/plain": [
       "<Figure size 640x480 with 1 Axes>"
      ]
     },
     "metadata": {},
     "output_type": "display_data"
    }
   ],
   "source": [
    "plt.boxplot(time_HR['valor'])\n",
    "plt.title('Boxplot de Variable Numérica')\n",
    "plt.ylabel('Valores')"
   ]
  },
  {
   "cell_type": "markdown",
   "id": "6eb97b30",
   "metadata": {},
   "source": [
    "- Radiación solar"
   ]
  },
  {
   "cell_type": "code",
   "execution_count": 55,
   "id": "d5b72218",
   "metadata": {},
   "outputs": [],
   "source": [
    "time_RS = df1[['Datetime', 'valor']][df1['MAGNITUD'] == 'RS']"
   ]
  },
  {
   "cell_type": "code",
   "execution_count": 56,
   "id": "7ebbdf8e",
   "metadata": {},
   "outputs": [],
   "source": [
    "time_RS['Datetime'] = pd.to_datetime(time_RS['Datetime'])"
   ]
  },
  {
   "cell_type": "code",
   "execution_count": 57,
   "id": "6b3d5fca",
   "metadata": {},
   "outputs": [],
   "source": [
    "time_RS['year'] = time_RS['Datetime'].dt.year\n",
    "time_RS['month'] = time_RS['Datetime'].dt.month"
   ]
  },
  {
   "cell_type": "code",
   "execution_count": 58,
   "id": "52c28841",
   "metadata": {
    "scrolled": false
   },
   "outputs": [
    {
     "name": "stdout",
     "output_type": "stream",
     "text": [
      "    year  month       valor\n",
      "0   2019      1  104.025180\n",
      "1   2019      2  159.130952\n",
      "2   2019      3  218.329588\n",
      "3   2019      4  210.570833\n",
      "4   2019      5  315.862903\n",
      "5   2019      6  337.351695\n",
      "6   2019      7  318.925234\n",
      "7   2019      8  283.251046\n",
      "8   2019      9  209.670833\n",
      "9   2019     10  148.737705\n",
      "10  2019     11   88.560345\n",
      "11  2019     12   70.666667\n"
     ]
    }
   ],
   "source": [
    "radiacion_solar_promedio = time_RS.groupby(['year', 'month'])['valor'].mean().reset_index()\n",
    "print(radiacion_solar_promedio)"
   ]
  },
  {
   "cell_type": "code",
   "execution_count": 59,
   "id": "355610c3",
   "metadata": {
    "scrolled": true
   },
   "outputs": [
    {
     "data": {
      "text/plain": [
       "Text(0, 0.5, 'Valores')"
      ]
     },
     "execution_count": 59,
     "metadata": {},
     "output_type": "execute_result"
    },
    {
     "data": {
      "image/png": "[encoded data removed]",
      "text/plain": [
       "<Figure size 640x480 with 1 Axes>"
      ]
     },
     "metadata": {},
     "output_type": "display_data"
    }
   ],
   "source": [
    "plt.boxplot(time_RS['valor'])\n",
    "plt.title('Boxplot de Variable Numérica')\n",
    "plt.ylabel('Valores')"
   ]
  },
  {
   "cell_type": "code",
   "execution_count": 60,
   "id": "be5e1f28",
   "metadata": {},
   "outputs": [
    {
     "data": {
      "image/png": "[encoded data removed]",
      "text/plain": [
       "<Figure size 640x480 with 1 Axes>"
      ]
     },
     "metadata": {},
     "output_type": "display_data"
    }
   ],
   "source": [
    "plt.hist(time_RS.valor, bins=10)\n",
    "plt.title(\"Histograma Radiación solar\")\n",
    "plt.xticks(rotation=0)\n",
    "plt.ylabel(\"Count\")\n",
    "plt.style.use('ggplot')\n",
    "plt.show()"
   ]
  },
  {
   "cell_type": "markdown",
   "id": "a4086125",
   "metadata": {},
   "source": [
    "- Velocidad viento"
   ]
  },
  {
   "cell_type": "code",
   "execution_count": 61,
   "id": "0f822e03",
   "metadata": {},
   "outputs": [],
   "source": [
    "time_VV = df1[['Datetime', 'valor']][df1['MAGNITUD'] == 'VV']"
   ]
  },
  {
   "cell_type": "code",
   "execution_count": 62,
   "id": "af6d188a",
   "metadata": {},
   "outputs": [],
   "source": [
    "time_VV['Datetime'] = pd.to_datetime(time_VV['Datetime'])"
   ]
  },
  {
   "cell_type": "code",
   "execution_count": 63,
   "id": "a48390d2",
   "metadata": {},
   "outputs": [],
   "source": [
    "time_VV['year'] = time_VV['Datetime'].dt.year\n",
    "time_VV['month'] = time_VV['Datetime'].dt.month"
   ]
  },
  {
   "cell_type": "code",
   "execution_count": 64,
   "id": "788ac7b0",
   "metadata": {},
   "outputs": [
    {
     "name": "stdout",
     "output_type": "stream",
     "text": [
      "    year  month     valor\n",
      "0   2019      1  1.125113\n",
      "1   2019      2  0.992357\n",
      "2   2019      3  1.429968\n",
      "3   2019      4  1.601300\n",
      "4   2019      5  1.635839\n",
      "5   2019      6  1.675170\n",
      "6   2019      7  1.570182\n",
      "7   2019      8  1.418567\n",
      "8   2019      9  1.338100\n",
      "9   2019     10  1.027810\n",
      "10  2019     11  1.837595\n",
      "11  2019     12  1.432787\n"
     ]
    }
   ],
   "source": [
    "velocidad_viento_promedio = time_VV.groupby(['year', 'month'])['valor'].mean().reset_index()\n",
    "print(velocidad_viento_promedio)"
   ]
  },
  {
   "cell_type": "code",
   "execution_count": 65,
   "id": "0e2dea10",
   "metadata": {},
   "outputs": [
    {
     "data": {
      "text/plain": [
       "Text(0, 0.5, 'Valores')"
      ]
     },
     "execution_count": 65,
     "metadata": {},
     "output_type": "execute_result"
    },
    {
     "data": {
      "image/png": "[encoded data removed]",
      "text/plain": [
       "<Figure size 640x480 with 1 Axes>"
      ]
     },
     "metadata": {},
     "output_type": "display_data"
    }
   ],
   "source": [
    "plt.boxplot(time_VV['valor'])\n",
    "plt.title('Boxplot de Variable Numérica')\n",
    "plt.ylabel('Valores')"
   ]
  },
  {
   "cell_type": "code",
   "execution_count": 66,
   "id": "3d4842b9",
   "metadata": {},
   "outputs": [
    {
     "data": {
      "image/png": "[encoded data removed]",
      "text/plain": [
       "<Figure size 640x480 with 1 Axes>"
      ]
     },
     "metadata": {},
     "output_type": "display_data"
    }
   ],
   "source": [
    "plt.hist(time_VV.valor, bins=10)\n",
    "plt.title(\"Histograma Velocidad del viento\")\n",
    "plt.xticks(rotation=0)\n",
    "plt.ylabel(\"Count\")\n",
    "plt.style.use('ggplot')\n",
    "plt.show()"
   ]
  },
  {
   "cell_type": "code",
   "execution_count": 4,
   "id": "ea00bd9a",
   "metadata": {},
   "outputs": [
    {
     "name": "stdout",
     "output_type": "stream",
     "text": [
      "\u001b[31mERROR: Could not find a version that satisfies the requirement nbconvert_pdf (from versions: none)\u001b[0m\u001b[31m\n",
      "\u001b[0m\u001b[31mERROR: No matching distribution found for nbconvert_pdf\u001b[0m\u001b[31m\n",
      "\u001b[0mNote: you may need to restart the kernel to use updated packages.\n"
     ]
    }
   ],
   "source": [
    "pip install nbconvert_pdf"
   ]
  },
  {
   "cell_type": "code",
   "execution_count": 1,
   "id": "f4964360",
   "metadata": {},
   "outputs": [
    {
     "name": "stdout",
     "output_type": "stream",
     "text": [
      "[NbConvertApp] Converting notebook año_2019_meteo.ipynb to pdf\n",
      "/opt/anaconda3/lib/python3.9/site-packages/nbconvert/utils/pandoc.py:52: RuntimeWarning: You are using an unsupported version of pandoc (3.1.8).\n",
      "Your version must be at least (1.12.1) but less than (3.0.0).\n",
      "Refer to https://pandoc.org/installing.html.\n",
      "Continuing with doubts...\n",
      "  check_pandoc_version()\n",
      "[NbConvertApp] Support files will be in año_2019_meteo_files/\n",
      "[NbConvertApp] Making directory ./año_2019_meteo_files\n",
      "[NbConvertApp] Making directory ./año_2019_meteo_files\n",
      "[NbConvertApp] Making directory ./año_2019_meteo_files\n",
      "[NbConvertApp] Making directory ./año_2019_meteo_files\n",
      "[NbConvertApp] Making directory ./año_2019_meteo_files\n",
      "[NbConvertApp] Making directory ./año_2019_meteo_files\n",
      "[NbConvertApp] Making directory ./año_2019_meteo_files\n",
      "[NbConvertApp] Writing 116503 bytes to notebook.tex\n",
      "[NbConvertApp] Building PDF\n",
      "Traceback (most recent call last):\n",
      "  File \"/opt/anaconda3/bin/jupyter-nbconvert\", line 11, in <module>\n",
      "    sys.exit(main())\n",
      "  File \"/opt/anaconda3/lib/python3.9/site-packages/jupyter_core/application.py\", line 269, in launch_instance\n",
      "    return super().launch_instance(argv=argv, **kwargs)\n",
      "  File \"/opt/anaconda3/lib/python3.9/site-packages/traitlets/config/application.py\", line 846, in launch_instance\n",
      "    app.start()\n",
      "  File \"/opt/anaconda3/lib/python3.9/site-packages/nbconvert/nbconvertapp.py\", line 369, in start\n",
      "    self.convert_notebooks()\n",
      "  File \"/opt/anaconda3/lib/python3.9/site-packages/nbconvert/nbconvertapp.py\", line 541, in convert_notebooks\n",
      "    self.convert_single_notebook(notebook_filename)\n",
      "  File \"/opt/anaconda3/lib/python3.9/site-packages/nbconvert/nbconvertapp.py\", line 506, in convert_single_notebook\n",
      "    output, resources = self.export_single_notebook(notebook_filename, resources, input_buffer=input_buffer)\n",
      "  File \"/opt/anaconda3/lib/python3.9/site-packages/nbconvert/nbconvertapp.py\", line 435, in export_single_notebook\n",
      "    output, resources = self.exporter.from_filename(notebook_filename, resources=resources)\n",
      "  File \"/opt/anaconda3/lib/python3.9/site-packages/nbconvert/exporters/exporter.py\", line 190, in from_filename\n",
      "    return self.from_file(f, resources=resources, **kw)\n",
      "  File \"/opt/anaconda3/lib/python3.9/site-packages/nbconvert/exporters/exporter.py\", line 208, in from_file\n",
      "    return self.from_notebook_node(nbformat.read(file_stream, as_version=4), resources=resources, **kw)\n",
      "  File \"/opt/anaconda3/lib/python3.9/site-packages/nbconvert/exporters/pdf.py\", line 183, in from_notebook_node\n",
      "    self.run_latex(tex_file)\n",
      "  File \"/opt/anaconda3/lib/python3.9/site-packages/nbconvert/exporters/pdf.py\", line 153, in run_latex\n",
      "    return self.run_command(self.latex_command, filename,\n",
      "  File \"/opt/anaconda3/lib/python3.9/site-packages/nbconvert/exporters/pdf.py\", line 110, in run_command\n",
      "    raise OSError(\"{formatter} not found on PATH, if you have not installed \"\n",
      "OSError: xelatex not found on PATH, if you have not installed xelatex you may need to do so. Find further instructions at https://nbconvert.readthedocs.io/en/latest/install.html#installing-tex.\n"
     ]
    }
   ],
   "source": [
    "!jupyter nbconvert --to pdf año_2019_meteo.ipynb"
   ]
  },
  {
   "cell_type": "code",
   "execution_count": 7,
   "id": "19efda1c",
   "metadata": {},
   "outputs": [
    {
     "name": "stdout",
     "output_type": "stream",
     "text": [
      "Requirement already satisfied: nbconvert in /opt/anaconda3/lib/python3.9/site-packages (6.4.4)\n",
      "Requirement already satisfied: testpath in /opt/anaconda3/lib/python3.9/site-packages (from nbconvert) (0.6.0)\n",
      "Requirement already satisfied: bleach in /opt/anaconda3/lib/python3.9/site-packages (from nbconvert) (4.1.0)\n",
      "Requirement already satisfied: jinja2>=2.4 in /opt/anaconda3/lib/python3.9/site-packages (from nbconvert) (2.11.3)\n",
      "Requirement already satisfied: traitlets>=5.0 in /opt/anaconda3/lib/python3.9/site-packages (from nbconvert) (5.1.1)\n",
      "Requirement already satisfied: mistune<2,>=0.8.1 in /opt/anaconda3/lib/python3.9/site-packages (from nbconvert) (0.8.4)\n",
      "Requirement already satisfied: jupyter-core in /opt/anaconda3/lib/python3.9/site-packages (from nbconvert) (4.11.1)\n",
      "Requirement already satisfied: defusedxml in /opt/anaconda3/lib/python3.9/site-packages (from nbconvert) (0.7.1)\n",
      "Requirement already satisfied: entrypoints>=0.2.2 in /opt/anaconda3/lib/python3.9/site-packages (from nbconvert) (0.4)\n",
      "Requirement already satisfied: nbformat>=4.4 in /opt/anaconda3/lib/python3.9/site-packages (from nbconvert) (5.5.0)\n",
      "Requirement already satisfied: nbclient<0.6.0,>=0.5.0 in /opt/anaconda3/lib/python3.9/site-packages (from nbconvert) (0.5.13)\n",
      "Requirement already satisfied: jupyterlab-pygments in /opt/anaconda3/lib/python3.9/site-packages (from nbconvert) (0.1.2)\n",
      "Requirement already satisfied: beautifulsoup4 in /opt/anaconda3/lib/python3.9/site-packages (from nbconvert) (4.11.1)\n",
      "Requirement already satisfied: pygments>=2.4.1 in /opt/anaconda3/lib/python3.9/site-packages (from nbconvert) (2.11.2)\n",
      "Requirement already satisfied: pandocfilters>=1.4.1 in /opt/anaconda3/lib/python3.9/site-packages (from nbconvert) (1.5.0)\n",
      "Requirement already satisfied: MarkupSafe>=0.23 in /opt/anaconda3/lib/python3.9/site-packages (from jinja2>=2.4->nbconvert) (2.0.1)\n",
      "Requirement already satisfied: nest-asyncio in /opt/anaconda3/lib/python3.9/site-packages (from nbclient<0.6.0,>=0.5.0->nbconvert) (1.5.5)\n",
      "Requirement already satisfied: jupyter-client>=6.1.5 in /opt/anaconda3/lib/python3.9/site-packages (from nbclient<0.6.0,>=0.5.0->nbconvert) (7.3.4)\n",
      "Requirement already satisfied: jsonschema>=2.6 in /opt/anaconda3/lib/python3.9/site-packages (from nbformat>=4.4->nbconvert) (4.16.0)\n",
      "Requirement already satisfied: fastjsonschema in /opt/anaconda3/lib/python3.9/site-packages (from nbformat>=4.4->nbconvert) (2.16.2)\n",
      "Requirement already satisfied: soupsieve>1.2 in /opt/anaconda3/lib/python3.9/site-packages (from beautifulsoup4->nbconvert) (2.3.1)\n",
      "Requirement already satisfied: six>=1.9.0 in /opt/anaconda3/lib/python3.9/site-packages (from bleach->nbconvert) (1.16.0)\n",
      "Requirement already satisfied: webencodings in /opt/anaconda3/lib/python3.9/site-packages (from bleach->nbconvert) (0.5.1)\n",
      "Requirement already satisfied: packaging in /opt/anaconda3/lib/python3.9/site-packages (from bleach->nbconvert) (21.3)\n",
      "Requirement already satisfied: pyrsistent!=0.17.0,!=0.17.1,!=0.17.2,>=0.14.0 in /opt/anaconda3/lib/python3.9/site-packages (from jsonschema>=2.6->nbformat>=4.4->nbconvert) (0.18.0)\n",
      "Requirement already satisfied: attrs>=17.4.0 in /opt/anaconda3/lib/python3.9/site-packages (from jsonschema>=2.6->nbformat>=4.4->nbconvert) (21.4.0)\n",
      "Requirement already satisfied: python-dateutil>=2.8.2 in /opt/anaconda3/lib/python3.9/site-packages (from jupyter-client>=6.1.5->nbclient<0.6.0,>=0.5.0->nbconvert) (2.8.2)\n",
      "Requirement already satisfied: tornado>=6.0 in /opt/anaconda3/lib/python3.9/site-packages (from jupyter-client>=6.1.5->nbclient<0.6.0,>=0.5.0->nbconvert) (6.1)\n",
      "Requirement already satisfied: pyzmq>=23.0 in /opt/anaconda3/lib/python3.9/site-packages (from jupyter-client>=6.1.5->nbclient<0.6.0,>=0.5.0->nbconvert) (23.2.0)\n",
      "Requirement already satisfied: pyparsing!=3.0.5,>=2.0.2 in /opt/anaconda3/lib/python3.9/site-packages (from packaging->bleach->nbconvert) (3.0.9)\n",
      "Note: you may need to restart the kernel to use updated packages.\n"
     ]
    }
   ],
   "source": [
    "pip install nbconvert"
   ]
  },
  {
   "cell_type": "code",
   "execution_count": null,
   "id": "09f3ad00",
   "metadata": {},
   "outputs": [],
   "source": []
  }
 ],
 "metadata": {
  "kernelspec": {
   "display_name": "Python 3 (ipykernel)",
   "language": "python",
   "name": "python3"
  },
  "language_info": {
   "codemirror_mode": {
    "name": "ipython",
    "version": 3
   },
   "file_extension": ".py",
   "mimetype": "text/x-python",
   "name": "python",
   "nbconvert_exporter": "python",
   "pygments_lexer": "ipython3",
   "version": "3.9.13"
  }
 },
 "nbformat": 4,
 "nbformat_minor": 5
}
