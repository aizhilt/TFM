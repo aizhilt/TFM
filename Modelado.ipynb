{
 "cells": [
  {
   "cell_type": "code",
   "execution_count": 1,
   "id": "db710678",
   "metadata": {},
   "outputs": [],
   "source": [
    "import pandas as pd"
   ]
  },
  {
   "cell_type": "code",
   "execution_count": 6,
   "id": "fe04f543",
   "metadata": {},
   "outputs": [],
   "source": [
    "data = pd.read_csv('df_modif.csv', encoding='latin-1', sep=',')"
   ]
  },
  {
   "cell_type": "code",
   "execution_count": 7,
   "id": "8a7d2d9e",
   "metadata": {
    "scrolled": true
   },
   "outputs": [
    {
     "data": {
      "text/html": [
       "<div>\n",
       "<style scoped>\n",
       "    .dataframe tbody tr th:only-of-type {\n",
       "        vertical-align: middle;\n",
       "    }\n",
       "\n",
       "    .dataframe tbody tr th {\n",
       "        vertical-align: top;\n",
       "    }\n",
       "\n",
       "    .dataframe thead th {\n",
       "        text-align: right;\n",
       "    }\n",
       "</style>\n",
       "<table border=\"1\" class=\"dataframe\">\n",
       "  <thead>\n",
       "    <tr style=\"text-align: right;\">\n",
       "      <th></th>\n",
       "      <th>estacion</th>\n",
       "      <th>Datetime</th>\n",
       "      <th>DV</th>\n",
       "      <th>HR</th>\n",
       "      <th>P</th>\n",
       "      <th>PB</th>\n",
       "      <th>RS</th>\n",
       "      <th>RU</th>\n",
       "      <th>TEMP</th>\n",
       "      <th>VV</th>\n",
       "      <th>...</th>\n",
       "      <th>NMHC</th>\n",
       "      <th>NO</th>\n",
       "      <th>NO2</th>\n",
       "      <th>NOX</th>\n",
       "      <th>O3</th>\n",
       "      <th>PM10</th>\n",
       "      <th>PM25</th>\n",
       "      <th>SO2</th>\n",
       "      <th>TCH</th>\n",
       "      <th>TOL</th>\n",
       "    </tr>\n",
       "  </thead>\n",
       "  <tbody>\n",
       "    <tr>\n",
       "      <th>0</th>\n",
       "      <td>4</td>\n",
       "      <td>2019-01-01</td>\n",
       "      <td>55.50</td>\n",
       "      <td>56.636364</td>\n",
       "      <td>0.0</td>\n",
       "      <td>956.000000</td>\n",
       "      <td>104.333333</td>\n",
       "      <td>4.666667</td>\n",
       "      <td>4.5</td>\n",
       "      <td>0.6375</td>\n",
       "      <td>...</td>\n",
       "      <td>0.130</td>\n",
       "      <td>105.0</td>\n",
       "      <td>71.0</td>\n",
       "      <td>232.0</td>\n",
       "      <td>13.0</td>\n",
       "      <td>32.600000</td>\n",
       "      <td>24.00</td>\n",
       "      <td>18.00</td>\n",
       "      <td>1.665</td>\n",
       "      <td>2.650</td>\n",
       "    </tr>\n",
       "    <tr>\n",
       "      <th>1</th>\n",
       "      <td>4</td>\n",
       "      <td>2019-01-02</td>\n",
       "      <td>190.00</td>\n",
       "      <td>60.727273</td>\n",
       "      <td>0.0</td>\n",
       "      <td>954.000000</td>\n",
       "      <td>105.000000</td>\n",
       "      <td>4.666667</td>\n",
       "      <td>4.0</td>\n",
       "      <td>0.6450</td>\n",
       "      <td>...</td>\n",
       "      <td>0.160</td>\n",
       "      <td>163.0</td>\n",
       "      <td>84.0</td>\n",
       "      <td>334.0</td>\n",
       "      <td>8.5</td>\n",
       "      <td>35.000000</td>\n",
       "      <td>22.25</td>\n",
       "      <td>20.00</td>\n",
       "      <td>1.695</td>\n",
       "      <td>4.625</td>\n",
       "    </tr>\n",
       "    <tr>\n",
       "      <th>2</th>\n",
       "      <td>4</td>\n",
       "      <td>2019-01-03</td>\n",
       "      <td>75.00</td>\n",
       "      <td>51.090909</td>\n",
       "      <td>0.0</td>\n",
       "      <td>953.000000</td>\n",
       "      <td>108.000000</td>\n",
       "      <td>4.666667</td>\n",
       "      <td>4.3</td>\n",
       "      <td>0.7125</td>\n",
       "      <td>...</td>\n",
       "      <td>0.120</td>\n",
       "      <td>125.0</td>\n",
       "      <td>77.0</td>\n",
       "      <td>269.0</td>\n",
       "      <td>17.5</td>\n",
       "      <td>25.666667</td>\n",
       "      <td>14.25</td>\n",
       "      <td>18.00</td>\n",
       "      <td>1.595</td>\n",
       "      <td>3.800</td>\n",
       "    </tr>\n",
       "    <tr>\n",
       "      <th>3</th>\n",
       "      <td>4</td>\n",
       "      <td>2019-01-04</td>\n",
       "      <td>177.25</td>\n",
       "      <td>59.090909</td>\n",
       "      <td>0.0</td>\n",
       "      <td>955.000000</td>\n",
       "      <td>106.333333</td>\n",
       "      <td>4.333333</td>\n",
       "      <td>4.1</td>\n",
       "      <td>0.6325</td>\n",
       "      <td>...</td>\n",
       "      <td>0.165</td>\n",
       "      <td>142.0</td>\n",
       "      <td>86.0</td>\n",
       "      <td>304.0</td>\n",
       "      <td>8.5</td>\n",
       "      <td>38.500000</td>\n",
       "      <td>21.75</td>\n",
       "      <td>19.00</td>\n",
       "      <td>1.665</td>\n",
       "      <td>5.200</td>\n",
       "    </tr>\n",
       "    <tr>\n",
       "      <th>4</th>\n",
       "      <td>4</td>\n",
       "      <td>2019-01-05</td>\n",
       "      <td>115.75</td>\n",
       "      <td>58.909091</td>\n",
       "      <td>0.0</td>\n",
       "      <td>957.666667</td>\n",
       "      <td>108.333333</td>\n",
       "      <td>4.666667</td>\n",
       "      <td>3.6</td>\n",
       "      <td>0.6600</td>\n",
       "      <td>...</td>\n",
       "      <td>0.185</td>\n",
       "      <td>108.0</td>\n",
       "      <td>75.0</td>\n",
       "      <td>241.0</td>\n",
       "      <td>8.2</td>\n",
       "      <td>34.400000</td>\n",
       "      <td>24.25</td>\n",
       "      <td>18.00</td>\n",
       "      <td>1.770</td>\n",
       "      <td>4.475</td>\n",
       "    </tr>\n",
       "    <tr>\n",
       "      <th>...</th>\n",
       "      <td>...</td>\n",
       "      <td>...</td>\n",
       "      <td>...</td>\n",
       "      <td>...</td>\n",
       "      <td>...</td>\n",
       "      <td>...</td>\n",
       "      <td>...</td>\n",
       "      <td>...</td>\n",
       "      <td>...</td>\n",
       "      <td>...</td>\n",
       "      <td>...</td>\n",
       "      <td>...</td>\n",
       "      <td>...</td>\n",
       "      <td>...</td>\n",
       "      <td>...</td>\n",
       "      <td>...</td>\n",
       "      <td>...</td>\n",
       "      <td>...</td>\n",
       "      <td>...</td>\n",
       "      <td>...</td>\n",
       "      <td>...</td>\n",
       "    </tr>\n",
       "    <tr>\n",
       "      <th>21182</th>\n",
       "      <td>59</td>\n",
       "      <td>2023-07-27</td>\n",
       "      <td>0.00</td>\n",
       "      <td>40.000000</td>\n",
       "      <td>0.0</td>\n",
       "      <td>937.000000</td>\n",
       "      <td>334.000000</td>\n",
       "      <td>0.000000</td>\n",
       "      <td>26.6</td>\n",
       "      <td>1.4600</td>\n",
       "      <td>...</td>\n",
       "      <td>0.000</td>\n",
       "      <td>2.0</td>\n",
       "      <td>22.0</td>\n",
       "      <td>25.0</td>\n",
       "      <td>100.0</td>\n",
       "      <td>26.666667</td>\n",
       "      <td>11.25</td>\n",
       "      <td>1.75</td>\n",
       "      <td>0.000</td>\n",
       "      <td>2.750</td>\n",
       "    </tr>\n",
       "    <tr>\n",
       "      <th>21183</th>\n",
       "      <td>59</td>\n",
       "      <td>2023-07-28</td>\n",
       "      <td>8.00</td>\n",
       "      <td>38.000000</td>\n",
       "      <td>0.0</td>\n",
       "      <td>937.000000</td>\n",
       "      <td>331.000000</td>\n",
       "      <td>0.000000</td>\n",
       "      <td>27.3</td>\n",
       "      <td>1.3800</td>\n",
       "      <td>...</td>\n",
       "      <td>0.000</td>\n",
       "      <td>4.0</td>\n",
       "      <td>21.0</td>\n",
       "      <td>28.0</td>\n",
       "      <td>100.0</td>\n",
       "      <td>23.166667</td>\n",
       "      <td>10.75</td>\n",
       "      <td>1.75</td>\n",
       "      <td>0.000</td>\n",
       "      <td>1.825</td>\n",
       "    </tr>\n",
       "    <tr>\n",
       "      <th>21184</th>\n",
       "      <td>59</td>\n",
       "      <td>2023-07-29</td>\n",
       "      <td>12.00</td>\n",
       "      <td>38.000000</td>\n",
       "      <td>0.0</td>\n",
       "      <td>937.000000</td>\n",
       "      <td>335.000000</td>\n",
       "      <td>0.000000</td>\n",
       "      <td>27.7</td>\n",
       "      <td>1.2300</td>\n",
       "      <td>...</td>\n",
       "      <td>0.000</td>\n",
       "      <td>1.0</td>\n",
       "      <td>19.0</td>\n",
       "      <td>21.0</td>\n",
       "      <td>75.0</td>\n",
       "      <td>16.833333</td>\n",
       "      <td>7.75</td>\n",
       "      <td>1.75</td>\n",
       "      <td>0.000</td>\n",
       "      <td>1.500</td>\n",
       "    </tr>\n",
       "    <tr>\n",
       "      <th>21185</th>\n",
       "      <td>59</td>\n",
       "      <td>2023-07-30</td>\n",
       "      <td>1.00</td>\n",
       "      <td>40.000000</td>\n",
       "      <td>0.0</td>\n",
       "      <td>939.000000</td>\n",
       "      <td>333.000000</td>\n",
       "      <td>0.000000</td>\n",
       "      <td>29.1</td>\n",
       "      <td>1.1200</td>\n",
       "      <td>...</td>\n",
       "      <td>0.000</td>\n",
       "      <td>2.0</td>\n",
       "      <td>17.0</td>\n",
       "      <td>20.0</td>\n",
       "      <td>78.0</td>\n",
       "      <td>14.333333</td>\n",
       "      <td>7.50</td>\n",
       "      <td>1.75</td>\n",
       "      <td>0.000</td>\n",
       "      <td>0.975</td>\n",
       "    </tr>\n",
       "    <tr>\n",
       "      <th>21186</th>\n",
       "      <td>59</td>\n",
       "      <td>2023-07-31</td>\n",
       "      <td>2.00</td>\n",
       "      <td>40.000000</td>\n",
       "      <td>0.0</td>\n",
       "      <td>939.000000</td>\n",
       "      <td>330.000000</td>\n",
       "      <td>0.000000</td>\n",
       "      <td>29.5</td>\n",
       "      <td>1.0900</td>\n",
       "      <td>...</td>\n",
       "      <td>0.000</td>\n",
       "      <td>1.0</td>\n",
       "      <td>14.0</td>\n",
       "      <td>16.0</td>\n",
       "      <td>101.0</td>\n",
       "      <td>17.833333</td>\n",
       "      <td>11.25</td>\n",
       "      <td>2.00</td>\n",
       "      <td>0.000</td>\n",
       "      <td>1.100</td>\n",
       "    </tr>\n",
       "  </tbody>\n",
       "</table>\n",
       "<p>21187 rows × 24 columns</p>\n",
       "</div>"
      ],
      "text/plain": [
       "       estacion    Datetime      DV         HR    P          PB          RS  \\\n",
       "0             4  2019-01-01   55.50  56.636364  0.0  956.000000  104.333333   \n",
       "1             4  2019-01-02  190.00  60.727273  0.0  954.000000  105.000000   \n",
       "2             4  2019-01-03   75.00  51.090909  0.0  953.000000  108.000000   \n",
       "3             4  2019-01-04  177.25  59.090909  0.0  955.000000  106.333333   \n",
       "4             4  2019-01-05  115.75  58.909091  0.0  957.666667  108.333333   \n",
       "...         ...         ...     ...        ...  ...         ...         ...   \n",
       "21182        59  2023-07-27    0.00  40.000000  0.0  937.000000  334.000000   \n",
       "21183        59  2023-07-28    8.00  38.000000  0.0  937.000000  331.000000   \n",
       "21184        59  2023-07-29   12.00  38.000000  0.0  937.000000  335.000000   \n",
       "21185        59  2023-07-30    1.00  40.000000  0.0  939.000000  333.000000   \n",
       "21186        59  2023-07-31    2.00  40.000000  0.0  939.000000  330.000000   \n",
       "\n",
       "             RU  TEMP      VV  ...   NMHC     NO   NO2    NOX     O3  \\\n",
       "0      4.666667   4.5  0.6375  ...  0.130  105.0  71.0  232.0   13.0   \n",
       "1      4.666667   4.0  0.6450  ...  0.160  163.0  84.0  334.0    8.5   \n",
       "2      4.666667   4.3  0.7125  ...  0.120  125.0  77.0  269.0   17.5   \n",
       "3      4.333333   4.1  0.6325  ...  0.165  142.0  86.0  304.0    8.5   \n",
       "4      4.666667   3.6  0.6600  ...  0.185  108.0  75.0  241.0    8.2   \n",
       "...         ...   ...     ...  ...    ...    ...   ...    ...    ...   \n",
       "21182  0.000000  26.6  1.4600  ...  0.000    2.0  22.0   25.0  100.0   \n",
       "21183  0.000000  27.3  1.3800  ...  0.000    4.0  21.0   28.0  100.0   \n",
       "21184  0.000000  27.7  1.2300  ...  0.000    1.0  19.0   21.0   75.0   \n",
       "21185  0.000000  29.1  1.1200  ...  0.000    2.0  17.0   20.0   78.0   \n",
       "21186  0.000000  29.5  1.0900  ...  0.000    1.0  14.0   16.0  101.0   \n",
       "\n",
       "            PM10   PM25    SO2    TCH    TOL  \n",
       "0      32.600000  24.00  18.00  1.665  2.650  \n",
       "1      35.000000  22.25  20.00  1.695  4.625  \n",
       "2      25.666667  14.25  18.00  1.595  3.800  \n",
       "3      38.500000  21.75  19.00  1.665  5.200  \n",
       "4      34.400000  24.25  18.00  1.770  4.475  \n",
       "...          ...    ...    ...    ...    ...  \n",
       "21182  26.666667  11.25   1.75  0.000  2.750  \n",
       "21183  23.166667  10.75   1.75  0.000  1.825  \n",
       "21184  16.833333   7.75   1.75  0.000  1.500  \n",
       "21185  14.333333   7.50   1.75  0.000  0.975  \n",
       "21186  17.833333  11.25   2.00  0.000  1.100  \n",
       "\n",
       "[21187 rows x 24 columns]"
      ]
     },
     "execution_count": 7,
     "metadata": {},
     "output_type": "execute_result"
    }
   ],
   "source": [
    "data"
   ]
  },
  {
   "cell_type": "code",
   "execution_count": 11,
   "id": "5111a9f7",
   "metadata": {},
   "outputs": [],
   "source": [
    "df = pd.DataFrame(data)"
   ]
  },
  {
   "cell_type": "code",
   "execution_count": 14,
   "id": "f3533491",
   "metadata": {
    "scrolled": true
   },
   "outputs": [
    {
     "name": "stdout",
     "output_type": "stream",
     "text": [
      "<class 'pandas.core.frame.DataFrame'>\n",
      "RangeIndex: 21187 entries, 0 to 21186\n",
      "Data columns (total 24 columns):\n",
      " #   Column    Non-Null Count  Dtype  \n",
      "---  ------    --------------  -----  \n",
      " 0   estacion  21187 non-null  int64  \n",
      " 1   Datetime  21187 non-null  object \n",
      " 2   DV        21187 non-null  float64\n",
      " 3   HR        21187 non-null  float64\n",
      " 4   P         21187 non-null  float64\n",
      " 5   PB        21187 non-null  float64\n",
      " 6   RS        21187 non-null  float64\n",
      " 7   RU        18307 non-null  float64\n",
      " 8   TEMP      21187 non-null  float64\n",
      " 9   VV        21187 non-null  float64\n",
      " 10  BEN       21187 non-null  float64\n",
      " 11  CH4       21187 non-null  float64\n",
      " 12  CO        21187 non-null  float64\n",
      " 13  EBE       21187 non-null  float64\n",
      " 14  NMHC      21187 non-null  float64\n",
      " 15  NO        21187 non-null  float64\n",
      " 16  NO2       21187 non-null  float64\n",
      " 17  NOX       21187 non-null  float64\n",
      " 18  O3        21187 non-null  float64\n",
      " 19  PM10      21187 non-null  float64\n",
      " 20  PM25      21187 non-null  float64\n",
      " 21  SO2       21187 non-null  float64\n",
      " 22  TCH       21187 non-null  float64\n",
      " 23  TOL       21187 non-null  float64\n",
      "dtypes: float64(22), int64(1), object(1)\n",
      "memory usage: 3.9+ MB\n"
     ]
    }
   ],
   "source": [
    "df.info()"
   ]
  },
  {
   "cell_type": "code",
   "execution_count": 15,
   "id": "74826465",
   "metadata": {},
   "outputs": [],
   "source": [
    "# quitamos la variable del tipo object (string)\n",
    "variables = df.drop([\"Datetime\"], axis=1, inplace=False)"
   ]
  },
  {
   "cell_type": "markdown",
   "id": "e9ba46ee",
   "metadata": {},
   "source": [
    "## NORMALIZAR"
   ]
  },
  {
   "cell_type": "code",
   "execution_count": 18,
   "id": "55a3d1d9",
   "metadata": {},
   "outputs": [],
   "source": [
    "from sklearn.preprocessing import StandardScaler"
   ]
  },
  {
   "cell_type": "code",
   "execution_count": 19,
   "id": "48b87ad5",
   "metadata": {},
   "outputs": [],
   "source": [
    "scaler = StandardScaler()"
   ]
  },
  {
   "cell_type": "code",
   "execution_count": 20,
   "id": "41969527",
   "metadata": {
    "scrolled": true
   },
   "outputs": [],
   "source": [
    "df_transformed = scaler.fit_transform(variables._get_numeric_data())"
   ]
  },
  {
   "cell_type": "code",
   "execution_count": 21,
   "id": "7a52aeae",
   "metadata": {
    "scrolled": false
   },
   "outputs": [
    {
     "name": "stdout",
     "output_type": "stream",
     "text": [
      "[[-1.69445476 -0.51518869  0.00656204 ...  3.87963186  1.47847981\n",
      "   0.75554379]\n",
      " [-1.69445476  1.05976054  0.22500006 ...  4.50262185  1.52094627\n",
      "   2.23568883]\n",
      " [-1.69445476 -0.28685032 -0.28954283 ...  3.87963186  1.37939139\n",
      "   1.6174004 ]\n",
      " ...\n",
      " [ 1.33573896 -1.02455889 -0.9885445  ... -1.18216183 -0.87840892\n",
      "  -0.10631282]\n",
      " [ 1.33573896 -1.15336514 -0.88175258 ... -1.18216183 -0.87840892\n",
      "  -0.4997691 ]\n",
      " [ 1.33573896 -1.14165549 -0.88175258 ... -1.10428808 -0.87840892\n",
      "  -0.40608903]]\n"
     ]
    }
   ],
   "source": [
    "print(df_transformed)"
   ]
  },
  {
   "cell_type": "code",
   "execution_count": 26,
   "id": "10b1f38f",
   "metadata": {},
   "outputs": [
    {
     "data": {
      "text/plain": [
       "(21187, 24)"
      ]
     },
     "execution_count": 26,
     "metadata": {},
     "output_type": "execute_result"
    }
   ],
   "source": [
    "df.shape"
   ]
  },
  {
   "cell_type": "code",
   "execution_count": 25,
   "id": "90c10922",
   "metadata": {},
   "outputs": [
    {
     "data": {
      "text/plain": [
       "Index(['estacion', 'Datetime', 'DV', 'HR', 'P', 'PB', 'RS', 'RU', 'TEMP', 'VV',\n",
       "       'BEN', 'CH4', 'CO', 'EBE', 'NMHC', 'NO', 'NO2', 'NOX', 'O3', 'PM10',\n",
       "       'PM25', 'SO2', 'TCH', 'TOL'],\n",
       "      dtype='object')"
      ]
     },
     "execution_count": 25,
     "metadata": {},
     "output_type": "execute_result"
    }
   ],
   "source": [
    "df.columns"
   ]
  },
  {
   "cell_type": "markdown",
   "id": "685b6fa5",
   "metadata": {},
   "source": [
    "## DIVISIÓN DATOS: TRAIN Y TEST"
   ]
  },
  {
   "cell_type": "code",
   "execution_count": 39,
   "id": "9c3fc37c",
   "metadata": {},
   "outputs": [],
   "source": [
    "X = df.iloc[:,2:10]\n",
    "y = df.iloc[:,10:24]"
   ]
  },
  {
   "cell_type": "code",
   "execution_count": 43,
   "id": "847fc809",
   "metadata": {},
   "outputs": [],
   "source": [
    "# Importamos el módulo de StratifiedKfold\n",
    "from sklearn.model_selection import StratifiedKFold\n",
    "# Importamos el módulo de cross_val_score\n",
    "from sklearn.model_selection import cross_val_predict\n",
    "# Importamos el módulo para realizar la partición entre train y test\n",
    "from sklearn.model_selection import train_test_split"
   ]
  },
  {
   "cell_type": "code",
   "execution_count": 44,
   "id": "cbf50d2d",
   "metadata": {},
   "outputs": [],
   "source": [
    "X_train, X_test, y_train, y_test = train_test_split(X, y, test_size=0.2, random_state=42)"
   ]
  },
  {
   "cell_type": "code",
   "execution_count": 46,
   "id": "5bc6aa88",
   "metadata": {},
   "outputs": [
    {
     "data": {
      "text/plain": [
       "(21187, 8)"
      ]
     },
     "execution_count": 46,
     "metadata": {},
     "output_type": "execute_result"
    }
   ],
   "source": [
    "# Variables independientes\n",
    "X.shape"
   ]
  },
  {
   "cell_type": "code",
   "execution_count": 47,
   "id": "d71bc3eb",
   "metadata": {
    "scrolled": true
   },
   "outputs": [
    {
     "data": {
      "text/plain": [
       "(21187, 14)"
      ]
     },
     "execution_count": 47,
     "metadata": {},
     "output_type": "execute_result"
    }
   ],
   "source": [
    "# Variables dependientes\n",
    "y.shape"
   ]
  },
  {
   "cell_type": "code",
   "execution_count": 48,
   "id": "fc9631bb",
   "metadata": {},
   "outputs": [
    {
     "data": {
      "text/plain": [
       "(16949, 8)"
      ]
     },
     "execution_count": 48,
     "metadata": {},
     "output_type": "execute_result"
    }
   ],
   "source": [
    "X_train.shape"
   ]
  },
  {
   "cell_type": "code",
   "execution_count": 49,
   "id": "2bd2bc30",
   "metadata": {},
   "outputs": [
    {
     "data": {
      "text/plain": [
       "(4238, 8)"
      ]
     },
     "execution_count": 49,
     "metadata": {},
     "output_type": "execute_result"
    }
   ],
   "source": [
    "X_test.shape"
   ]
  },
  {
   "cell_type": "code",
   "execution_count": 50,
   "id": "178ab176",
   "metadata": {},
   "outputs": [
    {
     "data": {
      "text/plain": [
       "(16949, 14)"
      ]
     },
     "execution_count": 50,
     "metadata": {},
     "output_type": "execute_result"
    }
   ],
   "source": [
    "y_train.shape"
   ]
  },
  {
   "cell_type": "code",
   "execution_count": 51,
   "id": "899c31f7",
   "metadata": {},
   "outputs": [
    {
     "data": {
      "text/plain": [
       "(4238, 14)"
      ]
     },
     "execution_count": 51,
     "metadata": {},
     "output_type": "execute_result"
    }
   ],
   "source": [
    "y_test.shape"
   ]
  },
  {
   "cell_type": "markdown",
   "id": "eb2ea767",
   "metadata": {},
   "source": [
    "## SELECCIÓN DE VARIABLES"
   ]
  },
  {
   "cell_type": "code",
   "execution_count": 54,
   "id": "b0bfe456",
   "metadata": {
    "scrolled": true
   },
   "outputs": [
    {
     "name": "stdout",
     "output_type": "stream",
     "text": [
      "<class 'pandas.core.frame.DataFrame'>\n",
      "RangeIndex: 21187 entries, 0 to 21186\n",
      "Data columns (total 8 columns):\n",
      " #   Column  Non-Null Count  Dtype  \n",
      "---  ------  --------------  -----  \n",
      " 0   DV      21187 non-null  float64\n",
      " 1   HR      21187 non-null  float64\n",
      " 2   P       21187 non-null  float64\n",
      " 3   PB      21187 non-null  float64\n",
      " 4   RS      21187 non-null  float64\n",
      " 5   RU      18307 non-null  float64\n",
      " 6   TEMP    21187 non-null  float64\n",
      " 7   VV      21187 non-null  float64\n",
      "dtypes: float64(8)\n",
      "memory usage: 1.3 MB\n"
     ]
    }
   ],
   "source": [
    "X.info()"
   ]
  },
  {
   "cell_type": "code",
   "execution_count": 55,
   "id": "b99e6adf",
   "metadata": {
    "scrolled": false
   },
   "outputs": [
    {
     "data": {
      "text/plain": [
       "DV         0\n",
       "HR         0\n",
       "P          0\n",
       "PB         0\n",
       "RS         0\n",
       "RU      2880\n",
       "TEMP       0\n",
       "VV         0\n",
       "dtype: int64"
      ]
     },
     "execution_count": 55,
     "metadata": {},
     "output_type": "execute_result"
    }
   ],
   "source": [
    "X.isnull().sum()"
   ]
  },
  {
   "cell_type": "code",
   "execution_count": 57,
   "id": "ea0de65c",
   "metadata": {},
   "outputs": [],
   "source": [
    "media = X['RU'].mean()\n",
    "\n",
    "# Rellena los NaN con la media\n",
    "X['RU'].fillna(media, inplace=True)"
   ]
  },
  {
   "cell_type": "code",
   "execution_count": 58,
   "id": "82917487",
   "metadata": {},
   "outputs": [
    {
     "data": {
      "text/plain": [
       "DV      0\n",
       "HR      0\n",
       "P       0\n",
       "PB      0\n",
       "RS      0\n",
       "RU      0\n",
       "TEMP    0\n",
       "VV      0\n",
       "dtype: int64"
      ]
     },
     "execution_count": 58,
     "metadata": {},
     "output_type": "execute_result"
    }
   ],
   "source": [
    "X.isnull().sum()"
   ]
  },
  {
   "cell_type": "code",
   "execution_count": 62,
   "id": "27a14ecc",
   "metadata": {},
   "outputs": [],
   "source": [
    "import numpy as np"
   ]
  },
  {
   "cell_type": "code",
   "execution_count": 86,
   "id": "da6eac82",
   "metadata": {},
   "outputs": [
    {
     "data": {
      "text/plain": [
       "(21187, 8)"
      ]
     },
     "execution_count": 86,
     "metadata": {},
     "output_type": "execute_result"
    }
   ],
   "source": [
    "X.shape"
   ]
  },
  {
   "cell_type": "code",
   "execution_count": 84,
   "id": "c7242e02",
   "metadata": {
    "scrolled": true
   },
   "outputs": [
    {
     "data": {
      "text/plain": [
       "array([[ 55.5       ,  56.63636364,   0.        , ..., 104.33333333,\n",
       "          4.66666667,   4.5       ],\n",
       "       [190.        ,  60.72727273,   0.        , ..., 105.        ,\n",
       "          4.66666667,   4.        ],\n",
       "       [ 75.        ,  51.09090909,   0.        , ..., 108.        ,\n",
       "          4.66666667,   4.3       ],\n",
       "       ...,\n",
       "       [ 12.        ,  38.        ,   0.        , ..., 335.        ,\n",
       "          0.        ,  27.7       ],\n",
       "       [  1.        ,  40.        ,   0.        , ..., 333.        ,\n",
       "          0.        ,  29.1       ],\n",
       "       [  2.        ,  40.        ,   0.        , ..., 330.        ,\n",
       "          0.        ,  29.5       ]])"
      ]
     },
     "execution_count": 84,
     "metadata": {},
     "output_type": "execute_result"
    }
   ],
   "source": [
    "from sklearn.feature_selection import VarianceThreshold\n",
    "\n",
    "selector = VarianceThreshold(threshold=0.5)\n",
    "X_new2= selector.fit_transform(X, y)\n",
    "X_new2"
   ]
  },
  {
   "cell_type": "code",
   "execution_count": 85,
   "id": "263bc95a",
   "metadata": {
    "scrolled": true
   },
   "outputs": [
    {
     "data": {
      "text/plain": [
       "(21187, 7)"
      ]
     },
     "execution_count": 85,
     "metadata": {},
     "output_type": "execute_result"
    }
   ],
   "source": [
    "X_new2.shape"
   ]
  },
  {
   "cell_type": "code",
   "execution_count": 88,
   "id": "0be7af1f",
   "metadata": {},
   "outputs": [],
   "source": [
    "variables2 = selector.get_support(indices=True)"
   ]
  },
  {
   "cell_type": "code",
   "execution_count": 89,
   "id": "b2e8efc9",
   "metadata": {
    "scrolled": false
   },
   "outputs": [
    {
     "name": "stdout",
     "output_type": "stream",
     "text": [
      "Variables modelo VarianceThreshold:\n",
      "DV\n",
      "HR\n",
      "P\n",
      "PB\n",
      "RS\n",
      "RU\n",
      "TEMP\n"
     ]
    }
   ],
   "source": [
    "print(\"Variables modelo VarianceThreshold:\")\n",
    "for final_variables in variables2:\n",
    "        print(X.columns.values[final_variables])"
   ]
  },
  {
   "cell_type": "markdown",
   "id": "bf361094",
   "metadata": {},
   "source": [
    "## PCA"
   ]
  },
  {
   "cell_type": "code",
   "execution_count": 79,
   "id": "07cfe626",
   "metadata": {},
   "outputs": [],
   "source": [
    "from sklearn.decomposition import PCA"
   ]
  },
  {
   "cell_type": "code",
   "execution_count": 80,
   "id": "8da02b35",
   "metadata": {},
   "outputs": [
    {
     "name": "stdout",
     "output_type": "stream",
     "text": [
      "[[ 1.68357312e-01  1.50915478e-01  8.96680040e-03  5.48735667e-03\n",
      "  -9.72309291e-01 -3.58167917e-03 -5.80655153e-02 -1.74850009e-04]\n",
      " [ 9.85404532e-01 -1.40524162e-02 -1.06135733e-03 -1.83684848e-02\n",
      "   1.67773921e-01  1.45939154e-02  8.40512366e-03  3.19265914e-03]\n",
      " [ 1.31911078e-02 -9.72717267e-01 -7.57470965e-02  1.17086973e-01\n",
      "  -1.54515676e-01  3.70727173e-02  9.45617804e-02 -2.95316584e-03]\n",
      " [ 5.06507106e-03  5.69885934e-02 -1.92293859e-01  7.06005457e-01\n",
      "   4.24437165e-02  4.13809181e-01 -5.36346333e-01 -2.44768431e-02]]\n",
      "[0.59074032 0.39810553 0.0061609  0.00206731]\n"
     ]
    }
   ],
   "source": [
    "pca = PCA(n_components=4)\n",
    "pca.fit(X)\n",
    "print(pca.components_)\n",
    "print(pca.explained_variance_ratio_)\n",
    "transformacion = pca.transform(X)"
   ]
  },
  {
   "cell_type": "code",
   "execution_count": 81,
   "id": "b7cd0988",
   "metadata": {},
   "outputs": [],
   "source": [
    "loadings = pca.components_"
   ]
  },
  {
   "cell_type": "code",
   "execution_count": 82,
   "id": "626b6530",
   "metadata": {},
   "outputs": [
    {
     "name": "stdout",
     "output_type": "stream",
     "text": [
      "Componente Principal 1:\n",
      "Variable DV: 0.16835731152386807\n",
      "Variable HR: 0.15091547784779796\n",
      "Variable P: 0.008966800404952617\n",
      "Variable PB: 0.005487356673212305\n",
      "Variable RS: -0.9723092905780433\n",
      "Variable RU: -0.003581679165505565\n",
      "Variable TEMP: -0.058065515300527844\n",
      "Variable VV: -0.00017485000904986415\n",
      "Varianza explicada: 0.5907403205777884\n",
      "\n",
      "Componente Principal 2:\n",
      "Variable DV: 0.9854045319831632\n",
      "Variable HR: -0.014052416243840408\n",
      "Variable P: -0.0010613573316225052\n",
      "Variable PB: -0.01836848481550884\n",
      "Variable RS: 0.16777392135805905\n",
      "Variable RU: 0.01459391541064538\n",
      "Variable TEMP: 0.008405123656599716\n",
      "Variable VV: 0.003192659141431696\n",
      "Varianza explicada: 0.39810552593606985\n",
      "\n",
      "Componente Principal 3:\n",
      "Variable DV: 0.01319110782661184\n",
      "Variable HR: -0.9727172665694245\n",
      "Variable P: -0.07574709646081275\n",
      "Variable PB: 0.11708697329480192\n",
      "Variable RS: -0.15451567617200898\n",
      "Variable RU: 0.0370727172969787\n",
      "Variable TEMP: 0.0945617804150183\n",
      "Variable VV: -0.0029531658433202958\n",
      "Varianza explicada: 0.006160902717929285\n",
      "\n",
      "Componente Principal 4:\n",
      "Variable DV: 0.005065071056730195\n",
      "Variable HR: 0.056988593366357705\n",
      "Variable P: -0.19229385909719426\n",
      "Variable PB: 0.70600545687816\n",
      "Variable RS: 0.04244371649709007\n",
      "Variable RU: 0.41380918135707767\n",
      "Variable TEMP: -0.5363463325119676\n",
      "Variable VV: -0.024476843108241494\n",
      "Varianza explicada: 0.0020673074613095175\n",
      "\n"
     ]
    }
   ],
   "source": [
    "# Obtén las etiquetas de las características originales (nombres de columnas)\n",
    "feature_names = X.columns\n",
    "\n",
    "# Itera a través de los componentes principales y sus loadings\n",
    "for i, component in enumerate(loadings):\n",
    "    print(f\"Componente Principal {i + 1}:\")\n",
    "    for j, loading in enumerate(component):\n",
    "        print(f\"Variable {feature_names[j]}: {loading}\")\n",
    "    print(f\"Varianza explicada: {pca.explained_variance_ratio_[i]}\")\n",
    "    print()"
   ]
  },
  {
   "cell_type": "code",
   "execution_count": null,
   "id": "08a9805c",
   "metadata": {},
   "outputs": [],
   "source": []
  }
 ],
 "metadata": {
  "kernelspec": {
   "display_name": "Python 3 (ipykernel)",
   "language": "python",
   "name": "python3"
  },
  "language_info": {
   "codemirror_mode": {
    "name": "ipython",
    "version": 3
   },
   "file_extension": ".py",
   "mimetype": "text/x-python",
   "name": "python",
   "nbconvert_exporter": "python",
   "pygments_lexer": "ipython3",
   "version": "3.9.13"
  }
 },
 "nbformat": 4,
 "nbformat_minor": 5
}
