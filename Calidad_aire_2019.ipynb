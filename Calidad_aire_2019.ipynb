{
 "cells": [
  {
   "cell_type": "markdown",
   "id": "13a1e31a",
   "metadata": {},
   "source": [
    "<img  src=\"data:image/png;base64,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\">\n",
    "\n",
    "\n",
    " #                                           Datos Calidad del Aire 2019 Municipio de Madrid"
   ]
  },
  {
   "cell_type": "markdown",
   "id": "70f2a03c",
   "metadata": {},
   "source": [
    "### Autor: Alicia Ruiz Moreno"
   ]
  },
  {
   "cell_type": "code",
   "execution_count": 1,
   "id": "042527c4",
   "metadata": {},
   "outputs": [],
   "source": [
    "import pandas as pd"
   ]
  },
  {
   "cell_type": "code",
   "execution_count": 2,
   "id": "9a99f50c",
   "metadata": {},
   "outputs": [],
   "source": [
    "data = pd.read_csv('datos201912.csv', encoding='latin-1', sep=';')"
   ]
  },
  {
   "cell_type": "code",
   "execution_count": 3,
   "id": "74ddc1f4",
   "metadata": {
    "scrolled": true
   },
   "outputs": [
    {
     "data": {
      "text/html": [
       "<div>\n",
       "<style scoped>\n",
       "    .dataframe tbody tr th:only-of-type {\n",
       "        vertical-align: middle;\n",
       "    }\n",
       "\n",
       "    .dataframe tbody tr th {\n",
       "        vertical-align: top;\n",
       "    }\n",
       "\n",
       "    .dataframe thead th {\n",
       "        text-align: right;\n",
       "    }\n",
       "</style>\n",
       "<table border=\"1\" class=\"dataframe\">\n",
       "  <thead>\n",
       "    <tr style=\"text-align: right;\">\n",
       "      <th></th>\n",
       "      <th>PROVINCIA</th>\n",
       "      <th>MUNICIPIO</th>\n",
       "      <th>ESTACION</th>\n",
       "      <th>MAGNITUD</th>\n",
       "      <th>PUNTO_MUESTREO</th>\n",
       "      <th>ANO</th>\n",
       "      <th>MES</th>\n",
       "      <th>D01</th>\n",
       "      <th>V01</th>\n",
       "      <th>D02</th>\n",
       "      <th>...</th>\n",
       "      <th>D27</th>\n",
       "      <th>V27</th>\n",
       "      <th>D28</th>\n",
       "      <th>V28</th>\n",
       "      <th>D29</th>\n",
       "      <th>V29</th>\n",
       "      <th>D30</th>\n",
       "      <th>V30</th>\n",
       "      <th>D31</th>\n",
       "      <th>V31</th>\n",
       "    </tr>\n",
       "  </thead>\n",
       "  <tbody>\n",
       "    <tr>\n",
       "      <th>0</th>\n",
       "      <td>28</td>\n",
       "      <td>79</td>\n",
       "      <td>4</td>\n",
       "      <td>1</td>\n",
       "      <td>28079004_1_38</td>\n",
       "      <td>2019</td>\n",
       "      <td>1</td>\n",
       "      <td>18.0</td>\n",
       "      <td>V</td>\n",
       "      <td>20.0</td>\n",
       "      <td>...</td>\n",
       "      <td>15.0</td>\n",
       "      <td>V</td>\n",
       "      <td>15.0</td>\n",
       "      <td>V</td>\n",
       "      <td>15.0</td>\n",
       "      <td>V</td>\n",
       "      <td>14.0</td>\n",
       "      <td>V</td>\n",
       "      <td>14.0</td>\n",
       "      <td>V</td>\n",
       "    </tr>\n",
       "    <tr>\n",
       "      <th>1</th>\n",
       "      <td>28</td>\n",
       "      <td>79</td>\n",
       "      <td>4</td>\n",
       "      <td>1</td>\n",
       "      <td>28079004_1_38</td>\n",
       "      <td>2019</td>\n",
       "      <td>2</td>\n",
       "      <td>13.0</td>\n",
       "      <td>V</td>\n",
       "      <td>13.0</td>\n",
       "      <td>...</td>\n",
       "      <td>19.0</td>\n",
       "      <td>V</td>\n",
       "      <td>20.0</td>\n",
       "      <td>V</td>\n",
       "      <td>0.0</td>\n",
       "      <td>N</td>\n",
       "      <td>0.0</td>\n",
       "      <td>N</td>\n",
       "      <td>0.0</td>\n",
       "      <td>N</td>\n",
       "    </tr>\n",
       "    <tr>\n",
       "      <th>2</th>\n",
       "      <td>28</td>\n",
       "      <td>79</td>\n",
       "      <td>4</td>\n",
       "      <td>1</td>\n",
       "      <td>28079004_1_38</td>\n",
       "      <td>2019</td>\n",
       "      <td>3</td>\n",
       "      <td>18.0</td>\n",
       "      <td>V</td>\n",
       "      <td>18.0</td>\n",
       "      <td>...</td>\n",
       "      <td>6.0</td>\n",
       "      <td>V</td>\n",
       "      <td>7.0</td>\n",
       "      <td>V</td>\n",
       "      <td>6.0</td>\n",
       "      <td>V</td>\n",
       "      <td>4.0</td>\n",
       "      <td>V</td>\n",
       "      <td>4.0</td>\n",
       "      <td>V</td>\n",
       "    </tr>\n",
       "    <tr>\n",
       "      <th>3</th>\n",
       "      <td>28</td>\n",
       "      <td>79</td>\n",
       "      <td>4</td>\n",
       "      <td>1</td>\n",
       "      <td>28079004_1_38</td>\n",
       "      <td>2019</td>\n",
       "      <td>4</td>\n",
       "      <td>3.0</td>\n",
       "      <td>V</td>\n",
       "      <td>4.0</td>\n",
       "      <td>...</td>\n",
       "      <td>3.0</td>\n",
       "      <td>V</td>\n",
       "      <td>2.0</td>\n",
       "      <td>V</td>\n",
       "      <td>2.0</td>\n",
       "      <td>V</td>\n",
       "      <td>2.0</td>\n",
       "      <td>V</td>\n",
       "      <td>0.0</td>\n",
       "      <td>N</td>\n",
       "    </tr>\n",
       "    <tr>\n",
       "      <th>4</th>\n",
       "      <td>28</td>\n",
       "      <td>79</td>\n",
       "      <td>4</td>\n",
       "      <td>1</td>\n",
       "      <td>28079004_1_38</td>\n",
       "      <td>2019</td>\n",
       "      <td>5</td>\n",
       "      <td>1.0</td>\n",
       "      <td>V</td>\n",
       "      <td>1.0</td>\n",
       "      <td>...</td>\n",
       "      <td>2.0</td>\n",
       "      <td>V</td>\n",
       "      <td>1.0</td>\n",
       "      <td>V</td>\n",
       "      <td>1.0</td>\n",
       "      <td>V</td>\n",
       "      <td>1.0</td>\n",
       "      <td>V</td>\n",
       "      <td>2.0</td>\n",
       "      <td>V</td>\n",
       "    </tr>\n",
       "    <tr>\n",
       "      <th>...</th>\n",
       "      <td>...</td>\n",
       "      <td>...</td>\n",
       "      <td>...</td>\n",
       "      <td>...</td>\n",
       "      <td>...</td>\n",
       "      <td>...</td>\n",
       "      <td>...</td>\n",
       "      <td>...</td>\n",
       "      <td>...</td>\n",
       "      <td>...</td>\n",
       "      <td>...</td>\n",
       "      <td>...</td>\n",
       "      <td>...</td>\n",
       "      <td>...</td>\n",
       "      <td>...</td>\n",
       "      <td>...</td>\n",
       "      <td>...</td>\n",
       "      <td>...</td>\n",
       "      <td>...</td>\n",
       "      <td>...</td>\n",
       "      <td>...</td>\n",
       "    </tr>\n",
       "    <tr>\n",
       "      <th>1831</th>\n",
       "      <td>28</td>\n",
       "      <td>79</td>\n",
       "      <td>60</td>\n",
       "      <td>14</td>\n",
       "      <td>28079060_14_6</td>\n",
       "      <td>2019</td>\n",
       "      <td>8</td>\n",
       "      <td>94.0</td>\n",
       "      <td>V</td>\n",
       "      <td>104.0</td>\n",
       "      <td>...</td>\n",
       "      <td>88.0</td>\n",
       "      <td>V</td>\n",
       "      <td>90.0</td>\n",
       "      <td>V</td>\n",
       "      <td>99.0</td>\n",
       "      <td>V</td>\n",
       "      <td>108.0</td>\n",
       "      <td>V</td>\n",
       "      <td>98.0</td>\n",
       "      <td>V</td>\n",
       "    </tr>\n",
       "    <tr>\n",
       "      <th>1832</th>\n",
       "      <td>28</td>\n",
       "      <td>79</td>\n",
       "      <td>60</td>\n",
       "      <td>14</td>\n",
       "      <td>28079060_14_6</td>\n",
       "      <td>2019</td>\n",
       "      <td>9</td>\n",
       "      <td>88.0</td>\n",
       "      <td>V</td>\n",
       "      <td>82.0</td>\n",
       "      <td>...</td>\n",
       "      <td>54.0</td>\n",
       "      <td>V</td>\n",
       "      <td>68.0</td>\n",
       "      <td>V</td>\n",
       "      <td>70.0</td>\n",
       "      <td>V</td>\n",
       "      <td>55.0</td>\n",
       "      <td>V</td>\n",
       "      <td>0.0</td>\n",
       "      <td>N</td>\n",
       "    </tr>\n",
       "    <tr>\n",
       "      <th>1833</th>\n",
       "      <td>28</td>\n",
       "      <td>79</td>\n",
       "      <td>60</td>\n",
       "      <td>14</td>\n",
       "      <td>28079060_14_6</td>\n",
       "      <td>2019</td>\n",
       "      <td>10</td>\n",
       "      <td>44.0</td>\n",
       "      <td>V</td>\n",
       "      <td>75.0</td>\n",
       "      <td>...</td>\n",
       "      <td>28.0</td>\n",
       "      <td>V</td>\n",
       "      <td>33.0</td>\n",
       "      <td>V</td>\n",
       "      <td>16.0</td>\n",
       "      <td>V</td>\n",
       "      <td>19.0</td>\n",
       "      <td>V</td>\n",
       "      <td>47.0</td>\n",
       "      <td>V</td>\n",
       "    </tr>\n",
       "    <tr>\n",
       "      <th>1834</th>\n",
       "      <td>28</td>\n",
       "      <td>79</td>\n",
       "      <td>60</td>\n",
       "      <td>14</td>\n",
       "      <td>28079060_14_6</td>\n",
       "      <td>2019</td>\n",
       "      <td>11</td>\n",
       "      <td>41.0</td>\n",
       "      <td>V</td>\n",
       "      <td>55.0</td>\n",
       "      <td>...</td>\n",
       "      <td>55.0</td>\n",
       "      <td>V</td>\n",
       "      <td>52.0</td>\n",
       "      <td>V</td>\n",
       "      <td>47.0</td>\n",
       "      <td>V</td>\n",
       "      <td>56.0</td>\n",
       "      <td>V</td>\n",
       "      <td>0.0</td>\n",
       "      <td>N</td>\n",
       "    </tr>\n",
       "    <tr>\n",
       "      <th>1835</th>\n",
       "      <td>28</td>\n",
       "      <td>79</td>\n",
       "      <td>60</td>\n",
       "      <td>14</td>\n",
       "      <td>28079060_14_6</td>\n",
       "      <td>2019</td>\n",
       "      <td>12</td>\n",
       "      <td>47.0</td>\n",
       "      <td>V</td>\n",
       "      <td>53.0</td>\n",
       "      <td>...</td>\n",
       "      <td>17.0</td>\n",
       "      <td>V</td>\n",
       "      <td>13.0</td>\n",
       "      <td>V</td>\n",
       "      <td>14.0</td>\n",
       "      <td>V</td>\n",
       "      <td>5.0</td>\n",
       "      <td>V</td>\n",
       "      <td>4.0</td>\n",
       "      <td>V</td>\n",
       "    </tr>\n",
       "  </tbody>\n",
       "</table>\n",
       "<p>1836 rows × 69 columns</p>\n",
       "</div>"
      ],
      "text/plain": [
       "      PROVINCIA  MUNICIPIO  ESTACION  MAGNITUD PUNTO_MUESTREO   ANO  MES  \\\n",
       "0            28         79         4         1  28079004_1_38  2019    1   \n",
       "1            28         79         4         1  28079004_1_38  2019    2   \n",
       "2            28         79         4         1  28079004_1_38  2019    3   \n",
       "3            28         79         4         1  28079004_1_38  2019    4   \n",
       "4            28         79         4         1  28079004_1_38  2019    5   \n",
       "...         ...        ...       ...       ...            ...   ...  ...   \n",
       "1831         28         79        60        14  28079060_14_6  2019    8   \n",
       "1832         28         79        60        14  28079060_14_6  2019    9   \n",
       "1833         28         79        60        14  28079060_14_6  2019   10   \n",
       "1834         28         79        60        14  28079060_14_6  2019   11   \n",
       "1835         28         79        60        14  28079060_14_6  2019   12   \n",
       "\n",
       "       D01 V01    D02  ...   D27  V27   D28  V28   D29  V29    D30  V30   D31  \\\n",
       "0     18.0   V   20.0  ...  15.0    V  15.0    V  15.0    V   14.0    V  14.0   \n",
       "1     13.0   V   13.0  ...  19.0    V  20.0    V   0.0    N    0.0    N   0.0   \n",
       "2     18.0   V   18.0  ...   6.0    V   7.0    V   6.0    V    4.0    V   4.0   \n",
       "3      3.0   V    4.0  ...   3.0    V   2.0    V   2.0    V    2.0    V   0.0   \n",
       "4      1.0   V    1.0  ...   2.0    V   1.0    V   1.0    V    1.0    V   2.0   \n",
       "...    ...  ..    ...  ...   ...  ...   ...  ...   ...  ...    ...  ...   ...   \n",
       "1831  94.0   V  104.0  ...  88.0    V  90.0    V  99.0    V  108.0    V  98.0   \n",
       "1832  88.0   V   82.0  ...  54.0    V  68.0    V  70.0    V   55.0    V   0.0   \n",
       "1833  44.0   V   75.0  ...  28.0    V  33.0    V  16.0    V   19.0    V  47.0   \n",
       "1834  41.0   V   55.0  ...  55.0    V  52.0    V  47.0    V   56.0    V   0.0   \n",
       "1835  47.0   V   53.0  ...  17.0    V  13.0    V  14.0    V    5.0    V   4.0   \n",
       "\n",
       "      V31  \n",
       "0       V  \n",
       "1       N  \n",
       "2       V  \n",
       "3       N  \n",
       "4       V  \n",
       "...   ...  \n",
       "1831    V  \n",
       "1832    N  \n",
       "1833    V  \n",
       "1834    N  \n",
       "1835    V  \n",
       "\n",
       "[1836 rows x 69 columns]"
      ]
     },
     "execution_count": 3,
     "metadata": {},
     "output_type": "execute_result"
    }
   ],
   "source": [
    "data"
   ]
  },
  {
   "cell_type": "code",
   "execution_count": 4,
   "id": "e01a05cd",
   "metadata": {},
   "outputs": [],
   "source": [
    "df = pd.DataFrame(data)"
   ]
  },
  {
   "cell_type": "markdown",
   "id": "5793757d",
   "metadata": {},
   "source": [
    "- Modificación de la estructura"
   ]
  },
  {
   "cell_type": "code",
   "execution_count": 5,
   "id": "8aee0f03",
   "metadata": {},
   "outputs": [],
   "source": [
    "import datetime"
   ]
  },
  {
   "cell_type": "code",
   "execution_count": 6,
   "id": "8391c5d0",
   "metadata": {},
   "outputs": [],
   "source": [
    "def Reshape(df):\n",
    "    for i, row in df.iterrows():\n",
    "        df.loc[i,'01'] = str(row['D01']) + row ['V01']\n",
    "        df.loc[i,'02'] = str(row['D02']) + row ['V02']\n",
    "        df.loc[i,'03'] = str(row['D03']) + row ['V03']\n",
    "        df.loc[i,'04'] = str(row['D04']) + row ['V04']\n",
    "        df.loc[i,'05'] = str(row['D05']) + row ['V05']\n",
    "        df.loc[i,'06'] = str(row['D06']) + row ['V06']\n",
    "        df.loc[i,'07'] = str(row['D07']) + row ['V07']\n",
    "        df.loc[i,'08'] = str(row['D08']) + row ['V08']\n",
    "        df.loc[i,'09'] = str(row['D09']) + row ['V09']\n",
    "        df.loc[i,'10'] = str(row['D10']) + row ['V10']\n",
    "        df.loc[i,'11'] = str(row['D11']) + row ['V11']\n",
    "        df.loc[i,'12'] = str(row['D12']) + row ['V12']\n",
    "        df.loc[i,'13'] = str(row['D13']) + row ['V13']\n",
    "        df.loc[i,'14'] = str(row['D14']) + row ['V14']\n",
    "        df.loc[i,'15'] = str(row['D15']) + row ['V15']\n",
    "        df.loc[i,'16'] = str(row['D16']) + row ['V16']\n",
    "        df.loc[i,'17'] = str(row['D17']) + row ['V17']\n",
    "        df.loc[i,'18'] = str(row['D18']) + row ['V18']\n",
    "        df.loc[i,'19'] = str(row['D19']) + row ['V19']\n",
    "        df.loc[i,'20'] = str(row['D20']) + row ['V20']\n",
    "        df.loc[i,'21'] = str(row['D21']) + row ['V21']\n",
    "        df.loc[i,'22'] = str(row['D22']) + row ['V22']\n",
    "        df.loc[i,'23'] = str(row['D23']) + row ['V23']\n",
    "        df.loc[i,'24'] = str(row['D24']) + row ['V24']\n",
    "        df.loc[i,'25'] = str(row['D25']) + row ['V25']\n",
    "        df.loc[i,'26'] = str(row['D26']) + row ['V26']\n",
    "        df.loc[i,'27'] = str(row['D27']) + row ['V27']\n",
    "        df.loc[i,'28'] = str(row['D28']) + row ['V28']\n",
    "        df.loc[i,'29'] = str(row['D29']) + row ['V29']\n",
    "        df.loc[i,'30'] = str(row['D30']) + row ['V30']\n",
    "        df.loc[i,'31'] = str(row['D31']) + row ['V31']\n",
    "    \n",
    "    df = df.drop(['D01', 'V01', 'D02', 'V02', 'D03', 'V03', 'D04', 'V04', 'D05', 'V05', 'D06', 'V06', 'D07', 'V07', \n",
    "                  'D08', 'V08', 'D09', 'V09', 'D10', 'V10', 'D11', 'V11', 'D12', 'V12', 'D13', 'V13', 'D14', 'V14',\n",
    "                  'D15', 'V15', 'D16', 'V16', 'D17', 'V17', 'D18', 'V18', 'D19', 'V19', 'D20', 'V20', 'D21', 'V21', \n",
    "                  'D22', 'V22', 'D23', 'V23', 'D24', 'V24', 'D25', 'V25', 'D26', 'V26', 'D27', 'V27', 'D28', 'V28', \n",
    "                  'D29', 'V29', 'D30', 'V30', 'D31', 'V31'], axis = 1)\n",
    "    \n",
    "    df = pd.melt(df, id_vars = ['PROVINCIA', 'MUNICIPIO', 'ESTACION', 'MAGNITUD', 'PUNTO_MUESTREO', 'ANO', 'MES'],\n",
    "                var_name = 'DIA',\n",
    "                value_name = 'valor')\n",
    "    \n",
    "    df = df[~((df['MES'].isin([4,6,9,11])) & (df['DIA']==str(31)))]\n",
    "    df = df[~((df['MES'] == 2) & (df['DIA'].isin([str(29), str(30), str(31)])) & (df['ANO']== 2019))]\n",
    "    df = df[~((df['MES'] == 2) & (df['DIA'].isin([str(30), str(31)])) & (df['ANO']== 2020))]\n",
    "    df = df[~((df['MES'] == 2) & (df['DIA'].isin([str(29), str(30), str(31)])) & (df['ANO']== 2021))]\n",
    "    df = df[~((df['MES'] == 2) & (df['DIA'].isin([str(29), str(30), str(31)])) & (df['ANO']== 2022))]\n",
    "    df = df[~((df['MES'] == 2) & (df['DIA'].isin([str(29), str(30), str(31)])) & (df['ANO']== 2023))]\n",
    "    \n",
    "    df.rename(columns = {'ANO': 'year', 'MES': 'month', 'DIA': 'day'}, inplace=True)\n",
    "    df['year'] = df['year'].astype(int)\n",
    "    df['month'] = df['month'].astype(int)\n",
    "    df['day'] = df['day'].astype(int)\n",
    "    \n",
    "    df['Datetime'] = ''\n",
    "    for i, row in df.iterrows():\n",
    "        df.at[i, 'Datetime'] = datetime.date(year = row['year'], day = row['day'], month = row['month'])\n",
    "    \n",
    "    for i, row in df.iterrows():\n",
    "        df.loc[i,'validacion'] = row['valor'][len(row['valor'])-1]\n",
    "        df.loc[i, 'valor'] = row['valor'][0:len(row['valor'])-1]\n",
    "    \n",
    "    df = df[df['validacion']== 'V']\n",
    "    df['valor'] = df['valor'].astype('float')\n",
    "    for i, row in df.iterrows():\n",
    "        df.loc[i,'id'] = str(row['Datetime']) + '-' + str(row['ESTACION'])\n",
    "    \n",
    "    return(df)"
   ]
  },
  {
   "cell_type": "code",
   "execution_count": 7,
   "id": "f2a93ac1",
   "metadata": {},
   "outputs": [],
   "source": [
    "df1 = Reshape(df)"
   ]
  },
  {
   "cell_type": "code",
   "execution_count": 8,
   "id": "91312679",
   "metadata": {},
   "outputs": [
    {
     "data": {
      "text/html": [
       "<div>\n",
       "<style scoped>\n",
       "    .dataframe tbody tr th:only-of-type {\n",
       "        vertical-align: middle;\n",
       "    }\n",
       "\n",
       "    .dataframe tbody tr th {\n",
       "        vertical-align: top;\n",
       "    }\n",
       "\n",
       "    .dataframe thead th {\n",
       "        text-align: right;\n",
       "    }\n",
       "</style>\n",
       "<table border=\"1\" class=\"dataframe\">\n",
       "  <thead>\n",
       "    <tr style=\"text-align: right;\">\n",
       "      <th></th>\n",
       "      <th>PROVINCIA</th>\n",
       "      <th>MUNICIPIO</th>\n",
       "      <th>ESTACION</th>\n",
       "      <th>MAGNITUD</th>\n",
       "      <th>PUNTO_MUESTREO</th>\n",
       "      <th>year</th>\n",
       "      <th>month</th>\n",
       "      <th>day</th>\n",
       "      <th>valor</th>\n",
       "      <th>Datetime</th>\n",
       "      <th>validacion</th>\n",
       "      <th>id</th>\n",
       "    </tr>\n",
       "  </thead>\n",
       "  <tbody>\n",
       "    <tr>\n",
       "      <th>0</th>\n",
       "      <td>28</td>\n",
       "      <td>79</td>\n",
       "      <td>4</td>\n",
       "      <td>1</td>\n",
       "      <td>28079004_1_38</td>\n",
       "      <td>2019</td>\n",
       "      <td>1</td>\n",
       "      <td>1</td>\n",
       "      <td>18.0</td>\n",
       "      <td>2019-01-01</td>\n",
       "      <td>V</td>\n",
       "      <td>2019-01-01-4</td>\n",
       "    </tr>\n",
       "    <tr>\n",
       "      <th>1</th>\n",
       "      <td>28</td>\n",
       "      <td>79</td>\n",
       "      <td>4</td>\n",
       "      <td>1</td>\n",
       "      <td>28079004_1_38</td>\n",
       "      <td>2019</td>\n",
       "      <td>2</td>\n",
       "      <td>1</td>\n",
       "      <td>13.0</td>\n",
       "      <td>2019-02-01</td>\n",
       "      <td>V</td>\n",
       "      <td>2019-02-01-4</td>\n",
       "    </tr>\n",
       "    <tr>\n",
       "      <th>2</th>\n",
       "      <td>28</td>\n",
       "      <td>79</td>\n",
       "      <td>4</td>\n",
       "      <td>1</td>\n",
       "      <td>28079004_1_38</td>\n",
       "      <td>2019</td>\n",
       "      <td>3</td>\n",
       "      <td>1</td>\n",
       "      <td>18.0</td>\n",
       "      <td>2019-03-01</td>\n",
       "      <td>V</td>\n",
       "      <td>2019-03-01-4</td>\n",
       "    </tr>\n",
       "    <tr>\n",
       "      <th>3</th>\n",
       "      <td>28</td>\n",
       "      <td>79</td>\n",
       "      <td>4</td>\n",
       "      <td>1</td>\n",
       "      <td>28079004_1_38</td>\n",
       "      <td>2019</td>\n",
       "      <td>4</td>\n",
       "      <td>1</td>\n",
       "      <td>3.0</td>\n",
       "      <td>2019-04-01</td>\n",
       "      <td>V</td>\n",
       "      <td>2019-04-01-4</td>\n",
       "    </tr>\n",
       "    <tr>\n",
       "      <th>4</th>\n",
       "      <td>28</td>\n",
       "      <td>79</td>\n",
       "      <td>4</td>\n",
       "      <td>1</td>\n",
       "      <td>28079004_1_38</td>\n",
       "      <td>2019</td>\n",
       "      <td>5</td>\n",
       "      <td>1</td>\n",
       "      <td>1.0</td>\n",
       "      <td>2019-05-01</td>\n",
       "      <td>V</td>\n",
       "      <td>2019-05-01-4</td>\n",
       "    </tr>\n",
       "    <tr>\n",
       "      <th>...</th>\n",
       "      <td>...</td>\n",
       "      <td>...</td>\n",
       "      <td>...</td>\n",
       "      <td>...</td>\n",
       "      <td>...</td>\n",
       "      <td>...</td>\n",
       "      <td>...</td>\n",
       "      <td>...</td>\n",
       "      <td>...</td>\n",
       "      <td>...</td>\n",
       "      <td>...</td>\n",
       "      <td>...</td>\n",
       "    </tr>\n",
       "    <tr>\n",
       "      <th>56908</th>\n",
       "      <td>28</td>\n",
       "      <td>79</td>\n",
       "      <td>60</td>\n",
       "      <td>14</td>\n",
       "      <td>28079060_14_6</td>\n",
       "      <td>2019</td>\n",
       "      <td>5</td>\n",
       "      <td>31</td>\n",
       "      <td>85.0</td>\n",
       "      <td>2019-05-31</td>\n",
       "      <td>V</td>\n",
       "      <td>2019-05-31-60</td>\n",
       "    </tr>\n",
       "    <tr>\n",
       "      <th>56910</th>\n",
       "      <td>28</td>\n",
       "      <td>79</td>\n",
       "      <td>60</td>\n",
       "      <td>14</td>\n",
       "      <td>28079060_14_6</td>\n",
       "      <td>2019</td>\n",
       "      <td>7</td>\n",
       "      <td>31</td>\n",
       "      <td>92.0</td>\n",
       "      <td>2019-07-31</td>\n",
       "      <td>V</td>\n",
       "      <td>2019-07-31-60</td>\n",
       "    </tr>\n",
       "    <tr>\n",
       "      <th>56911</th>\n",
       "      <td>28</td>\n",
       "      <td>79</td>\n",
       "      <td>60</td>\n",
       "      <td>14</td>\n",
       "      <td>28079060_14_6</td>\n",
       "      <td>2019</td>\n",
       "      <td>8</td>\n",
       "      <td>31</td>\n",
       "      <td>98.0</td>\n",
       "      <td>2019-08-31</td>\n",
       "      <td>V</td>\n",
       "      <td>2019-08-31-60</td>\n",
       "    </tr>\n",
       "    <tr>\n",
       "      <th>56913</th>\n",
       "      <td>28</td>\n",
       "      <td>79</td>\n",
       "      <td>60</td>\n",
       "      <td>14</td>\n",
       "      <td>28079060_14_6</td>\n",
       "      <td>2019</td>\n",
       "      <td>10</td>\n",
       "      <td>31</td>\n",
       "      <td>47.0</td>\n",
       "      <td>2019-10-31</td>\n",
       "      <td>V</td>\n",
       "      <td>2019-10-31-60</td>\n",
       "    </tr>\n",
       "    <tr>\n",
       "      <th>56915</th>\n",
       "      <td>28</td>\n",
       "      <td>79</td>\n",
       "      <td>60</td>\n",
       "      <td>14</td>\n",
       "      <td>28079060_14_6</td>\n",
       "      <td>2019</td>\n",
       "      <td>12</td>\n",
       "      <td>31</td>\n",
       "      <td>4.0</td>\n",
       "      <td>2019-12-31</td>\n",
       "      <td>V</td>\n",
       "      <td>2019-12-31-60</td>\n",
       "    </tr>\n",
       "  </tbody>\n",
       "</table>\n",
       "<p>54874 rows × 12 columns</p>\n",
       "</div>"
      ],
      "text/plain": [
       "       PROVINCIA  MUNICIPIO  ESTACION  MAGNITUD PUNTO_MUESTREO  year  month  \\\n",
       "0             28         79         4         1  28079004_1_38  2019      1   \n",
       "1             28         79         4         1  28079004_1_38  2019      2   \n",
       "2             28         79         4         1  28079004_1_38  2019      3   \n",
       "3             28         79         4         1  28079004_1_38  2019      4   \n",
       "4             28         79         4         1  28079004_1_38  2019      5   \n",
       "...          ...        ...       ...       ...            ...   ...    ...   \n",
       "56908         28         79        60        14  28079060_14_6  2019      5   \n",
       "56910         28         79        60        14  28079060_14_6  2019      7   \n",
       "56911         28         79        60        14  28079060_14_6  2019      8   \n",
       "56913         28         79        60        14  28079060_14_6  2019     10   \n",
       "56915         28         79        60        14  28079060_14_6  2019     12   \n",
       "\n",
       "       day  valor    Datetime validacion             id  \n",
       "0        1   18.0  2019-01-01          V   2019-01-01-4  \n",
       "1        1   13.0  2019-02-01          V   2019-02-01-4  \n",
       "2        1   18.0  2019-03-01          V   2019-03-01-4  \n",
       "3        1    3.0  2019-04-01          V   2019-04-01-4  \n",
       "4        1    1.0  2019-05-01          V   2019-05-01-4  \n",
       "...    ...    ...         ...        ...            ...  \n",
       "56908   31   85.0  2019-05-31          V  2019-05-31-60  \n",
       "56910   31   92.0  2019-07-31          V  2019-07-31-60  \n",
       "56911   31   98.0  2019-08-31          V  2019-08-31-60  \n",
       "56913   31   47.0  2019-10-31          V  2019-10-31-60  \n",
       "56915   31    4.0  2019-12-31          V  2019-12-31-60  \n",
       "\n",
       "[54874 rows x 12 columns]"
      ]
     },
     "execution_count": 8,
     "metadata": {},
     "output_type": "execute_result"
    }
   ],
   "source": [
    "df1"
   ]
  },
  {
   "cell_type": "code",
   "execution_count": 9,
   "id": "fc5b199d",
   "metadata": {},
   "outputs": [
    {
     "data": {
      "text/plain": [
       "array([ 4,  8, 11, 16, 17, 18, 24, 27, 35, 36, 38, 39, 40, 47, 48, 49, 50,\n",
       "       54, 55, 56, 57, 58, 59, 60])"
      ]
     },
     "execution_count": 9,
     "metadata": {},
     "output_type": "execute_result"
    }
   ],
   "source": [
    "df1['ESTACION'].unique()"
   ]
  },
  {
   "cell_type": "code",
   "execution_count": 10,
   "id": "1ec289fa",
   "metadata": {},
   "outputs": [
    {
     "data": {
      "text/plain": [
       "array([ 1,  6,  7,  8, 12,  9, 10, 14, 20, 30, 35, 42, 43, 44])"
      ]
     },
     "execution_count": 10,
     "metadata": {},
     "output_type": "execute_result"
    }
   ],
   "source": [
    "df1['MAGNITUD'].unique()"
   ]
  },
  {
   "cell_type": "code",
   "execution_count": 11,
   "id": "17f22423",
   "metadata": {},
   "outputs": [],
   "source": [
    "df1['MAGNITUD'] = df1['MAGNITUD'].replace({1: 'SO2', 6: 'CO', 7: 'NO', 8: 'NO2', 12: 'NOX', 9: 'PM2.5', 10: 'PM10',\n",
    "                                        14: 'O3', 20: 'TOL', 30: 'BEN', 35: 'EBE', 42: 'TCH', 43: 'CH4', 44: 'NMHC'})"
   ]
  },
  {
   "cell_type": "code",
   "execution_count": 12,
   "id": "0aab05cd",
   "metadata": {},
   "outputs": [
    {
     "data": {
      "text/plain": [
       "(54874, 12)"
      ]
     },
     "execution_count": 12,
     "metadata": {},
     "output_type": "execute_result"
    }
   ],
   "source": [
    "df1.shape"
   ]
  },
  {
   "cell_type": "code",
   "execution_count": 13,
   "id": "29cd095d",
   "metadata": {
    "scrolled": true
   },
   "outputs": [
    {
     "name": "stdout",
     "output_type": "stream",
     "text": [
      "<class 'pandas.core.frame.DataFrame'>\n",
      "Int64Index: 54874 entries, 0 to 56915\n",
      "Data columns (total 12 columns):\n",
      " #   Column          Non-Null Count  Dtype  \n",
      "---  ------          --------------  -----  \n",
      " 0   PROVINCIA       54874 non-null  int64  \n",
      " 1   MUNICIPIO       54874 non-null  int64  \n",
      " 2   ESTACION        54874 non-null  int64  \n",
      " 3   MAGNITUD        54874 non-null  object \n",
      " 4   PUNTO_MUESTREO  54874 non-null  object \n",
      " 5   year            54874 non-null  int64  \n",
      " 6   month           54874 non-null  int64  \n",
      " 7   day             54874 non-null  int64  \n",
      " 8   valor           54874 non-null  float64\n",
      " 9   Datetime        54874 non-null  object \n",
      " 10  validacion      54874 non-null  object \n",
      " 11  id              54874 non-null  object \n",
      "dtypes: float64(1), int64(6), object(5)\n",
      "memory usage: 7.5+ MB\n"
     ]
    }
   ],
   "source": [
    "df1.info()"
   ]
  },
  {
   "cell_type": "code",
   "execution_count": 14,
   "id": "805e6668",
   "metadata": {},
   "outputs": [
    {
     "data": {
      "text/plain": [
       "0"
      ]
     },
     "execution_count": 14,
     "metadata": {},
     "output_type": "execute_result"
    }
   ],
   "source": [
    "df1.duplicated().sum()"
   ]
  },
  {
   "cell_type": "code",
   "execution_count": 15,
   "id": "c59fcb58",
   "metadata": {},
   "outputs": [
    {
     "data": {
      "text/plain": [
       "array(['SO2', 'CO', 'NO', 'NO2', 'NOX', 'PM2.5', 'PM10', 'O3', 'TOL',\n",
       "       'BEN', 'EBE', 'TCH', 'CH4', 'NMHC'], dtype=object)"
      ]
     },
     "execution_count": 15,
     "metadata": {},
     "output_type": "execute_result"
    }
   ],
   "source": [
    "df1['MAGNITUD'].unique()"
   ]
  },
  {
   "cell_type": "markdown",
   "id": "970421ba",
   "metadata": {},
   "source": [
    "## ANÁLISIS TEMPORAL "
   ]
  },
  {
   "cell_type": "markdown",
   "id": "e908e815",
   "metadata": {},
   "source": [
    "- OZONO (O3)"
   ]
  },
  {
   "cell_type": "code",
   "execution_count": 16,
   "id": "829f61b8",
   "metadata": {},
   "outputs": [],
   "source": [
    "time_O3 = df1[['Datetime', 'valor']][df1['MAGNITUD'] == 'O3']"
   ]
  },
  {
   "cell_type": "code",
   "execution_count": 17,
   "id": "ffc27eb5",
   "metadata": {},
   "outputs": [],
   "source": [
    "time_O3['Datetime'] = pd.to_datetime(time_O3['Datetime'])"
   ]
  },
  {
   "cell_type": "code",
   "execution_count": 18,
   "id": "0b1bcae9",
   "metadata": {},
   "outputs": [],
   "source": [
    "time_O3['year'] = time_O3['Datetime'].dt.year\n",
    "time_O3['month'] = time_O3['Datetime'].dt.month"
   ]
  },
  {
   "cell_type": "code",
   "execution_count": 19,
   "id": "85ff0fbc",
   "metadata": {},
   "outputs": [
    {
     "data": {
      "text/html": [
       "<div>\n",
       "<style scoped>\n",
       "    .dataframe tbody tr th:only-of-type {\n",
       "        vertical-align: middle;\n",
       "    }\n",
       "\n",
       "    .dataframe tbody tr th {\n",
       "        vertical-align: top;\n",
       "    }\n",
       "\n",
       "    .dataframe thead th {\n",
       "        text-align: right;\n",
       "    }\n",
       "</style>\n",
       "<table border=\"1\" class=\"dataframe\">\n",
       "  <thead>\n",
       "    <tr style=\"text-align: right;\">\n",
       "      <th></th>\n",
       "      <th>Datetime</th>\n",
       "      <th>valor</th>\n",
       "      <th>year</th>\n",
       "      <th>month</th>\n",
       "    </tr>\n",
       "  </thead>\n",
       "  <tbody>\n",
       "    <tr>\n",
       "      <th>144</th>\n",
       "      <td>2019-01-01</td>\n",
       "      <td>14.0</td>\n",
       "      <td>2019</td>\n",
       "      <td>1</td>\n",
       "    </tr>\n",
       "    <tr>\n",
       "      <th>145</th>\n",
       "      <td>2019-02-01</td>\n",
       "      <td>56.0</td>\n",
       "      <td>2019</td>\n",
       "      <td>2</td>\n",
       "    </tr>\n",
       "    <tr>\n",
       "      <th>146</th>\n",
       "      <td>2019-03-01</td>\n",
       "      <td>45.0</td>\n",
       "      <td>2019</td>\n",
       "      <td>3</td>\n",
       "    </tr>\n",
       "    <tr>\n",
       "      <th>147</th>\n",
       "      <td>2019-04-01</td>\n",
       "      <td>43.0</td>\n",
       "      <td>2019</td>\n",
       "      <td>4</td>\n",
       "    </tr>\n",
       "    <tr>\n",
       "      <th>148</th>\n",
       "      <td>2019-05-01</td>\n",
       "      <td>74.0</td>\n",
       "      <td>2019</td>\n",
       "      <td>5</td>\n",
       "    </tr>\n",
       "    <tr>\n",
       "      <th>...</th>\n",
       "      <td>...</td>\n",
       "      <td>...</td>\n",
       "      <td>...</td>\n",
       "      <td>...</td>\n",
       "    </tr>\n",
       "    <tr>\n",
       "      <th>56908</th>\n",
       "      <td>2019-05-31</td>\n",
       "      <td>85.0</td>\n",
       "      <td>2019</td>\n",
       "      <td>5</td>\n",
       "    </tr>\n",
       "    <tr>\n",
       "      <th>56910</th>\n",
       "      <td>2019-07-31</td>\n",
       "      <td>92.0</td>\n",
       "      <td>2019</td>\n",
       "      <td>7</td>\n",
       "    </tr>\n",
       "    <tr>\n",
       "      <th>56911</th>\n",
       "      <td>2019-08-31</td>\n",
       "      <td>98.0</td>\n",
       "      <td>2019</td>\n",
       "      <td>8</td>\n",
       "    </tr>\n",
       "    <tr>\n",
       "      <th>56913</th>\n",
       "      <td>2019-10-31</td>\n",
       "      <td>47.0</td>\n",
       "      <td>2019</td>\n",
       "      <td>10</td>\n",
       "    </tr>\n",
       "    <tr>\n",
       "      <th>56915</th>\n",
       "      <td>2019-12-31</td>\n",
       "      <td>4.0</td>\n",
       "      <td>2019</td>\n",
       "      <td>12</td>\n",
       "    </tr>\n",
       "  </tbody>\n",
       "</table>\n",
       "<p>5047 rows × 4 columns</p>\n",
       "</div>"
      ],
      "text/plain": [
       "        Datetime  valor  year  month\n",
       "144   2019-01-01   14.0  2019      1\n",
       "145   2019-02-01   56.0  2019      2\n",
       "146   2019-03-01   45.0  2019      3\n",
       "147   2019-04-01   43.0  2019      4\n",
       "148   2019-05-01   74.0  2019      5\n",
       "...          ...    ...   ...    ...\n",
       "56908 2019-05-31   85.0  2019      5\n",
       "56910 2019-07-31   92.0  2019      7\n",
       "56911 2019-08-31   98.0  2019      8\n",
       "56913 2019-10-31   47.0  2019     10\n",
       "56915 2019-12-31    4.0  2019     12\n",
       "\n",
       "[5047 rows x 4 columns]"
      ]
     },
     "execution_count": 19,
     "metadata": {},
     "output_type": "execute_result"
    }
   ],
   "source": [
    "time_O3"
   ]
  },
  {
   "cell_type": "code",
   "execution_count": 20,
   "id": "92aa7d02",
   "metadata": {},
   "outputs": [],
   "source": [
    "O3_promedio = time_O3.groupby(['year', 'month'])['valor'].sum().reset_index()"
   ]
  },
  {
   "cell_type": "code",
   "execution_count": 21,
   "id": "a79a182b",
   "metadata": {},
   "outputs": [
    {
     "name": "stdout",
     "output_type": "stream",
     "text": [
      "    year  month    valor\n",
      "0   2019      1  11026.0\n",
      "1   2019      2  12206.0\n",
      "2   2019      3  23622.0\n",
      "3   2019      4  28131.0\n",
      "4   2019      5  30243.0\n",
      "5   2019      6  30991.0\n",
      "6   2019      7  33352.0\n",
      "7   2019      8  26777.0\n",
      "8   2019      9  22622.0\n",
      "9   2019     10  14201.0\n",
      "10  2019     11  17430.0\n",
      "11  2019     12  11681.0\n"
     ]
    }
   ],
   "source": [
    "print(O3_promedio)"
   ]
  },
  {
   "cell_type": "code",
   "execution_count": 22,
   "id": "93faa229",
   "metadata": {},
   "outputs": [],
   "source": [
    "total_suma = time_O3['valor'].sum()"
   ]
  },
  {
   "cell_type": "code",
   "execution_count": 23,
   "id": "e9ec8949",
   "metadata": {},
   "outputs": [
    {
     "name": "stdout",
     "output_type": "stream",
     "text": [
      "La suma total de 'mi_columna' es: 262282.0\n"
     ]
    }
   ],
   "source": [
    "print(f\"La suma total de 'mi_columna' es: {total_suma}\")"
   ]
  },
  {
   "cell_type": "markdown",
   "id": "5ce2e73a",
   "metadata": {},
   "source": [
    "- PM10"
   ]
  },
  {
   "cell_type": "code",
   "execution_count": 24,
   "id": "e925d77f",
   "metadata": {},
   "outputs": [],
   "source": [
    "time_PM10 = df1[['Datetime', 'valor']][df1['MAGNITUD'] == 'PM10']"
   ]
  },
  {
   "cell_type": "code",
   "execution_count": 25,
   "id": "96b01907",
   "metadata": {},
   "outputs": [],
   "source": [
    "time_PM10['Datetime'] = pd.to_datetime(time_PM10['Datetime'])"
   ]
  },
  {
   "cell_type": "code",
   "execution_count": 26,
   "id": "78320333",
   "metadata": {},
   "outputs": [],
   "source": [
    "time_PM10['year'] = time_PM10['Datetime'].dt.year\n",
    "time_PM10['month'] = time_PM10['Datetime'].dt.month"
   ]
  },
  {
   "cell_type": "code",
   "execution_count": 27,
   "id": "3755c64a",
   "metadata": {},
   "outputs": [],
   "source": [
    "total_suma = time_PM10['valor'].sum()"
   ]
  },
  {
   "cell_type": "code",
   "execution_count": 28,
   "id": "8d6650a8",
   "metadata": {},
   "outputs": [
    {
     "name": "stdout",
     "output_type": "stream",
     "text": [
      "La suma total de 'mi_columna' es: 80663.0\n"
     ]
    }
   ],
   "source": [
    "print(f\"La suma total de 'mi_columna' es: {total_suma}\")"
   ]
  },
  {
   "cell_type": "markdown",
   "id": "b73fd1a1",
   "metadata": {},
   "source": [
    "- PM2.5"
   ]
  },
  {
   "cell_type": "code",
   "execution_count": 29,
   "id": "99da8617",
   "metadata": {},
   "outputs": [],
   "source": [
    "time_PM25 = df1[['Datetime', 'valor']][df1['MAGNITUD'] == 'PM2.5']"
   ]
  },
  {
   "cell_type": "code",
   "execution_count": 30,
   "id": "cd2b8ec7",
   "metadata": {},
   "outputs": [],
   "source": [
    "time_PM25['Datetime'] = pd.to_datetime(time_PM25['Datetime'])"
   ]
  },
  {
   "cell_type": "code",
   "execution_count": 31,
   "id": "ae878526",
   "metadata": {},
   "outputs": [],
   "source": [
    "time_PM25['year'] = time_PM25['Datetime'].dt.year\n",
    "time_PM25['month'] = time_PM25['Datetime'].dt.month"
   ]
  },
  {
   "cell_type": "code",
   "execution_count": 32,
   "id": "1b4283da",
   "metadata": {},
   "outputs": [],
   "source": [
    "total_suma = time_PM25['valor'].sum()"
   ]
  },
  {
   "cell_type": "code",
   "execution_count": 33,
   "id": "50a0afc3",
   "metadata": {},
   "outputs": [
    {
     "name": "stdout",
     "output_type": "stream",
     "text": [
      "La suma total de 'mi_columna' es: 24574.0\n"
     ]
    }
   ],
   "source": [
    "print(f\"La suma total de 'mi_columna' es: {total_suma}\")"
   ]
  },
  {
   "cell_type": "markdown",
   "id": "c33c61b8",
   "metadata": {},
   "source": [
    "- NOx"
   ]
  },
  {
   "cell_type": "code",
   "execution_count": 34,
   "id": "753d6915",
   "metadata": {},
   "outputs": [],
   "source": [
    "time_NOX = df1[['Datetime', 'valor']][df1['MAGNITUD'] == 'NOX']\n",
    "time_NOX['Datetime'] = pd.to_datetime(time_NOX['Datetime'])\n",
    "time_NOX['year'] = time_NOX['Datetime'].dt.year\n",
    "time_NOX['month'] = time_NOX['Datetime'].dt.month"
   ]
  },
  {
   "cell_type": "code",
   "execution_count": 35,
   "id": "94d7867e",
   "metadata": {},
   "outputs": [
    {
     "name": "stdout",
     "output_type": "stream",
     "text": [
      "La suma total de 'mi_columna' es: 511581.0\n"
     ]
    }
   ],
   "source": [
    "total_suma = time_NOX['valor'].sum()\n",
    "print(f\"La suma total de 'mi_columna' es: {total_suma}\")"
   ]
  },
  {
   "cell_type": "markdown",
   "id": "a4575f88",
   "metadata": {},
   "source": [
    "- CO"
   ]
  },
  {
   "cell_type": "code",
   "execution_count": 36,
   "id": "618d069f",
   "metadata": {},
   "outputs": [],
   "source": [
    "time_CO = df1[['Datetime', 'valor']][df1['MAGNITUD'] == 'CO']\n",
    "time_CO['Datetime'] = pd.to_datetime(time_CO['Datetime'])\n",
    "time_CO['year'] = time_CO['Datetime'].dt.year\n",
    "time_CO['month'] = time_CO['Datetime'].dt.month"
   ]
  },
  {
   "cell_type": "code",
   "execution_count": 37,
   "id": "84a74156",
   "metadata": {},
   "outputs": [
    {
     "name": "stdout",
     "output_type": "stream",
     "text": [
      "La suma total de 'mi_columna' es: 1204.1000000000001\n"
     ]
    }
   ],
   "source": [
    "total_suma = time_CO['valor'].sum()\n",
    "print(f\"La suma total de 'mi_columna' es: {total_suma}\")"
   ]
  },
  {
   "cell_type": "code",
   "execution_count": null,
   "id": "b987739d",
   "metadata": {},
   "outputs": [],
   "source": []
  },
  {
   "cell_type": "code",
   "execution_count": 38,
   "id": "140af4fc",
   "metadata": {},
   "outputs": [],
   "source": [
    "df1.to_csv(\"2019_AIRE.csv\", index=False)"
   ]
  },
  {
   "cell_type": "markdown",
   "id": "ce0acb66",
   "metadata": {},
   "source": [
    "- Estructuramos la tabla para que sea más sencillo de visualizar."
   ]
  },
  {
   "cell_type": "code",
   "execution_count": 39,
   "id": "912e7cf5",
   "metadata": {},
   "outputs": [],
   "source": [
    "df1_pivot = df1.pivot_table('valor', ['ESTACION', 'Datetime'], 'MAGNITUD')"
   ]
  },
  {
   "cell_type": "code",
   "execution_count": 40,
   "id": "08f99b28",
   "metadata": {},
   "outputs": [
    {
     "data": {
      "text/html": [
       "<div>\n",
       "<style scoped>\n",
       "    .dataframe tbody tr th:only-of-type {\n",
       "        vertical-align: middle;\n",
       "    }\n",
       "\n",
       "    .dataframe tbody tr th {\n",
       "        vertical-align: top;\n",
       "    }\n",
       "\n",
       "    .dataframe thead th {\n",
       "        text-align: right;\n",
       "    }\n",
       "</style>\n",
       "<table border=\"1\" class=\"dataframe\">\n",
       "  <thead>\n",
       "    <tr style=\"text-align: right;\">\n",
       "      <th></th>\n",
       "      <th>MAGNITUD</th>\n",
       "      <th>BEN</th>\n",
       "      <th>CH4</th>\n",
       "      <th>CO</th>\n",
       "      <th>EBE</th>\n",
       "      <th>NMHC</th>\n",
       "      <th>NO</th>\n",
       "      <th>NO2</th>\n",
       "      <th>NOX</th>\n",
       "      <th>O3</th>\n",
       "      <th>PM10</th>\n",
       "      <th>PM2.5</th>\n",
       "      <th>SO2</th>\n",
       "      <th>TCH</th>\n",
       "      <th>TOL</th>\n",
       "    </tr>\n",
       "    <tr>\n",
       "      <th>ESTACION</th>\n",
       "      <th>Datetime</th>\n",
       "      <th></th>\n",
       "      <th></th>\n",
       "      <th></th>\n",
       "      <th></th>\n",
       "      <th></th>\n",
       "      <th></th>\n",
       "      <th></th>\n",
       "      <th></th>\n",
       "      <th></th>\n",
       "      <th></th>\n",
       "      <th></th>\n",
       "      <th></th>\n",
       "      <th></th>\n",
       "      <th></th>\n",
       "    </tr>\n",
       "  </thead>\n",
       "  <tbody>\n",
       "    <tr>\n",
       "      <th rowspan=\"5\" valign=\"top\">4</th>\n",
       "      <th>2019-01-01</th>\n",
       "      <td>NaN</td>\n",
       "      <td>NaN</td>\n",
       "      <td>0.8</td>\n",
       "      <td>NaN</td>\n",
       "      <td>NaN</td>\n",
       "      <td>105.0</td>\n",
       "      <td>71.0</td>\n",
       "      <td>232.0</td>\n",
       "      <td>NaN</td>\n",
       "      <td>NaN</td>\n",
       "      <td>NaN</td>\n",
       "      <td>18.0</td>\n",
       "      <td>NaN</td>\n",
       "      <td>NaN</td>\n",
       "    </tr>\n",
       "    <tr>\n",
       "      <th>2019-01-02</th>\n",
       "      <td>NaN</td>\n",
       "      <td>NaN</td>\n",
       "      <td>1.0</td>\n",
       "      <td>NaN</td>\n",
       "      <td>NaN</td>\n",
       "      <td>163.0</td>\n",
       "      <td>84.0</td>\n",
       "      <td>334.0</td>\n",
       "      <td>NaN</td>\n",
       "      <td>NaN</td>\n",
       "      <td>NaN</td>\n",
       "      <td>20.0</td>\n",
       "      <td>NaN</td>\n",
       "      <td>NaN</td>\n",
       "    </tr>\n",
       "    <tr>\n",
       "      <th>2019-01-03</th>\n",
       "      <td>NaN</td>\n",
       "      <td>NaN</td>\n",
       "      <td>0.9</td>\n",
       "      <td>NaN</td>\n",
       "      <td>NaN</td>\n",
       "      <td>125.0</td>\n",
       "      <td>77.0</td>\n",
       "      <td>269.0</td>\n",
       "      <td>NaN</td>\n",
       "      <td>NaN</td>\n",
       "      <td>NaN</td>\n",
       "      <td>18.0</td>\n",
       "      <td>NaN</td>\n",
       "      <td>NaN</td>\n",
       "    </tr>\n",
       "    <tr>\n",
       "      <th>2019-01-04</th>\n",
       "      <td>NaN</td>\n",
       "      <td>NaN</td>\n",
       "      <td>1.0</td>\n",
       "      <td>NaN</td>\n",
       "      <td>NaN</td>\n",
       "      <td>142.0</td>\n",
       "      <td>86.0</td>\n",
       "      <td>304.0</td>\n",
       "      <td>NaN</td>\n",
       "      <td>NaN</td>\n",
       "      <td>NaN</td>\n",
       "      <td>19.0</td>\n",
       "      <td>NaN</td>\n",
       "      <td>NaN</td>\n",
       "    </tr>\n",
       "    <tr>\n",
       "      <th>2019-01-05</th>\n",
       "      <td>NaN</td>\n",
       "      <td>NaN</td>\n",
       "      <td>0.9</td>\n",
       "      <td>NaN</td>\n",
       "      <td>NaN</td>\n",
       "      <td>108.0</td>\n",
       "      <td>75.0</td>\n",
       "      <td>241.0</td>\n",
       "      <td>NaN</td>\n",
       "      <td>NaN</td>\n",
       "      <td>NaN</td>\n",
       "      <td>18.0</td>\n",
       "      <td>NaN</td>\n",
       "      <td>NaN</td>\n",
       "    </tr>\n",
       "    <tr>\n",
       "      <th>...</th>\n",
       "      <th>...</th>\n",
       "      <td>...</td>\n",
       "      <td>...</td>\n",
       "      <td>...</td>\n",
       "      <td>...</td>\n",
       "      <td>...</td>\n",
       "      <td>...</td>\n",
       "      <td>...</td>\n",
       "      <td>...</td>\n",
       "      <td>...</td>\n",
       "      <td>...</td>\n",
       "      <td>...</td>\n",
       "      <td>...</td>\n",
       "      <td>...</td>\n",
       "      <td>...</td>\n",
       "    </tr>\n",
       "    <tr>\n",
       "      <th rowspan=\"5\" valign=\"top\">60</th>\n",
       "      <th>2019-12-27</th>\n",
       "      <td>NaN</td>\n",
       "      <td>NaN</td>\n",
       "      <td>NaN</td>\n",
       "      <td>NaN</td>\n",
       "      <td>NaN</td>\n",
       "      <td>32.0</td>\n",
       "      <td>63.0</td>\n",
       "      <td>112.0</td>\n",
       "      <td>17.0</td>\n",
       "      <td>12.0</td>\n",
       "      <td>NaN</td>\n",
       "      <td>NaN</td>\n",
       "      <td>NaN</td>\n",
       "      <td>NaN</td>\n",
       "    </tr>\n",
       "    <tr>\n",
       "      <th>2019-12-28</th>\n",
       "      <td>NaN</td>\n",
       "      <td>NaN</td>\n",
       "      <td>NaN</td>\n",
       "      <td>NaN</td>\n",
       "      <td>NaN</td>\n",
       "      <td>35.0</td>\n",
       "      <td>76.0</td>\n",
       "      <td>130.0</td>\n",
       "      <td>13.0</td>\n",
       "      <td>14.0</td>\n",
       "      <td>NaN</td>\n",
       "      <td>NaN</td>\n",
       "      <td>NaN</td>\n",
       "      <td>NaN</td>\n",
       "    </tr>\n",
       "    <tr>\n",
       "      <th>2019-12-29</th>\n",
       "      <td>NaN</td>\n",
       "      <td>NaN</td>\n",
       "      <td>NaN</td>\n",
       "      <td>NaN</td>\n",
       "      <td>NaN</td>\n",
       "      <td>37.0</td>\n",
       "      <td>69.0</td>\n",
       "      <td>126.0</td>\n",
       "      <td>14.0</td>\n",
       "      <td>15.0</td>\n",
       "      <td>NaN</td>\n",
       "      <td>NaN</td>\n",
       "      <td>NaN</td>\n",
       "      <td>NaN</td>\n",
       "    </tr>\n",
       "    <tr>\n",
       "      <th>2019-12-30</th>\n",
       "      <td>NaN</td>\n",
       "      <td>NaN</td>\n",
       "      <td>NaN</td>\n",
       "      <td>NaN</td>\n",
       "      <td>NaN</td>\n",
       "      <td>59.0</td>\n",
       "      <td>84.0</td>\n",
       "      <td>174.0</td>\n",
       "      <td>5.0</td>\n",
       "      <td>19.0</td>\n",
       "      <td>NaN</td>\n",
       "      <td>NaN</td>\n",
       "      <td>NaN</td>\n",
       "      <td>NaN</td>\n",
       "    </tr>\n",
       "    <tr>\n",
       "      <th>2019-12-31</th>\n",
       "      <td>NaN</td>\n",
       "      <td>NaN</td>\n",
       "      <td>NaN</td>\n",
       "      <td>NaN</td>\n",
       "      <td>NaN</td>\n",
       "      <td>77.0</td>\n",
       "      <td>83.0</td>\n",
       "      <td>202.0</td>\n",
       "      <td>4.0</td>\n",
       "      <td>25.0</td>\n",
       "      <td>NaN</td>\n",
       "      <td>NaN</td>\n",
       "      <td>NaN</td>\n",
       "      <td>NaN</td>\n",
       "    </tr>\n",
       "  </tbody>\n",
       "</table>\n",
       "<p>8683 rows × 14 columns</p>\n",
       "</div>"
      ],
      "text/plain": [
       "MAGNITUD             BEN  CH4   CO  EBE  NMHC     NO   NO2    NOX    O3  PM10  \\\n",
       "ESTACION Datetime                                                               \n",
       "4        2019-01-01  NaN  NaN  0.8  NaN   NaN  105.0  71.0  232.0   NaN   NaN   \n",
       "         2019-01-02  NaN  NaN  1.0  NaN   NaN  163.0  84.0  334.0   NaN   NaN   \n",
       "         2019-01-03  NaN  NaN  0.9  NaN   NaN  125.0  77.0  269.0   NaN   NaN   \n",
       "         2019-01-04  NaN  NaN  1.0  NaN   NaN  142.0  86.0  304.0   NaN   NaN   \n",
       "         2019-01-05  NaN  NaN  0.9  NaN   NaN  108.0  75.0  241.0   NaN   NaN   \n",
       "...                  ...  ...  ...  ...   ...    ...   ...    ...   ...   ...   \n",
       "60       2019-12-27  NaN  NaN  NaN  NaN   NaN   32.0  63.0  112.0  17.0  12.0   \n",
       "         2019-12-28  NaN  NaN  NaN  NaN   NaN   35.0  76.0  130.0  13.0  14.0   \n",
       "         2019-12-29  NaN  NaN  NaN  NaN   NaN   37.0  69.0  126.0  14.0  15.0   \n",
       "         2019-12-30  NaN  NaN  NaN  NaN   NaN   59.0  84.0  174.0   5.0  19.0   \n",
       "         2019-12-31  NaN  NaN  NaN  NaN   NaN   77.0  83.0  202.0   4.0  25.0   \n",
       "\n",
       "MAGNITUD             PM2.5   SO2  TCH  TOL  \n",
       "ESTACION Datetime                           \n",
       "4        2019-01-01    NaN  18.0  NaN  NaN  \n",
       "         2019-01-02    NaN  20.0  NaN  NaN  \n",
       "         2019-01-03    NaN  18.0  NaN  NaN  \n",
       "         2019-01-04    NaN  19.0  NaN  NaN  \n",
       "         2019-01-05    NaN  18.0  NaN  NaN  \n",
       "...                    ...   ...  ...  ...  \n",
       "60       2019-12-27    NaN   NaN  NaN  NaN  \n",
       "         2019-12-28    NaN   NaN  NaN  NaN  \n",
       "         2019-12-29    NaN   NaN  NaN  NaN  \n",
       "         2019-12-30    NaN   NaN  NaN  NaN  \n",
       "         2019-12-31    NaN   NaN  NaN  NaN  \n",
       "\n",
       "[8683 rows x 14 columns]"
      ]
     },
     "execution_count": 40,
     "metadata": {},
     "output_type": "execute_result"
    }
   ],
   "source": [
    "df1_pivot"
   ]
  },
  {
   "cell_type": "markdown",
   "id": "8e1f49bf",
   "metadata": {},
   "source": [
    "- Valores duplicados"
   ]
  },
  {
   "cell_type": "code",
   "execution_count": 41,
   "id": "fd73b7e9",
   "metadata": {},
   "outputs": [
    {
     "data": {
      "text/plain": [
       "105"
      ]
     },
     "execution_count": 41,
     "metadata": {},
     "output_type": "execute_result"
    }
   ],
   "source": [
    "df1_pivot.duplicated().sum()"
   ]
  },
  {
   "cell_type": "markdown",
   "id": "3c40b032",
   "metadata": {},
   "source": [
    "- Valores faltantes (NaN)"
   ]
  },
  {
   "cell_type": "code",
   "execution_count": 42,
   "id": "097819e4",
   "metadata": {},
   "outputs": [
    {
     "data": {
      "text/plain": [
       "66688"
      ]
     },
     "execution_count": 42,
     "metadata": {},
     "output_type": "execute_result"
    }
   ],
   "source": [
    "df1_pivot.isnull().sum().sum()"
   ]
  },
  {
   "cell_type": "code",
   "execution_count": 45,
   "id": "f2babebe",
   "metadata": {},
   "outputs": [],
   "source": [
    "df1_pivot.to_csv(\"2019_AIRE_pivot.csv\")"
   ]
  },
  {
   "cell_type": "code",
   "execution_count": 43,
   "id": "2fe149f8",
   "metadata": {},
   "outputs": [],
   "source": [
    "df1.to_csv(\"2019_AIRE.csv\", index=False)"
   ]
  }
 ],
 "metadata": {
  "kernelspec": {
   "display_name": "Python 3 (ipykernel)",
   "language": "python",
   "name": "python3"
  },
  "language_info": {
   "codemirror_mode": {
    "name": "ipython",
    "version": 3
   },
   "file_extension": ".py",
   "mimetype": "text/x-python",
   "name": "python",
   "nbconvert_exporter": "python",
   "pygments_lexer": "ipython3",
   "version": "3.9.13"
  }
 },
 "nbformat": 4,
 "nbformat_minor": 5
}
