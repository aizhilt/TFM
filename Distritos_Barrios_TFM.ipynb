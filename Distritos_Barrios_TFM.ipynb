{
 "cells": [
  {
   "cell_type": "markdown",
   "id": "e7bdef8e",
   "metadata": {},
   "source": [
    "<img  src=\"data:image/png;base64,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\">\n",
    "\n",
    "\n",
    " #                                           Información de Distritos y Barrios del Municipio de Madrid\n"
   ]
  },
  {
   "cell_type": "markdown",
   "id": "2b716820",
   "metadata": {},
   "source": [
    "PRESENTADA POR: Alicia Ruiz Moreno "
   ]
  },
  {
   "cell_type": "code",
   "execution_count": 2,
   "id": "38960c98",
   "metadata": {},
   "outputs": [],
   "source": [
    "import pandas as pd"
   ]
  },
  {
   "cell_type": "markdown",
   "id": "540b29b1",
   "metadata": {},
   "source": [
    "- Lectura del dataset"
   ]
  },
  {
   "cell_type": "code",
   "execution_count": 2,
   "id": "84f20bb2",
   "metadata": {},
   "outputs": [],
   "source": [
    "data = pd.read_csv('barrios_municipio_madrid.csv', encoding='latin-1', sep=';')"
   ]
  },
  {
   "cell_type": "code",
   "execution_count": 3,
   "id": "538883b9",
   "metadata": {
    "scrolled": true
   },
   "outputs": [
    {
     "data": {
      "text/html": [
       "<div>\n",
       "<style scoped>\n",
       "    .dataframe tbody tr th:only-of-type {\n",
       "        vertical-align: middle;\n",
       "    }\n",
       "\n",
       "    .dataframe tbody tr th {\n",
       "        vertical-align: top;\n",
       "    }\n",
       "\n",
       "    .dataframe thead th {\n",
       "        text-align: right;\n",
       "    }\n",
       "</style>\n",
       "<table border=\"1\" class=\"dataframe\">\n",
       "  <thead>\n",
       "    <tr style=\"text-align: right;\">\n",
       "      <th></th>\n",
       "      <th>barrio_codigo</th>\n",
       "      <th>barrio_nombre</th>\n",
       "      <th>distrito_codigo</th>\n",
       "      <th>distrito_nombre</th>\n",
       "      <th>municipio_codigo</th>\n",
       "      <th>municipio_nombre</th>\n",
       "      <th>superficie_km2</th>\n",
       "      <th>densidad_por_km2</th>\n",
       "    </tr>\n",
       "  </thead>\n",
       "  <tbody>\n",
       "    <tr>\n",
       "      <th>0</th>\n",
       "      <td>796011</td>\n",
       "      <td>Palacio</td>\n",
       "      <td>79601</td>\n",
       "      <td>Centro</td>\n",
       "      <td>796</td>\n",
       "      <td>Madrid</td>\n",
       "      <td>1.46</td>\n",
       "      <td>15323.29</td>\n",
       "    </tr>\n",
       "    <tr>\n",
       "      <th>1</th>\n",
       "      <td>796012</td>\n",
       "      <td>Embajadores</td>\n",
       "      <td>79601</td>\n",
       "      <td>Centro</td>\n",
       "      <td>796</td>\n",
       "      <td>Madrid</td>\n",
       "      <td>1.03</td>\n",
       "      <td>43345.63</td>\n",
       "    </tr>\n",
       "    <tr>\n",
       "      <th>2</th>\n",
       "      <td>796013</td>\n",
       "      <td>Cortes</td>\n",
       "      <td>79601</td>\n",
       "      <td>Centro</td>\n",
       "      <td>796</td>\n",
       "      <td>Madrid</td>\n",
       "      <td>0.59</td>\n",
       "      <td>17850.85</td>\n",
       "    </tr>\n",
       "    <tr>\n",
       "      <th>3</th>\n",
       "      <td>796014</td>\n",
       "      <td>Justicia</td>\n",
       "      <td>79601</td>\n",
       "      <td>Centro</td>\n",
       "      <td>796</td>\n",
       "      <td>Madrid</td>\n",
       "      <td>0.75</td>\n",
       "      <td>21866.67</td>\n",
       "    </tr>\n",
       "    <tr>\n",
       "      <th>4</th>\n",
       "      <td>796015</td>\n",
       "      <td>Universidad</td>\n",
       "      <td>79601</td>\n",
       "      <td>Centro</td>\n",
       "      <td>796</td>\n",
       "      <td>Madrid</td>\n",
       "      <td>0.93</td>\n",
       "      <td>33051.61</td>\n",
       "    </tr>\n",
       "    <tr>\n",
       "      <th>...</th>\n",
       "      <td>...</td>\n",
       "      <td>...</td>\n",
       "      <td>...</td>\n",
       "      <td>...</td>\n",
       "      <td>...</td>\n",
       "      <td>...</td>\n",
       "      <td>...</td>\n",
       "      <td>...</td>\n",
       "    </tr>\n",
       "    <tr>\n",
       "      <th>123</th>\n",
       "      <td>796211</td>\n",
       "      <td>Alameda de Osuna</td>\n",
       "      <td>79621</td>\n",
       "      <td>Barajas</td>\n",
       "      <td>796</td>\n",
       "      <td>Madrid</td>\n",
       "      <td>1.98</td>\n",
       "      <td>9795.45</td>\n",
       "    </tr>\n",
       "    <tr>\n",
       "      <th>124</th>\n",
       "      <td>796212</td>\n",
       "      <td>Aeropuerto</td>\n",
       "      <td>79621</td>\n",
       "      <td>Barajas</td>\n",
       "      <td>796</td>\n",
       "      <td>Madrid</td>\n",
       "      <td>19.87</td>\n",
       "      <td>89.88</td>\n",
       "    </tr>\n",
       "    <tr>\n",
       "      <th>125</th>\n",
       "      <td>796213</td>\n",
       "      <td>Casco Histórico de Barajas</td>\n",
       "      <td>79621</td>\n",
       "      <td>Barajas</td>\n",
       "      <td>796</td>\n",
       "      <td>Madrid</td>\n",
       "      <td>0.64</td>\n",
       "      <td>11415.62</td>\n",
       "    </tr>\n",
       "    <tr>\n",
       "      <th>126</th>\n",
       "      <td>796214</td>\n",
       "      <td>Timón</td>\n",
       "      <td>79621</td>\n",
       "      <td>Barajas</td>\n",
       "      <td>796</td>\n",
       "      <td>Madrid</td>\n",
       "      <td>16.40</td>\n",
       "      <td>672.01</td>\n",
       "    </tr>\n",
       "    <tr>\n",
       "      <th>127</th>\n",
       "      <td>796215</td>\n",
       "      <td>Corralejos</td>\n",
       "      <td>79621</td>\n",
       "      <td>Barajas</td>\n",
       "      <td>796</td>\n",
       "      <td>Madrid</td>\n",
       "      <td>4.67</td>\n",
       "      <td>1577.09</td>\n",
       "    </tr>\n",
       "  </tbody>\n",
       "</table>\n",
       "<p>128 rows × 8 columns</p>\n",
       "</div>"
      ],
      "text/plain": [
       "     barrio_codigo                       barrio_nombre  distrito_codigo  \\\n",
       "0           796011                             Palacio            79601   \n",
       "1           796012                         Embajadores            79601   \n",
       "2           796013                              Cortes            79601   \n",
       "3           796014                            Justicia            79601   \n",
       "4           796015                         Universidad            79601   \n",
       "..             ...                                 ...              ...   \n",
       "123         796211                    Alameda de Osuna            79621   \n",
       "124         796212                          Aeropuerto            79621   \n",
       "125         796213          Casco Histórico de Barajas            79621   \n",
       "126         796214                               Timón            79621   \n",
       "127         796215                          Corralejos            79621   \n",
       "\n",
       "    distrito_nombre  municipio_codigo municipio_nombre  superficie_km2  \\\n",
       "0           Centro                796           Madrid            1.46   \n",
       "1           Centro                796           Madrid            1.03   \n",
       "2           Centro                796           Madrid            0.59   \n",
       "3           Centro                796           Madrid            0.75   \n",
       "4           Centro                796           Madrid            0.93   \n",
       "..              ...               ...              ...             ...   \n",
       "123        Barajas                796           Madrid            1.98   \n",
       "124        Barajas                796           Madrid           19.87   \n",
       "125        Barajas                796           Madrid            0.64   \n",
       "126        Barajas                796           Madrid           16.40   \n",
       "127        Barajas                796           Madrid            4.67   \n",
       "\n",
       "     densidad_por_km2  \n",
       "0            15323.29  \n",
       "1            43345.63  \n",
       "2            17850.85  \n",
       "3            21866.67  \n",
       "4            33051.61  \n",
       "..                ...  \n",
       "123           9795.45  \n",
       "124             89.88  \n",
       "125          11415.62  \n",
       "126            672.01  \n",
       "127           1577.09  \n",
       "\n",
       "[128 rows x 8 columns]"
      ]
     },
     "execution_count": 3,
     "metadata": {},
     "output_type": "execute_result"
    }
   ],
   "source": [
    "df = pd.DataFrame(data)\n",
    "df"
   ]
  },
  {
   "cell_type": "code",
   "execution_count": 4,
   "id": "80fd2e92",
   "metadata": {},
   "outputs": [
    {
     "data": {
      "text/plain": [
       "Index(['barrio_codigo', 'barrio_nombre', 'distrito_codigo', 'distrito_nombre',\n",
       "       'municipio_codigo', 'municipio_nombre', 'superficie_km2',\n",
       "       'densidad_por_km2'],\n",
       "      dtype='object')"
      ]
     },
     "execution_count": 4,
     "metadata": {},
     "output_type": "execute_result"
    }
   ],
   "source": [
    "df.columns"
   ]
  },
  {
   "cell_type": "code",
   "execution_count": 5,
   "id": "b34c6e38",
   "metadata": {},
   "outputs": [
    {
     "data": {
      "text/plain": [
       "(128, 8)"
      ]
     },
     "execution_count": 5,
     "metadata": {},
     "output_type": "execute_result"
    }
   ],
   "source": [
    "df.shape"
   ]
  },
  {
   "cell_type": "code",
   "execution_count": 7,
   "id": "338fd24d",
   "metadata": {
    "scrolled": true
   },
   "outputs": [
    {
     "name": "stdout",
     "output_type": "stream",
     "text": [
      "<class 'pandas.core.frame.DataFrame'>\n",
      "RangeIndex: 128 entries, 0 to 127\n",
      "Data columns (total 8 columns):\n",
      " #   Column            Non-Null Count  Dtype  \n",
      "---  ------            --------------  -----  \n",
      " 0   barrio_codigo     128 non-null    int64  \n",
      " 1   barrio_nombre     128 non-null    object \n",
      " 2   distrito_codigo   128 non-null    int64  \n",
      " 3   distrito_nombre   128 non-null    object \n",
      " 4   municipio_codigo  128 non-null    int64  \n",
      " 5   municipio_nombre  128 non-null    object \n",
      " 6   superficie_km2    128 non-null    float64\n",
      " 7   densidad_por_km2  128 non-null    float64\n",
      "dtypes: float64(2), int64(3), object(3)\n",
      "memory usage: 8.1+ KB\n"
     ]
    }
   ],
   "source": [
    "df.info()"
   ]
  },
  {
   "cell_type": "markdown",
   "id": "4aaa1a73",
   "metadata": {},
   "source": [
    "- ¿Hay registros duplicados?"
   ]
  },
  {
   "cell_type": "code",
   "execution_count": 8,
   "id": "30e03344",
   "metadata": {},
   "outputs": [
    {
     "data": {
      "text/plain": [
       "0"
      ]
     },
     "execution_count": 8,
     "metadata": {},
     "output_type": "execute_result"
    }
   ],
   "source": [
    "df.duplicated().sum()"
   ]
  },
  {
   "cell_type": "markdown",
   "id": "c27cc71f",
   "metadata": {},
   "source": [
    "- Análisis de los valores de cada columna"
   ]
  },
  {
   "cell_type": "code",
   "execution_count": 5,
   "id": "05bb0d37",
   "metadata": {},
   "outputs": [
    {
     "data": {
      "text/plain": [
       "array(['    Centro ', '    Arganzuela ', '    Retiro ', '    Salamanca ',\n",
       "       '    Chamartín ', '    Tetuan ', '    Chamberí ',\n",
       "       '    Fuencarral-El Pardo ', '    Moncloa-Aravaca ', '    Latina ',\n",
       "       '    Carabanchel ', '    Usera ', '    Puente de Vallecas ',\n",
       "       '    Moratalaz ', '    Ciudad Lineal ', '    Hortaleza ',\n",
       "       '    Villaverde ', '    Villa de Vallecas ', '    Vicálvaro ',\n",
       "       '    San Blas-Canillejas ', '    Barajas '], dtype=object)"
      ]
     },
     "execution_count": 5,
     "metadata": {},
     "output_type": "execute_result"
    }
   ],
   "source": [
    "df['distrito_nombre'].unique()"
   ]
  },
  {
   "cell_type": "code",
   "execution_count": 6,
   "id": "4eff2b28",
   "metadata": {},
   "outputs": [
    {
     "data": {
      "text/plain": [
       "array([796])"
      ]
     },
     "execution_count": 6,
     "metadata": {},
     "output_type": "execute_result"
    }
   ],
   "source": [
    "df['municipio_codigo'].unique()"
   ]
  },
  {
   "cell_type": "code",
   "execution_count": 7,
   "id": "0e93fecc",
   "metadata": {
    "scrolled": true
   },
   "outputs": [
    {
     "data": {
      "text/plain": [
       "array([79601, 79602, 79603, 79604, 79605, 79606, 79607, 79608, 79609,\n",
       "       79610, 79611, 79612, 79613, 79614, 79615, 79616, 79617, 79618,\n",
       "       79619, 79620, 79621])"
      ]
     },
     "execution_count": 7,
     "metadata": {},
     "output_type": "execute_result"
    }
   ],
   "source": [
    "df['distrito_codigo'].unique()"
   ]
  },
  {
   "cell_type": "code",
   "execution_count": 13,
   "id": "3f3a6b82",
   "metadata": {
    "scrolled": true
   },
   "outputs": [
    {
     "data": {
      "text/plain": [
       "array([796011, 796012, 796013, 796014, 796015, 796016, 796021, 796022,\n",
       "       796023, 796024, 796025, 796026, 796027, 796031, 796032, 796033,\n",
       "       796034, 796035, 796036, 796041, 796042, 796043, 796044, 796045,\n",
       "       796046, 796051, 796052, 796053, 796054, 796055, 796056, 796061,\n",
       "       796062, 796063, 796064, 796065, 796066, 796071, 796072, 796073,\n",
       "       796074, 796075, 796076, 796081, 796082, 796083, 796084, 796085,\n",
       "       796086, 796087, 796088, 796091, 796092, 796093, 796094, 796095,\n",
       "       796096, 796097, 796101, 796102, 796103, 796104, 796105, 796106,\n",
       "       796107, 796111, 796112, 796113, 796114, 796115, 796116, 796117,\n",
       "       796121, 796122, 796123, 796124, 796125, 796126, 796127, 796131,\n",
       "       796132, 796133, 796134, 796135, 796136, 796141, 796142, 796143,\n",
       "       796144, 796145, 796146, 796151, 796152, 796153, 796154, 796155,\n",
       "       796156, 796157, 796158, 796159, 796161, 796162, 796163, 796164,\n",
       "       796165, 796166, 796171, 796172, 796173, 796174, 796175, 796181,\n",
       "       796182, 796191, 796192, 796201, 796202, 796203, 796204, 796205,\n",
       "       796206, 796207, 796208, 796211, 796212, 796213, 796214, 796215])"
      ]
     },
     "execution_count": 13,
     "metadata": {},
     "output_type": "execute_result"
    }
   ],
   "source": [
    "df['barrio_codigo'].unique()"
   ]
  },
  {
   "cell_type": "markdown",
   "id": "a9362f7b",
   "metadata": {},
   "source": [
    "- Conteo del número de registros"
   ]
  },
  {
   "cell_type": "code",
   "execution_count": 15,
   "id": "1925400b",
   "metadata": {},
   "outputs": [
    {
     "data": {
      "text/plain": [
       "128"
      ]
     },
     "execution_count": 15,
     "metadata": {},
     "output_type": "execute_result"
    }
   ],
   "source": [
    "df['barrio_codigo'].count()"
   ]
  },
  {
   "cell_type": "code",
   "execution_count": 10,
   "id": "632b56e5",
   "metadata": {},
   "outputs": [
    {
     "data": {
      "text/plain": [
       "128"
      ]
     },
     "execution_count": 10,
     "metadata": {},
     "output_type": "execute_result"
    }
   ],
   "source": [
    "df['distrito_codigo'].count()"
   ]
  },
  {
   "cell_type": "markdown",
   "id": "e5bdadad",
   "metadata": {},
   "source": [
    "- Agrupación de las columnas de: distritos y densidad poblacional"
   ]
  },
  {
   "cell_type": "code",
   "execution_count": 6,
   "id": "46171ebf",
   "metadata": {},
   "outputs": [],
   "source": [
    "# Filtrar\n",
    "columnas_deseadas = [\"distrito_nombre\", \"densidad_por_km2\"]\n",
    "df_filtrado = df[columnas_deseadas]"
   ]
  },
  {
   "cell_type": "code",
   "execution_count": 7,
   "id": "d68791fd",
   "metadata": {},
   "outputs": [
    {
     "data": {
      "text/html": [
       "<div>\n",
       "<style scoped>\n",
       "    .dataframe tbody tr th:only-of-type {\n",
       "        vertical-align: middle;\n",
       "    }\n",
       "\n",
       "    .dataframe tbody tr th {\n",
       "        vertical-align: top;\n",
       "    }\n",
       "\n",
       "    .dataframe thead th {\n",
       "        text-align: right;\n",
       "    }\n",
       "</style>\n",
       "<table border=\"1\" class=\"dataframe\">\n",
       "  <thead>\n",
       "    <tr style=\"text-align: right;\">\n",
       "      <th></th>\n",
       "      <th>distrito_nombre</th>\n",
       "      <th>densidad_por_km2</th>\n",
       "    </tr>\n",
       "  </thead>\n",
       "  <tbody>\n",
       "    <tr>\n",
       "      <th>0</th>\n",
       "      <td>Centro</td>\n",
       "      <td>15323.29</td>\n",
       "    </tr>\n",
       "    <tr>\n",
       "      <th>1</th>\n",
       "      <td>Centro</td>\n",
       "      <td>43345.63</td>\n",
       "    </tr>\n",
       "    <tr>\n",
       "      <th>2</th>\n",
       "      <td>Centro</td>\n",
       "      <td>17850.85</td>\n",
       "    </tr>\n",
       "    <tr>\n",
       "      <th>3</th>\n",
       "      <td>Centro</td>\n",
       "      <td>21866.67</td>\n",
       "    </tr>\n",
       "    <tr>\n",
       "      <th>4</th>\n",
       "      <td>Centro</td>\n",
       "      <td>33051.61</td>\n",
       "    </tr>\n",
       "    <tr>\n",
       "      <th>...</th>\n",
       "      <td>...</td>\n",
       "      <td>...</td>\n",
       "    </tr>\n",
       "    <tr>\n",
       "      <th>123</th>\n",
       "      <td>Barajas</td>\n",
       "      <td>9795.45</td>\n",
       "    </tr>\n",
       "    <tr>\n",
       "      <th>124</th>\n",
       "      <td>Barajas</td>\n",
       "      <td>89.88</td>\n",
       "    </tr>\n",
       "    <tr>\n",
       "      <th>125</th>\n",
       "      <td>Barajas</td>\n",
       "      <td>11415.62</td>\n",
       "    </tr>\n",
       "    <tr>\n",
       "      <th>126</th>\n",
       "      <td>Barajas</td>\n",
       "      <td>672.01</td>\n",
       "    </tr>\n",
       "    <tr>\n",
       "      <th>127</th>\n",
       "      <td>Barajas</td>\n",
       "      <td>1577.09</td>\n",
       "    </tr>\n",
       "  </tbody>\n",
       "</table>\n",
       "<p>128 rows × 2 columns</p>\n",
       "</div>"
      ],
      "text/plain": [
       "    distrito_nombre  densidad_por_km2\n",
       "0           Centro           15323.29\n",
       "1           Centro           43345.63\n",
       "2           Centro           17850.85\n",
       "3           Centro           21866.67\n",
       "4           Centro           33051.61\n",
       "..              ...               ...\n",
       "123        Barajas            9795.45\n",
       "124        Barajas              89.88\n",
       "125        Barajas           11415.62\n",
       "126        Barajas             672.01\n",
       "127        Barajas            1577.09\n",
       "\n",
       "[128 rows x 2 columns]"
      ]
     },
     "execution_count": 7,
     "metadata": {},
     "output_type": "execute_result"
    }
   ],
   "source": [
    "df_filtrado"
   ]
  },
  {
   "cell_type": "markdown",
   "id": "233f1fcf",
   "metadata": {},
   "source": [
    "- Sumamos todos los registros de un mismo distrito"
   ]
  },
  {
   "cell_type": "code",
   "execution_count": 8,
   "id": "f531538d",
   "metadata": {},
   "outputs": [],
   "source": [
    "resultados = df_filtrado.groupby(\"distrito_nombre\")[\"densidad_por_km2\"].sum().reset_index()"
   ]
  },
  {
   "cell_type": "code",
   "execution_count": 9,
   "id": "c4b11d89",
   "metadata": {
    "scrolled": true
   },
   "outputs": [
    {
     "data": {
      "text/html": [
       "<div>\n",
       "<style scoped>\n",
       "    .dataframe tbody tr th:only-of-type {\n",
       "        vertical-align: middle;\n",
       "    }\n",
       "\n",
       "    .dataframe tbody tr th {\n",
       "        vertical-align: top;\n",
       "    }\n",
       "\n",
       "    .dataframe thead th {\n",
       "        text-align: right;\n",
       "    }\n",
       "</style>\n",
       "<table border=\"1\" class=\"dataframe\">\n",
       "  <thead>\n",
       "    <tr style=\"text-align: right;\">\n",
       "      <th></th>\n",
       "      <th>distrito_nombre</th>\n",
       "      <th>densidad_por_km2</th>\n",
       "    </tr>\n",
       "  </thead>\n",
       "  <tbody>\n",
       "    <tr>\n",
       "      <th>0</th>\n",
       "      <td>Arganzuela</td>\n",
       "      <td>171784.98</td>\n",
       "    </tr>\n",
       "    <tr>\n",
       "      <th>1</th>\n",
       "      <td>Barajas</td>\n",
       "      <td>23550.05</td>\n",
       "    </tr>\n",
       "    <tr>\n",
       "      <th>2</th>\n",
       "      <td>Carabanchel</td>\n",
       "      <td>155878.42</td>\n",
       "    </tr>\n",
       "    <tr>\n",
       "      <th>3</th>\n",
       "      <td>Centro</td>\n",
       "      <td>147742.49</td>\n",
       "    </tr>\n",
       "    <tr>\n",
       "      <th>4</th>\n",
       "      <td>Chamartín</td>\n",
       "      <td>109042.70</td>\n",
       "    </tr>\n",
       "    <tr>\n",
       "      <th>5</th>\n",
       "      <td>Chamberí</td>\n",
       "      <td>193097.77</td>\n",
       "    </tr>\n",
       "    <tr>\n",
       "      <th>6</th>\n",
       "      <td>Ciudad Lineal</td>\n",
       "      <td>158795.46</td>\n",
       "    </tr>\n",
       "    <tr>\n",
       "      <th>7</th>\n",
       "      <td>Fuencarral-El Pardo</td>\n",
       "      <td>78407.08</td>\n",
       "    </tr>\n",
       "    <tr>\n",
       "      <th>8</th>\n",
       "      <td>Hortaleza</td>\n",
       "      <td>61992.85</td>\n",
       "    </tr>\n",
       "    <tr>\n",
       "      <th>9</th>\n",
       "      <td>Latina</td>\n",
       "      <td>103553.22</td>\n",
       "    </tr>\n",
       "    <tr>\n",
       "      <th>10</th>\n",
       "      <td>Moncloa-Aravaca</td>\n",
       "      <td>60366.11</td>\n",
       "    </tr>\n",
       "    <tr>\n",
       "      <th>11</th>\n",
       "      <td>Moratalaz</td>\n",
       "      <td>96026.68</td>\n",
       "    </tr>\n",
       "    <tr>\n",
       "      <th>12</th>\n",
       "      <td>Puente de Vallecas</td>\n",
       "      <td>126847.22</td>\n",
       "    </tr>\n",
       "    <tr>\n",
       "      <th>13</th>\n",
       "      <td>Retiro</td>\n",
       "      <td>166858.77</td>\n",
       "    </tr>\n",
       "    <tr>\n",
       "      <th>14</th>\n",
       "      <td>Salamanca</td>\n",
       "      <td>166924.28</td>\n",
       "    </tr>\n",
       "    <tr>\n",
       "      <th>15</th>\n",
       "      <td>San Blas-Canillejas</td>\n",
       "      <td>97799.57</td>\n",
       "    </tr>\n",
       "    <tr>\n",
       "      <th>16</th>\n",
       "      <td>Tetuan</td>\n",
       "      <td>180760.91</td>\n",
       "    </tr>\n",
       "    <tr>\n",
       "      <th>17</th>\n",
       "      <td>Usera</td>\n",
       "      <td>130824.23</td>\n",
       "    </tr>\n",
       "    <tr>\n",
       "      <th>18</th>\n",
       "      <td>Vicálvaro</td>\n",
       "      <td>9165.34</td>\n",
       "    </tr>\n",
       "    <tr>\n",
       "      <th>19</th>\n",
       "      <td>Villa de Vallecas</td>\n",
       "      <td>13444.79</td>\n",
       "    </tr>\n",
       "    <tr>\n",
       "      <th>20</th>\n",
       "      <td>Villaverde</td>\n",
       "      <td>59731.73</td>\n",
       "    </tr>\n",
       "  </tbody>\n",
       "</table>\n",
       "</div>"
      ],
      "text/plain": [
       "             distrito_nombre  densidad_por_km2\n",
       "0                Arganzuela          171784.98\n",
       "1                   Barajas           23550.05\n",
       "2               Carabanchel          155878.42\n",
       "3                    Centro          147742.49\n",
       "4                 Chamartín          109042.70\n",
       "5                  Chamberí          193097.77\n",
       "6             Ciudad Lineal          158795.46\n",
       "7       Fuencarral-El Pardo           78407.08\n",
       "8                 Hortaleza           61992.85\n",
       "9                    Latina          103553.22\n",
       "10          Moncloa-Aravaca           60366.11\n",
       "11                Moratalaz           96026.68\n",
       "12       Puente de Vallecas          126847.22\n",
       "13                   Retiro          166858.77\n",
       "14                Salamanca          166924.28\n",
       "15      San Blas-Canillejas           97799.57\n",
       "16                   Tetuan          180760.91\n",
       "17                    Usera          130824.23\n",
       "18                Vicálvaro            9165.34\n",
       "19        Villa de Vallecas           13444.79\n",
       "20               Villaverde           59731.73"
      ]
     },
     "execution_count": 9,
     "metadata": {},
     "output_type": "execute_result"
    }
   ],
   "source": [
    "resultados"
   ]
  }
 ],
 "metadata": {
  "kernelspec": {
   "display_name": "Python 3 (ipykernel)",
   "language": "python",
   "name": "python3"
  },
  "language_info": {
   "codemirror_mode": {
    "name": "ipython",
    "version": 3
   },
   "file_extension": ".py",
   "mimetype": "text/x-python",
   "name": "python",
   "nbconvert_exporter": "python",
   "pygments_lexer": "ipython3",
   "version": "3.9.13"
  }
 },
 "nbformat": 4,
 "nbformat_minor": 5
}
